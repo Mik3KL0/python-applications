{
 "cells": [
  {
   "attachments": {},
   "cell_type": "markdown",
   "metadata": {},
   "source": [
    "# Class 1\n",
    "\n",
    "## Quick Python Recap\n",
    "---\n",
    "\n",
    "Python is a high-level, interpreted programming language that is widely used for various purposes, including web development, data science, and artificial intelligence. It is known for its readability, simplicity, and versatility. Here are some code snippets to give you a quick overview of Python:"
   ]
  },
  {
   "attachments": {},
   "cell_type": "markdown",
   "metadata": {},
   "source": [
    "### Print a string"
   ]
  },
  {
   "cell_type": "code",
   "execution_count": null,
   "metadata": {},
   "outputs": [],
   "source": [
    "print(\"Hello World!\")"
   ]
  },
  {
   "attachments": {},
   "cell_type": "markdown",
   "metadata": {},
   "source": [
    "or (only in Python Notebook)"
   ]
  },
  {
   "cell_type": "code",
   "execution_count": null,
   "metadata": {},
   "outputs": [],
   "source": [
    "\"Hello World!\""
   ]
  },
  {
   "attachments": {},
   "cell_type": "markdown",
   "metadata": {},
   "source": [
    "### Variables"
   ]
  },
  {
   "cell_type": "code",
   "execution_count": null,
   "metadata": {},
   "outputs": [],
   "source": [
    "name = \"John Doe\"\n",
    "print(\"My name is\", name)"
   ]
  },
  {
   "attachments": {},
   "cell_type": "markdown",
   "metadata": {},
   "source": [
    "### Lists"
   ]
  },
  {
   "cell_type": "code",
   "execution_count": null,
   "metadata": {},
   "outputs": [],
   "source": [
    "fruits = ['apple', 'banana', 'cherry']\n",
    "print(\"The first fruit in the list is\", fruits[0])\n"
   ]
  },
  {
   "attachments": {},
   "cell_type": "markdown",
   "metadata": {},
   "source": [
    "### Loops"
   ]
  },
  {
   "cell_type": "code",
   "execution_count": null,
   "metadata": {},
   "outputs": [],
   "source": [
    "for i in range(5):\n",
    "    print(i)\n"
   ]
  },
  {
   "attachments": {},
   "cell_type": "markdown",
   "metadata": {},
   "source": [
    "### Functions"
   ]
  },
  {
   "cell_type": "code",
   "execution_count": null,
   "metadata": {},
   "outputs": [],
   "source": [
    "def greet(name):\n",
    "    print(\"Hello, \" + name + \"!\")\n",
    "\n",
    "greet(\"John Doe\")"
   ]
  },
  {
   "attachments": {},
   "cell_type": "markdown",
   "metadata": {},
   "source": [
    "### Conditionals"
   ]
  },
  {
   "cell_type": "code",
   "execution_count": null,
   "metadata": {},
   "outputs": [],
   "source": [
    "age = 20\n",
    "if age >= 18:\n",
    "    print(\"You are eligible to vote.\")\n",
    "else:\n",
    "    print(\"You are not eligible to vote.\")"
   ]
  },
  {
   "attachments": {},
   "cell_type": "markdown",
   "metadata": {},
   "source": [
    "### <span style=\"color:red\">**TASK 1**</span>\n",
    "\n",
    "Write a program that prints the first 10 numbers of the Fibonacci sequence"
   ]
  },
  {
   "cell_type": "code",
   "execution_count": null,
   "metadata": {},
   "outputs": [],
   "source": [
    "# Code goes here"
   ]
  },
  {
   "attachments": {},
   "cell_type": "markdown",
   "metadata": {},
   "source": [
    "## Data Types\n",
    "---"
   ]
  },
  {
   "attachments": {},
   "cell_type": "markdown",
   "metadata": {},
   "source": [
    "In Python, there are several built-in data types that are used to store and manipulate different types of data. Here is a brief overview of some of the most commonly used data types in Python:\n",
    "\n",
    "Integer: A whole number that can be positive, negative, or zero. "
   ]
  },
  {
   "cell_type": "code",
   "execution_count": null,
   "metadata": {},
   "outputs": [],
   "source": [
    "a = 42\n",
    "\n",
    "print(type(a))\n",
    "print(a)"
   ]
  },
  {
   "attachments": {},
   "cell_type": "markdown",
   "metadata": {},
   "source": [
    "Float: A number with a decimal point."
   ]
  },
  {
   "cell_type": "code",
   "execution_count": null,
   "metadata": {},
   "outputs": [],
   "source": [
    "b = 3.14\n",
    "\n",
    "print(type(b))\n",
    "print(b)"
   ]
  },
  {
   "attachments": {},
   "cell_type": "markdown",
   "metadata": {},
   "source": [
    "String: A sequence of characters, either single or double-quoted."
   ]
  },
  {
   "cell_type": "code",
   "execution_count": null,
   "metadata": {},
   "outputs": [],
   "source": [
    "c = \"hello\"\n",
    "\n",
    "print(type(c))\n",
    "print(c)"
   ]
  },
  {
   "attachments": {},
   "cell_type": "markdown",
   "metadata": {},
   "source": [
    "Boolean: A value that can either be True or False."
   ]
  },
  {
   "cell_type": "code",
   "execution_count": null,
   "metadata": {},
   "outputs": [],
   "source": [
    "d = True\n",
    "\n",
    "print(type(d))\n",
    "print(d)"
   ]
  },
  {
   "attachments": {},
   "cell_type": "markdown",
   "metadata": {},
   "source": [
    "List: An ordered collection of items that can be of different types. Lists are defined using square brackets and can be modified."
   ]
  },
  {
   "cell_type": "code",
   "execution_count": null,
   "metadata": {},
   "outputs": [],
   "source": [
    "e = [1, 2, 3]\n",
    "\n",
    "print(type(e))\n",
    "print(e)"
   ]
  },
  {
   "attachments": {},
   "cell_type": "markdown",
   "metadata": {},
   "source": [
    "Tuple: An ordered, immutable collection of items that can be of different types. Tuples are defined using parentheses and cannot be modified."
   ]
  },
  {
   "cell_type": "code",
   "execution_count": null,
   "metadata": {},
   "outputs": [],
   "source": [
    "f = (1, 2, 3)\n",
    "\n",
    "print(type(f))\n",
    "print(f)"
   ]
  },
  {
   "attachments": {},
   "cell_type": "markdown",
   "metadata": {},
   "source": [
    "Dictionary: An unordered collection of key-value pairs, where the keys must be unique and the values can be of different types. Dictionaries are defined using curly braces and can be modified."
   ]
  },
  {
   "cell_type": "code",
   "execution_count": null,
   "metadata": {},
   "outputs": [],
   "source": [
    "g = {\"name\": \"John\", \"age\": 30}\n",
    "\n",
    "print(type(g))\n",
    "print(g)"
   ]
  },
  {
   "attachments": {},
   "cell_type": "markdown",
   "metadata": {},
   "source": [
    "Set: An unordered collection of unique items, which can be of different types. Sets are defined using curly braces with no repeated elements."
   ]
  },
  {
   "cell_type": "code",
   "execution_count": null,
   "metadata": {},
   "outputs": [],
   "source": [
    "h = {1, 1, 2, 3}\n",
    "\n",
    "print(type(h))\n",
    "print(h)"
   ]
  },
  {
   "attachments": {},
   "cell_type": "markdown",
   "metadata": {},
   "source": [
    "None: A special type that represents the absence of a value. It is often used as a default value for variables that have not yet been assigned a value"
   ]
  },
  {
   "cell_type": "code",
   "execution_count": null,
   "metadata": {},
   "outputs": [],
   "source": [
    "i = None\n",
    "\n",
    "print(type(i))\n",
    "print(i)"
   ]
  },
  {
   "cell_type": "markdown",
   "metadata": {},
   "source": [
    "## Libraries and Modules\n",
    "---"
   ]
  },
  {
   "attachments": {},
   "cell_type": "markdown",
   "metadata": {},
   "source": [
    "In Python, a module is a collection of functions, classes, and variables that can be used in other programs. Modules allow you to reuse code and build larger and more complex applications. There are two ways to import modules in Python:\n",
    "\n",
    "Importing the entire module: You can import an entire module by using the import statement, followed by the name of the module. For example, to import the math module, you would use the following code:"
   ]
  },
  {
   "cell_type": "code",
   "execution_count": null,
   "metadata": {},
   "outputs": [],
   "source": [
    "import math\n",
    "print(math.pi)"
   ]
  },
  {
   "attachments": {},
   "cell_type": "markdown",
   "metadata": {},
   "source": [
    "Importing specific elements from a module: Instead of importing an entire module, you can also import specific elements from a module, such as functions or classes, by using the from statement, followed by the name of the module and the elements you want to import, separated by a comma. For example, to import the sqrt function from the math module, you would use the following code:"
   ]
  },
  {
   "cell_type": "code",
   "execution_count": null,
   "metadata": {},
   "outputs": [],
   "source": [
    "from math import sqrt\n",
    "print(sqrt(4))"
   ]
  },
  {
   "attachments": {},
   "cell_type": "markdown",
   "metadata": {},
   "source": [
    "You can also give an alias to a module or an imported element to make it easier to reference in your code. For example:"
   ]
  },
  {
   "cell_type": "code",
   "execution_count": null,
   "metadata": {},
   "outputs": [],
   "source": [
    "import math as m"
   ]
  },
  {
   "cell_type": "markdown",
   "metadata": {},
   "source": [
    "Once you have imported a module, you can use its functions, classes, and variables by referring to them using the name of the module or the alias you have given to it. For example, to use the sqrt function from the math module, you would use the following code:"
   ]
  },
  {
   "cell_type": "code",
   "execution_count": null,
   "metadata": {},
   "outputs": [],
   "source": [
    "result = m.sqrt(16)\n",
    "result"
   ]
  },
  {
   "attachments": {},
   "cell_type": "markdown",
   "metadata": {},
   "source": [
    "## Pandas\n",
    "---\n",
    "\n",
    "Pandas is a popular data analysis library for Python that provides fast, flexible, and expressive data structures for working with structured data. It is designed to make it easy to manipulate and analyze data, especially large and complex datasets. Pandas is widely used in data analysis, data cleaning, and data preprocessing tasks.\n",
    "\n",
    "Here are a few examples of how Pandas can be used:\n",
    "\n",
    "- Load and manipulate data: Pandas provides functions to load data from various sources, such as CSV files, Excel spreadsheets, SQL databases, and APIs, and store the data in a data structure called a DataFrame. You can then manipulate the data using Pandas methods, such as filtering, grouping, pivoting, and aggregating.\n",
    "\n",
    "- Clean and preprocess data: Pandas provides methods for handling missing values, dealing with outliers, and transforming data into different formats. You can also use Pandas to standardize or normalize data.\n",
    "\n",
    "- Explore and visualize data: Pandas provides functions for descriptive statistics and data visualization, such as calculating summary statistics, generating histograms, and creating scatter plots. These functions can help you quickly understand the distribution and relationships in your data.\n",
    "\n",
    "- Perform statistical analysis: Pandas provides functions for performing statistical analysis, such as regression, correlation, and hypothesis testing. These functions make it easy to perform complex statistical analysis on your data.\n",
    "\n",
    "- These are just a few examples of how you can use Pandas to work with data in Python. Whether you are working with large financial datasets or smaller datasets for educational purposes, Pandas can be a valuable tool for data analysis and manipulation."
   ]
  },
  {
   "cell_type": "code",
   "execution_count": null,
   "metadata": {},
   "outputs": [],
   "source": [
    "import pandas as pd\n",
    "import matplotlib.pyplot as plt\n",
    "\n",
    "# Load the data into a DataFrame\n",
    "df = pd.read_csv('european_capitals.csv')\n",
    "\n",
    "# Print the first 5 rows of the DataFrame\n",
    "df.head()"
   ]
  },
  {
   "cell_type": "code",
   "execution_count": null,
   "metadata": {},
   "outputs": [],
   "source": [
    "print(df.loc[1])\n",
    "print(\"\\n\")\n",
    "print(df.loc[1, 'Country'])"
   ]
  },
  {
   "attachments": {},
   "cell_type": "markdown",
   "metadata": {},
   "source": [
    "## Requests\n",
    "---\n",
    "\n",
    "#### How does the requesting work?\n",
    "\n",
    "The request is sent from the client to the server. The client is the computer that is requesting the data. The server is the computer that is providing the data. The client sends a request to the server, and the server responds with the requested data.\n",
    "\n",
    "<details>\n",
    "  <summary style=\"margin-block: 16px; font-size: 1.5rem;\">OSI Model</summary>\n",
    "  The OSI (Open Systems Interconnection) model is a conceptual framework used to describe the communication process between networked devices. The model is divided into seven layers, each responsible for a specific aspect of network communication. When a user creates a request to a server, the request goes through each of the layers of the OSI model.\n",
    "\n",
    "At the Application layer, the user's application creates a request that includes the desired action, such as requesting a web page. The request is then passed to the Presentation layer, where the data is formatted into a standard representation that can be understood by both the sender and receiver.\n",
    "\n",
    "The Session layer establishes, maintains, and terminates connections between the user's device and the server. Next, the Transport layer breaks the request into smaller packets, assigns sequence numbers to each packet, and ensures that they are transmitted in the correct order.\n",
    "\n",
    "The Network layer is responsible for routing the packets across the network, using logical addressing to identify the destination device. The Data Link layer is responsible for moving the packets between adjacent devices, using physical addressing. Finally, the Physical layer defines the physical medium over which the packets are transmitted, such as Ethernet or Wi-Fi.\n",
    "\n",
    "When the request reaches the server, the process is reversed. The Physical layer receives the packets, which are then processed by the Data Link layer, the Network layer, and so on, until the request reaches the Application layer on the server. The server then sends a response back to the user, which goes through the same process in reverse order.\n",
    "</details>\n",
    "\n",
    "\n",
    "\n",
    "<div style=\"text-align:center\">\n",
    "  <img src=\"https://shardeum.org/blog/wp-content/uploads/2022/09/The-Physical-Layer-in-OSI-Model-Explained-thumbnail.jpg\"  style=\"width:700px\"/>\n",
    "</div>\n",
    "\n",
    "The requests library in Python is a popular library for making HTTP requests, which allows you to send HTTP/1.1 requests. It abstracts the complexities of making requests behind a simple API, allowing you to send HTTP/1.1 requests using Python.\n",
    "\n",
    "Here are a few key features of the `requests` library:\n",
    "\n",
    "- Easy to use API: The requests library provides a simple and intuitive API for sending HTTP requests and handling HTTP responses. You can send GET, POST, PUT, DELETE, and other HTTP requests with just a few lines of code.\n",
    "\n",
    "- Support for different types of data: The requests library allows you to send and receive data in different formats, including JSON, XML, and plain text. You can also send and receive binary data, such as images and files.\n",
    "\n",
    "- Support for authentication and security: The requests library supports various types of authentication and security, including basic and digest authentication, SSL/TLS encryption, and session management.\n",
    "\n",
    "- Customizable: The requests library provides a variety of options for customizing HTTP requests, such as setting headers, cookies, proxies, and timeouts.\n",
    "\n",
    "[Documentation](https://requests.readthedocs.io/en/master/)\n",
    "\n",
    "Here is a simple example of how to use the requests library to send a GET request and retrieve data from an API:"
   ]
  },
  {
   "attachments": {},
   "cell_type": "markdown",
   "metadata": {},
   "source": [
    "### GET Method"
   ]
  },
  {
   "cell_type": "code",
   "execution_count": null,
   "metadata": {},
   "outputs": [],
   "source": [
    "import requests\n",
    "import json\n",
    "\n",
    "# Send a GET request to the API\n",
    "response = requests.get('https://jsonplaceholder.typicode.com/posts/1')\n",
    "\n",
    "# Check the status code of the response\n",
    "if response.status_code == 200:\n",
    "    # Retrieve the data from the response\n",
    "    data = response.json()\n",
    "    \n",
    "    # Print the data\n",
    "    print(json.dumps(\n",
    "    data,\n",
    "    sort_keys=True,\n",
    "    indent=4,\n",
    "    separators=(',', ': ')\n",
    "))\n",
    "\n",
    "else:\n",
    "    # Handle any errors\n",
    "    print('Error:', response.status_code)"
   ]
  },
  {
   "attachments": {},
   "cell_type": "markdown",
   "metadata": {},
   "source": [
    "### POST Method\n",
    "This method is used to send data to the server, for example, customer information, file upload, etc. Using the data parameter, we can define what data to send to the server.\n",
    "\n",
    "We can send data in different formats, such as JSON, XML, plain text, etc. The data parameter accepts a dictionary, a list of tuples, bytes, or a file-like object. If you want to send data in JSON format, you can use the json parameter instead of the data parameter."
   ]
  },
  {
   "cell_type": "code",
   "execution_count": null,
   "metadata": {},
   "outputs": [],
   "source": [
    "# Send a POST request to the API\n",
    "response = requests.post('https://jsonplaceholder.typicode.com/posts', data = {'title': 'Test POST method', 'body': 'This is a test of the POST method', 'userId': 1})\n",
    "\n",
    "# Check the status code of the response\n",
    "if response.status_code == 201:\n",
    "    # Retrieve the data from the response\n",
    "    data = response.json()\n",
    "    \n",
    "    # Print the data\n",
    "    print(json.dumps(\n",
    "    data,\n",
    "    sort_keys=True,\n",
    "    indent=4,\n",
    "    separators=(',', ': ')\n",
    "))\n",
    "\n",
    "else:\n",
    "    # Handle any errors\n",
    "    print('Error:', response.status_code)\n"
   ]
  },
  {
   "attachments": {},
   "cell_type": "markdown",
   "metadata": {},
   "source": [
    "## ETL Process (Extract, Transform, Load)\n",
    "---\n",
    "\n",
    "ETL stands for Extract, Transform, Load and refers to the process of extracting data from one or more sources, transforming it into a format suitable for analysis, and loading it into a target database or data warehouse. The following is a simple demonstration of ETL process in Python using the popular libraries Pandas or SQLAlchemy.\n"
   ]
  },
  {
   "attachments": {},
   "cell_type": "markdown",
   "metadata": {},
   "source": [
    "### Extract\n"
   ]
  },
  {
   "attachments": {},
   "cell_type": "markdown",
   "metadata": {},
   "source": [
    "The first step in the ETL process is to extract data from one or more sources. We will extract data from the API request to the OpenWeatherMap API. First load the capital cities of the world from the `country-capitals.csv` file into a Pandas DataFrame. \n"
   ]
  },
  {
   "cell_type": "code",
   "execution_count": null,
   "metadata": {},
   "outputs": [],
   "source": [
    "import os\n",
    "from dotenv import load_dotenv\n",
    "\n",
    "\n",
    "load_dotenv()\n",
    "\n",
    "OPEN_WEATHER_API_KEY = os.getenv('OPEN_WEATHER_API_KEY')\n",
    "DAILY_FORECAST_URL = f\"https://api.openweathermap.org/data/2.5/forecast\"\n"
   ]
  },
  {
   "cell_type": "code",
   "execution_count": null,
   "metadata": {},
   "outputs": [],
   "source": [
    "def daily_forecast_url_builder(lat, lon):\n",
    "    return f\"{DAILY_FORECAST_URL}?lat={lat}&lon={lon}&appid={OPEN_WEATHER_API_KEY}&units=metric\""
   ]
  },
  {
   "cell_type": "code",
   "execution_count": null,
   "metadata": {},
   "outputs": [],
   "source": [
    "def get_daily_forecast(lat, lon, cnt):\n",
    "    url = daily_forecast_url_builder(lat, lon, cnt)\n",
    "    response = requests.get(url)\n",
    "    \n",
    "    if response.status_code == 200:\n",
    "        return response.json()\n",
    "    else:\n",
    "        return None"
   ]
  },
  {
   "cell_type": "code",
   "execution_count": null,
   "metadata": {},
   "outputs": [],
   "source": [
    "eu_capital_cities = pd.read_csv('european_capitals.csv')\n",
    "\n",
    "for index, row  in eu_capital_cities.iterrows():\n",
    "  print(row['Country'], row['Capital'])"
   ]
  },
  {
   "attachments": {},
   "cell_type": "markdown",
   "metadata": {},
   "source": [
    "Then, we will use the requests library to make a GET request to the OpenWeatherMap API to get the current weather data for each city. The API request will return a JSON response, which we will convert into a Pandas DataFrame. "
   ]
  },
  {
   "cell_type": "code",
   "execution_count": null,
   "metadata": {},
   "outputs": [],
   "source": [
    "url = daily_forecast_url_builder(52.520008, 13.404954)\n",
    "res = requests.get(url).json()"
   ]
  },
  {
   "cell_type": "code",
   "execution_count": null,
   "metadata": {},
   "outputs": [],
   "source": [
    "res"
   ]
  },
  {
   "attachments": {},
   "cell_type": "markdown",
   "metadata": {},
   "source": [
    "Make a loop to iterate through the cities and make a GET request to the OpenWeatherMap API for each city. The API request will return a JSON response, which we will convert into a Pandas DataFrame."
   ]
  },
  {
   "cell_type": "code",
   "execution_count": null,
   "metadata": {},
   "outputs": [],
   "source": [
    "city_weather_list = []\n",
    "\n",
    "for index, row in eu_capital_cities[0:10].iterrows():\n",
    "    url = daily_forecast_url_builder(row['Latitude'], row['Longitude'])\n",
    "    res = requests.get(url).json()\n",
    "    for i, day in enumerate(res['list']):\n",
    "        city_weather_list.append({\n",
    "            'City': row['Capital'],\n",
    "            'Country': row['Country'],\n",
    "            'Date': day['dt_txt'],\n",
    "            'Temperature': day['main']['temp'],\n",
    "            'Humidity': day['main']['humidity'],\n",
    "            'Wind Speed': day['wind']['speed']\n",
    "        })\n",
    "        \n",
    "city_weather_df = pd.DataFrame(city_weather_list)\n",
    "        "
   ]
  },
  {
   "attachments": {},
   "cell_type": "markdown",
   "metadata": {},
   "source": [
    "Our final DataFrame:"
   ]
  },
  {
   "cell_type": "code",
   "execution_count": null,
   "metadata": {},
   "outputs": [],
   "source": [
    "city_weather_df"
   ]
  },
  {
   "attachments": {},
   "cell_type": "markdown",
   "metadata": {},
   "source": [
    "Save the DataFrame to a CSV file using the `to_csv()` method."
   ]
  },
  {
   "attachments": {},
   "cell_type": "markdown",
   "metadata": {},
   "source": [
    "### Transform\n",
    "\n",
    "The second step in the ETL process is to transform the data into a format suitable for analysis. We will transform by stripping the time from the date column. We will also find the minimum, maximum, and average temperature for Tirana."
   ]
  },
  {
   "cell_type": "code",
   "execution_count": null,
   "metadata": {},
   "outputs": [],
   "source": [
    "# # Strip time from date\n",
    "city_weather_df['Date'] = city_weather_df['Date'].str.split(' ').str[0]"
   ]
  },
  {
   "cell_type": "code",
   "execution_count": null,
   "metadata": {},
   "outputs": [],
   "source": [
    "# Find the average, min and max temperature for Tirana for each day\n",
    "city_weather_df[city_weather_df['City'] == 'Tirana'].groupby('Date').agg({\n",
    "    'Temperature': ['mean', 'min', 'max']\n",
    "}).plot()"
   ]
  },
  {
   "attachments": {},
   "cell_type": "markdown",
   "metadata": {},
   "source": [
    "### <span style=\"color:red\">**TASK 2**</span>\n",
    "\n",
    "- Find a city with the highest average temperature. What is the name of the city and what is the average temperature?\n",
    "- Find a city in the DataFrame that has the most often cloudy weather. What is the name of the city and what is the percentage of cloudy days?"
   ]
  },
  {
   "cell_type": "code",
   "execution_count": null,
   "metadata": {},
   "outputs": [],
   "source": [
    "# Code goes here"
   ]
  },
  {
   "attachments": {},
   "cell_type": "markdown",
   "metadata": {},
   "source": [
    "### Load\n",
    "\n",
    "Here's an example of how you could save a Pandas DataFrame to a SQLite database using SQLAlchemy, and then read it back:\n"
   ]
  },
  {
   "cell_type": "code",
   "execution_count": null,
   "metadata": {},
   "outputs": [],
   "source": [
    "city_weather_df.to_csv('european_capitals_weather.csv', index=False)"
   ]
  },
  {
   "cell_type": "code",
   "execution_count": null,
   "metadata": {},
   "outputs": [],
   "source": [
    "from sqlalchemy import create_engine, text\n",
    "\n",
    "# Create an SQLite database engine\n",
    "engine = create_engine('sqlite:///weather.db')\n",
    "city_weather_df.to_sql('weather_data', engine, if_exists='replace')\n",
    "\n",
    "\n",
    "query = 'SELECT * FROM weather_data'\n",
    "\n",
    "city_weather_df_from_sql = pd.read_sql_query(sql=text(query), con=engine.connect())\n"
   ]
  },
  {
   "attachments": {},
   "cell_type": "markdown",
   "metadata": {},
   "source": [
    "In this example, the pandas library is used to create a DataFrame and save it to a SQLite database using SQLAlchemy. \n",
    "\n",
    "The `create_engine` function is used to create a SQLAlchemy engine that connects to the SQLite database `weather.db`. The `city_weather_df.to_sql` method is used to save the DataFrame to a table named `weather_data` in the database. If the table already exists, it will be replaced. \n",
    " \n",
    "The `pd.read_sql_table` function is used to read the data from the SQLite database back into a DataFrame, and the print function is used to display the contents of the DataFrame."
   ]
  },
  {
   "cell_type": "code",
   "execution_count": null,
   "metadata": {},
   "outputs": [],
   "source": [
    "city_weather_df_from_sql"
   ]
  },
  {
   "attachments": {},
   "cell_type": "markdown",
   "metadata": {},
   "source": [
    "### <span style=\"color:red\">**TASK 3**</span>\n",
    "\n",
    "- Register to Alpha Vantage API and get your API key.\n",
    "- Make a GET request to the Alpha Vantage API to get the daily time series for the following companies: \n",
    "  - Apple\n",
    "  - Microsoft\n",
    "  - Amazon\n",
    "  - Facebook\n",
    "  - Google\n",
    "- The API request will return a JSON response, which you will convert into a Pandas DataFrame.\n",
    "- Save the DataFrame to a CSV file using the `to_csv()` method.\n"
   ]
  },
  {
   "cell_type": "code",
   "execution_count": null,
   "metadata": {},
   "outputs": [],
   "source": [
    "# Code goes here"
   ]
  },
  {
   "attachments": {},
   "cell_type": "markdown",
   "metadata": {},
   "source": [
    "### <span style=\"color:red\">**HOMEWORK**</span>\n",
    "\n",
    "Use [Alpha Vantage](https://www.alphavantage.co/documentation/) API to get the stock data from the previous year for the 10 companies of your choice. \n",
    "\n",
    "Calculate returns for each company and sort the companies by the highest return. Save your findings in the data to a SQLite database.\n",
    "\n",
    "\n",
    "## To broaden your knowledge\n",
    "---\n",
    "### Python\n",
    "- [Python for Everybody](https://www.py4e.com/)\n",
    "\n",
    "### APIs\n",
    "- [Placeholder API](https://jsonplaceholder.typicode.com/)\n",
    "- [APIs for Beginners](https://www.youtube.com/watch?v=s7wmiS2mSXY)\n",
    "- [Many open APIs you can try yourself](https://rapidapi.com/hub)\n",
    "\n",
    "### References\n",
    "\n",
    "- https://shardeum.org/blog/physical-layer-in-osi-model/"
   ]
  }
 ],
 "metadata": {
  "kernelspec": {
   "display_name": "Python 3",
   "language": "python",
   "name": "python3"
  },
  "language_info": {
   "codemirror_mode": {
    "name": "ipython",
    "version": 3
   },
   "file_extension": ".py",
   "mimetype": "text/x-python",
   "name": "python",
   "nbconvert_exporter": "python",
   "pygments_lexer": "ipython3",
   "version": "3.9.15"
  },
  "orig_nbformat": 4,
  "vscode": {
   "interpreter": {
    "hash": "397704579725e15f5c7cb49fe5f0341eb7531c82d19f2c29d197e8b64ab5776b"
   }
  }
 },
 "nbformat": 4,
 "nbformat_minor": 2
}
