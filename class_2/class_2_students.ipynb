{
 "cells": [
  {
   "attachments": {},
   "cell_type": "markdown",
   "metadata": {},
   "source": [
    "# Class 2\n",
    "\n",
    "## Websraping\n",
    "---\n",
    "\n",
    "Web scraping is the process of extracting data from websites automatically, typically using software or scripts, rather than by manual copying and pasting. This involves accessing the HTML code of a webpage and identifying the specific data to be extracted, such as text, images, or other media. Web scraping can be used for a variety of purposes, including data analysis, market research, and content aggregation. However, it is important to note that web scraping can raise ethical and legal concerns, particularly if it involves accessing or using proprietary or copyrighted information without permission."
   ]
  },
  {
   "cell_type": "markdown",
   "metadata": {},
   "source": [
    "### DevTools and site source code\n",
    "\n",
    "- Keyboard: `Ctrl + Shift + I`, except\n",
    "    - Internet Explorer and Edge: `F12`\n",
    "    - macOS: `⌘ + ⌥ + I`\n",
    "- Menu bar:\n",
    "    - Firefox: Menu   ➤ Web Developer ➤ Toggle Tools, or Tools ➤ Web Developer ➤ Toggle Tools\n",
    "    - Chrome: More tools ➤ Developer tools\n",
    "    - Safari: Develop ➤ Show Web Inspector. If you can't see the Develop menu, go to Safari ➤ Preferences ➤ Advanced, and check the Show Develop menu in menu bar checkbox.\n",
    "    -  Opera: Developer ➤ Developer tools\n",
    "- Context menu: Press-and-hold/right-click an item on a webpage (Ctrl-click on the Mac), and choose Inspect Element from the context menu that appears. (An added bonus: this method straight-away highlights the code of the element you right-clicked.)\n",
    "\n",
    "These tools are necessary for front-end development. They have use cases in Web Scraping, since we are going to use UI interactions.\n",
    "\n",
    "[Link to visit](https://pl.wikipedia.org/wiki/Wikipedia:Strona_g%C5%82%C3%B3wna)\n",
    "\n",
    "[DevTools in different browsers](https://developer.mozilla.org/en-US/docs/Learn/Common_questions/What_are_browser_developer_tools)"
   ]
  },
  {
   "attachments": {},
   "cell_type": "markdown",
   "metadata": {},
   "source": [
    "## HTML\n",
    "\n",
    "All websites use HTML to work. \n",
    "Browser then interprets HTML file and creates DOM. Pure HTML websites look like skeleton [Example](http://info.cern.ch/hypertext/WWW/TheProject.html)\n",
    "By adding CSS website have styles, logic is created in a Javascript layer\n",
    "\n",
    "### Attributes\n",
    "\n",
    "Attributes for HTML tags [Global attributes](https://developer.mozilla.org/en-US/docs/Web/HTML/Global_attributes).\n",
    "\n",
    "Accessibility:\n",
    "- [Highly Accessible Website - All Public Websites](https://www.gov.pl/)\n",
    "\n",
    "### HTML5 and semantic tags\n",
    "\n",
    "Semantic elements of websites [Semantics](https://developer.mozilla.org/en-US/docs/Glossary/Semantics)\n",
    "\n",
    "### Differences of websites for every country\n",
    "\n",
    "Compare these 3 websites: they are owned by a single company but there are differences on them - website is maintained differently for each region\n",
    "\n",
    "- https://www.ebay.de/\n",
    "- https://www.ebay.pl/\n",
    "- https://www.ebay.com/\n",
    "\n",
    "### Protection against web scraping\n",
    "\n",
    "- https://datadome.co/bot-management-protection/scraper-crawler-bots-how-to-protect-your-website-against-intensive-scraping\n",
    "- https://medium.com/swlh/how-to-protect-your-web-application-from-web-scraping-cc01ec7ddadd\n",
    "- Example https://www.x-kom.pl/"
   ]
  },
  {
   "cell_type": "markdown",
   "metadata": {},
   "source": [
    "## E-commerce website"
   ]
  },
  {
   "cell_type": "markdown",
   "metadata": {},
   "source": [
    "### Import requests library"
   ]
  },
  {
   "cell_type": "code",
   "execution_count": 1,
   "metadata": {},
   "outputs": [],
   "source": [
    "import requests\n",
    "import pandas as pd\n",
    "import matplotlib.pyplot as plt\n",
    "from bs4 import BeautifulSoup, element\n",
    "import time\n",
    "from selenium.webdriver.chrome.service import Service\n",
    "from webdriver_manager.chrome import ChromeDriverManager"
   ]
  },
  {
   "cell_type": "code",
   "execution_count": 2,
   "metadata": {},
   "outputs": [],
   "source": [
    "url = 'https://webscraper.io/test-sites/e-commerce/allinone'\n",
    "res = requests.get(url)"
   ]
  },
  {
   "attachments": {},
   "cell_type": "markdown",
   "metadata": {},
   "source": [
    "We just made a request. [More about HTTP methods](https://developer.mozilla.org/en-US/docs/Web/HTTP/Methods)\n",
    "To communicate with the source and retrieve resources we need to perform GET request.\n",
    "`res` is a Response object. Hover your pointer over `res` variable."
   ]
  },
  {
   "cell_type": "markdown",
   "metadata": {},
   "source": [
    "Create BeautifulSoup object from received HTML source file"
   ]
  },
  {
   "cell_type": "code",
   "execution_count": 3,
   "metadata": {},
   "outputs": [],
   "source": [
    "soup = BeautifulSoup(res.content)"
   ]
  },
  {
   "attachments": {},
   "cell_type": "markdown",
   "metadata": {},
   "source": [
    "This is a popular Python library used for web scraping. It allows you to parse HTML and XML documents, and navigate through their contents in a structured way.\n",
    "\n",
    "\n",
    "#### Get page title\n",
    "\n",
    "It's the same title as we can find in our Tab name in browser"
   ]
  },
  {
   "cell_type": "code",
   "execution_count": 4,
   "metadata": {},
   "outputs": [
    {
     "data": {
      "text/plain": [
       "<title>Web Scraper Test Sites</title>"
      ]
     },
     "execution_count": 4,
     "metadata": {},
     "output_type": "execute_result"
    }
   ],
   "source": [
    "soup.title"
   ]
  },
  {
   "cell_type": "code",
   "execution_count": 5,
   "metadata": {},
   "outputs": [
    {
     "data": {
      "text/plain": [
       "'Web Scraper Test Sites'"
      ]
     },
     "execution_count": 5,
     "metadata": {},
     "output_type": "execute_result"
    }
   ],
   "source": [
    "soup.title.get_text()"
   ]
  },
  {
   "attachments": {},
   "cell_type": "markdown",
   "metadata": {},
   "source": [
    "#### Difference between `find` and `find_all` methods\n",
    "`find` returns first found item that matches given argument"
   ]
  },
  {
   "cell_type": "code",
   "execution_count": 6,
   "metadata": {},
   "outputs": [
    {
     "data": {
      "text/plain": [
       "<h2>Top items being scraped right now</h2>"
      ]
     },
     "execution_count": 6,
     "metadata": {},
     "output_type": "execute_result"
    }
   ],
   "source": [
    "h2 = soup.find('h2')\n",
    "h2"
   ]
  },
  {
   "cell_type": "code",
   "execution_count": 7,
   "metadata": {},
   "outputs": [
    {
     "data": {
      "text/plain": [
       "bs4.element.Tag"
      ]
     },
     "execution_count": 7,
     "metadata": {},
     "output_type": "execute_result"
    }
   ],
   "source": [
    "type(h2)"
   ]
  },
  {
   "cell_type": "markdown",
   "metadata": {},
   "source": [
    "`find_all` returns list of all tags that match given argument"
   ]
  },
  {
   "cell_type": "code",
   "execution_count": 8,
   "metadata": {},
   "outputs": [
    {
     "name": "stdout",
     "output_type": "stream",
     "text": [
      "<class 'bs4.element.ResultSet'>\n"
     ]
    },
    {
     "data": {
      "text/plain": [
       "[<h1>Test Sites</h1>, <h1>E-commerce training site</h1>]"
      ]
     },
     "execution_count": 8,
     "metadata": {},
     "output_type": "execute_result"
    }
   ],
   "source": [
    "h1s = soup.find_all('h1')\n",
    "print(type(h1s))\n",
    "\n",
    "h1s"
   ]
  },
  {
   "cell_type": "code",
   "execution_count": 9,
   "metadata": {},
   "outputs": [
    {
     "name": "stdout",
     "output_type": "stream",
     "text": [
      "Test Sites\n",
      "E-commerce training site\n"
     ]
    }
   ],
   "source": [
    "# Define the type of the iterated value\n",
    "h1: element.Tag\n",
    "\n",
    "for h1 in h1s:\n",
    "    print(h1.get_text())"
   ]
  },
  {
   "cell_type": "markdown",
   "metadata": {},
   "source": [
    "#### Collect all links in Sidebar navigation\n",
    "\n",
    "`find` and `find_all` methods receive an optional second argument.\n",
    "\n",
    "In this argument we pass a dictionary with defined HTML tag attributes we are looking for."
   ]
  },
  {
   "cell_type": "code",
   "execution_count": 10,
   "metadata": {},
   "outputs": [],
   "source": [
    "# Get only the wrapper of side-menu\n",
    "sidemenu = soup.find('ul', {'id': 'side-menu'})"
   ]
  },
  {
   "cell_type": "markdown",
   "metadata": {},
   "source": [
    "It is possible to execute BeautifulSoup methods on a piece of taken HTML.\n",
    "\n",
    "We are working on a `side-menu` list. Let's take a peek how does it look like"
   ]
  },
  {
   "cell_type": "code",
   "execution_count": 11,
   "metadata": {},
   "outputs": [
    {
     "data": {
      "text/plain": [
       "<ul class=\"nav\" id=\"side-menu\">\n",
       "<li class=\"active\">\n",
       "<a href=\"/test-sites/e-commerce/allinone\">Home</a>\n",
       "</li>\n",
       "<li>\n",
       "<a class=\"category-link\" href=\"/test-sites/e-commerce/allinone/phones\">\n",
       "\t\t\t\t\tPhones\n",
       "\t\t\t\t\t<span class=\"fa arrow\"></span>\n",
       "</a>\n",
       "</li>\n",
       "<li>\n",
       "<a class=\"category-link\" href=\"/test-sites/e-commerce/allinone/computers\">\n",
       "\t\t\t\t\tComputers\n",
       "\t\t\t\t\t<span class=\"fa arrow\"></span>\n",
       "</a>\n",
       "</li>\n",
       "</ul>"
      ]
     },
     "execution_count": 11,
     "metadata": {},
     "output_type": "execute_result"
    }
   ],
   "source": [
    "sidemenu"
   ]
  },
  {
   "cell_type": "markdown",
   "metadata": {},
   "source": [
    "Every tag can have attributes like `class`, `id`, `aria-*` or `data-*` which is additional information for the browser on how it should be presented.\n",
    "\n",
    "In our case it is really useful, because we can search for HTML tags with certain attributes."
   ]
  },
  {
   "cell_type": "code",
   "execution_count": 12,
   "metadata": {},
   "outputs": [
    {
     "data": {
      "text/plain": [
       "{'class': ['nav'], 'id': 'side-menu'}"
      ]
     },
     "execution_count": 12,
     "metadata": {},
     "output_type": "execute_result"
    }
   ],
   "source": [
    "sidemenu.attrs"
   ]
  },
  {
   "cell_type": "code",
   "execution_count": 13,
   "metadata": {},
   "outputs": [],
   "source": [
    "# Get all links and save them to a variable\n",
    "anchors = sidemenu.find_all('a')\n",
    "links = []\n",
    "link: element.Tag\n",
    "for link in anchors:\n",
    "    links.append(link.get('href'))"
   ]
  },
  {
   "cell_type": "markdown",
   "metadata": {},
   "source": [
    "Searching for navigation links during web scraping is useful when building web crawlers."
   ]
  },
  {
   "cell_type": "code",
   "execution_count": 14,
   "metadata": {},
   "outputs": [
    {
     "data": {
      "text/plain": [
       "['/test-sites/e-commerce/allinone',\n",
       " '/test-sites/e-commerce/allinone/phones',\n",
       " '/test-sites/e-commerce/allinone/computers']"
      ]
     },
     "execution_count": 14,
     "metadata": {},
     "output_type": "execute_result"
    }
   ],
   "source": [
    "links"
   ]
  },
  {
   "attachments": {},
   "cell_type": "markdown",
   "metadata": {},
   "source": [
    "## <span style=\"color:red\">**Task 1**</span>\n",
    "\n",
    "Our client asked us to collect the products sold on [Laptop Subpage](https://webscraper.io/test-sites/e-commerce/allinone/computers/laptops) website.\n",
    "\n",
    "Gather following data and save it to a pandas DataFrame:\n",
    "- full name of the laptop,\n",
    "- description of an item\n",
    "- price in dollars, \n",
    "- number of reviews,\n",
    "- overall rating\n",
    "\n",
    "1. Find out what is the average price of laptops on this website.\n",
    "2. Sort models by rating to price ratio and find the best deal.\n",
    "3. Visualize number of laptops for each rating.\n"
   ]
  },
  {
   "cell_type": "code",
   "execution_count": 15,
   "metadata": {},
   "outputs": [],
   "source": [
    "url = 'https://webscraper.io/test-sites/e-commerce/allinone/computers/laptops'\n",
    "html = requests.get(url)\n",
    "\n",
    "soup = BeautifulSoup(html._content)"
   ]
  },
  {
   "cell_type": "code",
   "execution_count": 31,
   "metadata": {},
   "outputs": [
    {
     "data": {
      "text/html": [
       "<div>\n",
       "<style scoped>\n",
       "    .dataframe tbody tr th:only-of-type {\n",
       "        vertical-align: middle;\n",
       "    }\n",
       "\n",
       "    .dataframe tbody tr th {\n",
       "        vertical-align: top;\n",
       "    }\n",
       "\n",
       "    .dataframe thead th {\n",
       "        text-align: right;\n",
       "    }\n",
       "</style>\n",
       "<table border=\"1\" class=\"dataframe\">\n",
       "  <thead>\n",
       "    <tr style=\"text-align: right;\">\n",
       "      <th></th>\n",
       "      <th>name</th>\n",
       "      <th>description</th>\n",
       "      <th>price</th>\n",
       "      <th>reviews</th>\n",
       "      <th>rating</th>\n",
       "    </tr>\n",
       "  </thead>\n",
       "  <tbody>\n",
       "    <tr>\n",
       "      <th>0</th>\n",
       "      <td>Asus VivoBook X4...</td>\n",
       "      <td>Asus VivoBook X441NA-GA190 Chocolate Black, 14...</td>\n",
       "      <td>$295.99</td>\n",
       "      <td>14 reviews</td>\n",
       "      <td>3</td>\n",
       "    </tr>\n",
       "    <tr>\n",
       "      <th>1</th>\n",
       "      <td>Prestigio SmartB...</td>\n",
       "      <td>Prestigio SmartBook 133S Dark Grey, 13.3\" FHD ...</td>\n",
       "      <td>$299.00</td>\n",
       "      <td>8 reviews</td>\n",
       "      <td>2</td>\n",
       "    </tr>\n",
       "    <tr>\n",
       "      <th>2</th>\n",
       "      <td>Prestigio SmartB...</td>\n",
       "      <td>Prestigio SmartBook 133S Gold, 13.3\" FHD IPS, ...</td>\n",
       "      <td>$299.00</td>\n",
       "      <td>12 reviews</td>\n",
       "      <td>4</td>\n",
       "    </tr>\n",
       "    <tr>\n",
       "      <th>3</th>\n",
       "      <td>Aspire E1-510</td>\n",
       "      <td>15.6\", Pentium N3520 2.16GHz, 4GB, 500GB, Linux</td>\n",
       "      <td>$306.99</td>\n",
       "      <td>2 reviews</td>\n",
       "      <td>3</td>\n",
       "    </tr>\n",
       "    <tr>\n",
       "      <th>4</th>\n",
       "      <td>Lenovo V110-15IA...</td>\n",
       "      <td>Lenovo V110-15IAP, 15.6\" HD, Celeron N3350 1.1...</td>\n",
       "      <td>$321.94</td>\n",
       "      <td>5 reviews</td>\n",
       "      <td>3</td>\n",
       "    </tr>\n",
       "    <tr>\n",
       "      <th>...</th>\n",
       "      <td>...</td>\n",
       "      <td>...</td>\n",
       "      <td>...</td>\n",
       "      <td>...</td>\n",
       "      <td>...</td>\n",
       "    </tr>\n",
       "    <tr>\n",
       "      <th>229</th>\n",
       "      <td>Lenovo Legion Y7...</td>\n",
       "      <td>Lenovo Legion Y720, 15.6\" FHD IPS, Core i7-770...</td>\n",
       "      <td>$1399.00</td>\n",
       "      <td>8 reviews</td>\n",
       "      <td>3</td>\n",
       "    </tr>\n",
       "    <tr>\n",
       "      <th>230</th>\n",
       "      <td>Asus ROG Strix G...</td>\n",
       "      <td>Asus ROG Strix GL702VM-GC146T, 17.3\" FHD, Core...</td>\n",
       "      <td>$1399.00</td>\n",
       "      <td>10 reviews</td>\n",
       "      <td>3</td>\n",
       "    </tr>\n",
       "    <tr>\n",
       "      <th>231</th>\n",
       "      <td>Asus ROG Strix G...</td>\n",
       "      <td>Asus ROG Strix GL702ZC-GC154T, 17.3\" FHD, Ryze...</td>\n",
       "      <td>$1769.00</td>\n",
       "      <td>7 reviews</td>\n",
       "      <td>4</td>\n",
       "    </tr>\n",
       "    <tr>\n",
       "      <th>232</th>\n",
       "      <td>Asus ROG Strix G...</td>\n",
       "      <td>Asus ROG Strix GL702ZC-GC209T, 17.3\" FHD IPS, ...</td>\n",
       "      <td>$1769.00</td>\n",
       "      <td>8 reviews</td>\n",
       "      <td>1</td>\n",
       "    </tr>\n",
       "    <tr>\n",
       "      <th>233</th>\n",
       "      <td>Asus ROG Strix S...</td>\n",
       "      <td>Asus ROG Strix SCAR Edition GL503VM-ED115T, 15...</td>\n",
       "      <td>$1799.00</td>\n",
       "      <td>8 reviews</td>\n",
       "      <td>3</td>\n",
       "    </tr>\n",
       "  </tbody>\n",
       "</table>\n",
       "<p>234 rows × 5 columns</p>\n",
       "</div>"
      ],
      "text/plain": [
       "                    name                                        description  \\\n",
       "0    Asus VivoBook X4...  Asus VivoBook X441NA-GA190 Chocolate Black, 14...   \n",
       "1    Prestigio SmartB...  Prestigio SmartBook 133S Dark Grey, 13.3\" FHD ...   \n",
       "2    Prestigio SmartB...  Prestigio SmartBook 133S Gold, 13.3\" FHD IPS, ...   \n",
       "3          Aspire E1-510    15.6\", Pentium N3520 2.16GHz, 4GB, 500GB, Linux   \n",
       "4    Lenovo V110-15IA...  Lenovo V110-15IAP, 15.6\" HD, Celeron N3350 1.1...   \n",
       "..                   ...                                                ...   \n",
       "229  Lenovo Legion Y7...  Lenovo Legion Y720, 15.6\" FHD IPS, Core i7-770...   \n",
       "230  Asus ROG Strix G...  Asus ROG Strix GL702VM-GC146T, 17.3\" FHD, Core...   \n",
       "231  Asus ROG Strix G...  Asus ROG Strix GL702ZC-GC154T, 17.3\" FHD, Ryze...   \n",
       "232  Asus ROG Strix G...  Asus ROG Strix GL702ZC-GC209T, 17.3\" FHD IPS, ...   \n",
       "233  Asus ROG Strix S...  Asus ROG Strix SCAR Edition GL503VM-ED115T, 15...   \n",
       "\n",
       "        price     reviews rating  \n",
       "0     $295.99  14 reviews      3  \n",
       "1     $299.00   8 reviews      2  \n",
       "2     $299.00  12 reviews      4  \n",
       "3     $306.99   2 reviews      3  \n",
       "4     $321.94   5 reviews      3  \n",
       "..        ...         ...    ...  \n",
       "229  $1399.00   8 reviews      3  \n",
       "230  $1399.00  10 reviews      3  \n",
       "231  $1769.00   7 reviews      4  \n",
       "232  $1769.00   8 reviews      1  \n",
       "233  $1799.00   8 reviews      3  \n",
       "\n",
       "[234 rows x 5 columns]"
      ]
     },
     "execution_count": 31,
     "metadata": {},
     "output_type": "execute_result"
    }
   ],
   "source": [
    "# Get all the laptops\n",
    "laptop: element.Tag\n",
    "\n",
    "for laptop in soup.find_all('div', {'class': 'col-sm-4 col-lg-4 col-md-4'}):\n",
    "    name = laptop.find('a', {'class': 'title'}).get_text()\n",
    "    description = laptop.find('p', {'class': 'description'}).get_text()\n",
    "    price = laptop.find('h4', {'class': 'pull-right price'}).get_text()\n",
    "    reviews = laptop.find('p', {'class': 'pull-right'}).get_text()\n",
    "    rating = laptop.find('p', {'data-rating': True}).attrs['data-rating']\n",
    "    laptops = pd.concat([laptops, pd.DataFrame({'name': [name], 'description': [description], 'price': [price], 'reviews': [reviews], 'rating': [rating]})], ignore_index=True)\n",
    "laptops"
   ]
  },
  {
   "attachments": {},
   "cell_type": "markdown",
   "metadata": {},
   "source": [
    "## Selenium - Human interactions on the browser\n",
    "\n",
    "Used for dynamic websites, websites behind login forms, websites with unpredictable urls.\n",
    "\n",
    "In this chapter we want to automate interaction on the browser. \n",
    "Sometimes certain pages cannot be easily accessed - i.e they stay behind login forms, \n",
    "exist under unpredictable url or have to be accessed via click of the button.\n",
    "\n",
    "In this case we need to use Selenium library.\n",
    "\n",
    "Let's download **webdriver** of your current browser.\n",
    "\n",
    "[Installation guide for selenium](https://selenium-python.readthedocs.io/installation.html#)\n",
    "\n",
    "[Drivers](https://selenium-python.readthedocs.io/installation.html#drivers)"
   ]
  },
  {
   "cell_type": "code",
   "execution_count": 32,
   "metadata": {},
   "outputs": [],
   "source": [
    "from selenium import webdriver\n",
    "from selenium.webdriver.common.by import By"
   ]
  },
  {
   "cell_type": "code",
   "execution_count": 33,
   "metadata": {},
   "outputs": [
    {
     "name": "stderr",
     "output_type": "stream",
     "text": [
      "[WDM] - Downloading: 100%|██████████| 6.78M/6.78M [00:02<00:00, 3.51MB/s]\n"
     ]
    }
   ],
   "source": [
    "driver = webdriver.Chrome(service=Service(ChromeDriverManager().install()))\n",
    "driver.get('https://pythonscraping.com/linkedin/cookies/login.html')"
   ]
  },
  {
   "cell_type": "code",
   "execution_count": 34,
   "metadata": {},
   "outputs": [],
   "source": [
    "username_input = driver.find_element(by='name', value='username')\n",
    "username_input.send_keys('test')"
   ]
  },
  {
   "cell_type": "code",
   "execution_count": 35,
   "metadata": {},
   "outputs": [],
   "source": [
    "username_input = driver.find_element('name', 'password')\n",
    "username_input.send_keys('password')"
   ]
  },
  {
   "cell_type": "code",
   "execution_count": 36,
   "metadata": {},
   "outputs": [],
   "source": [
    "button = driver.find_element(By.XPATH, \"//input[@type='submit']\")\n",
    "button.click()"
   ]
  },
  {
   "cell_type": "markdown",
   "metadata": {},
   "source": [
    "Click on the link that has content `Check out your profile!`"
   ]
  },
  {
   "cell_type": "code",
   "execution_count": 37,
   "metadata": {},
   "outputs": [],
   "source": [
    "link = driver.find_element(By.XPATH, \"//*[text() = 'Check out your profile!']\")\n",
    "link.click()"
   ]
  },
  {
   "cell_type": "code",
   "execution_count": 38,
   "metadata": {},
   "outputs": [],
   "source": [
    "from selenium.webdriver.support.ui import WebDriverWait\n",
    "from selenium.webdriver.support import expected_conditions as EC\n",
    "from selenium.webdriver.common.by import By\n",
    "\n",
    "from selenium.webdriver.common.action_chains import ActionChains"
   ]
  },
  {
   "cell_type": "code",
   "execution_count": 39,
   "metadata": {},
   "outputs": [],
   "source": [
    "driver = webdriver.Chrome(service=Service(ChromeDriverManager().install()))\n",
    "driver.get('https://www.booking.com/')"
   ]
  },
  {
   "cell_type": "code",
   "execution_count": 40,
   "metadata": {},
   "outputs": [],
   "source": [
    "# Close Cookies banner\n",
    "cookie_banner = driver.find_element(By.ID,'onetrust-accept-btn-handler')\n",
    "cookie_banner.click()"
   ]
  },
  {
   "cell_type": "code",
   "execution_count": 41,
   "metadata": {},
   "outputs": [],
   "source": [
    "search_input = driver.find_element(By.XPATH,\"//input[@name='ss']\")\n",
    "search_input.click()"
   ]
  },
  {
   "cell_type": "code",
   "execution_count": 42,
   "metadata": {},
   "outputs": [],
   "source": [
    "search_input.send_keys('Warszawa')"
   ]
  },
  {
   "cell_type": "code",
   "execution_count": 43,
   "metadata": {},
   "outputs": [],
   "source": [
    "datepicker = driver.find_element(By.XPATH,'//div[@data-testid=\"searchbox-dates-container\"]')\n",
    "datepicker.click()"
   ]
  },
  {
   "cell_type": "code",
   "execution_count": 44,
   "metadata": {},
   "outputs": [],
   "source": [
    "start_date_button = driver.find_element(By.XPATH,\"//span[@aria-label='20 March 2023']\")\n",
    "start_date_button.click()"
   ]
  },
  {
   "cell_type": "code",
   "execution_count": 45,
   "metadata": {},
   "outputs": [],
   "source": [
    "start_date_button = driver.find_element(By.XPATH,\"//span[@aria-label='23 March 2023']\")\n",
    "start_date_button.click()"
   ]
  },
  {
   "cell_type": "code",
   "execution_count": 46,
   "metadata": {},
   "outputs": [],
   "source": [
    "search_button = driver.find_element(By.XPATH,\"//button[@type='submit']\")\n",
    "search_button.click()"
   ]
  },
  {
   "cell_type": "code",
   "execution_count": 47,
   "metadata": {},
   "outputs": [],
   "source": [
    "filter_4_star = driver.find_element(By.XPATH,\"//div[text()='4 stars']\")\n",
    "\n",
    "ActionChains(driver).move_to_element(filter_4_star).perform()\n",
    "\n",
    "filter_4_star.click()\n"
   ]
  },
  {
   "cell_type": "code",
   "execution_count": 48,
   "metadata": {},
   "outputs": [],
   "source": [
    "# Collect data\n",
    "soup = BeautifulSoup(driver.page_source)"
   ]
  },
  {
   "cell_type": "code",
   "execution_count": 54,
   "metadata": {},
   "outputs": [
    {
     "data": {
      "text/html": [
       "<div>\n",
       "<style scoped>\n",
       "    .dataframe tbody tr th:only-of-type {\n",
       "        vertical-align: middle;\n",
       "    }\n",
       "\n",
       "    .dataframe tbody tr th {\n",
       "        vertical-align: top;\n",
       "    }\n",
       "\n",
       "    .dataframe thead th {\n",
       "        text-align: right;\n",
       "    }\n",
       "</style>\n",
       "<table border=\"1\" class=\"dataframe\">\n",
       "  <thead>\n",
       "    <tr style=\"text-align: right;\">\n",
       "      <th></th>\n",
       "      <th>title</th>\n",
       "      <th>address</th>\n",
       "      <th>distance</th>\n",
       "      <th>price</th>\n",
       "      <th>review</th>\n",
       "    </tr>\n",
       "  </thead>\n",
       "  <tbody>\n",
       "    <tr>\n",
       "      <th>0</th>\n",
       "      <td>Lwowska Studios</td>\n",
       "      <td>Sródmiescie, Warsaw</td>\n",
       "      <td>0.9 km from centre</td>\n",
       "      <td>780 zł</td>\n",
       "      <td>9.5</td>\n",
       "    </tr>\n",
       "    <tr>\n",
       "      <th>1</th>\n",
       "      <td>Royal Tulip Warsaw Apartments</td>\n",
       "      <td>Wola, Warsaw</td>\n",
       "      <td>1.4 km from centre</td>\n",
       "      <td>1,558 zł</td>\n",
       "      <td>9.4</td>\n",
       "    </tr>\n",
       "    <tr>\n",
       "      <th>2</th>\n",
       "      <td>Apartments Warsaw Boduena by Renters Prestige</td>\n",
       "      <td>Sródmiescie, Warsaw</td>\n",
       "      <td>0.6 km from centre</td>\n",
       "      <td>1,215 zł</td>\n",
       "      <td>9.8</td>\n",
       "    </tr>\n",
       "    <tr>\n",
       "      <th>3</th>\n",
       "      <td>Golden Tulip Warsaw Centre</td>\n",
       "      <td>Wola, Warsaw</td>\n",
       "      <td>1.4 km from centre</td>\n",
       "      <td>1,430 zł</td>\n",
       "      <td>9.0</td>\n",
       "    </tr>\n",
       "    <tr>\n",
       "      <th>4</th>\n",
       "      <td>Novotel Warszawa Centrum</td>\n",
       "      <td>Sródmiescie, Warsaw</td>\n",
       "      <td>250 m from centre</td>\n",
       "      <td>1,503 zł</td>\n",
       "      <td>8.7</td>\n",
       "    </tr>\n",
       "    <tr>\n",
       "      <th>5</th>\n",
       "      <td>P&amp;O Apartments Okrzei - Stara Praga</td>\n",
       "      <td>Praga Pólnoc, Warsaw</td>\n",
       "      <td>2.9 km from centre</td>\n",
       "      <td>877 zł</td>\n",
       "      <td>9.0</td>\n",
       "    </tr>\n",
       "    <tr>\n",
       "      <th>6</th>\n",
       "      <td>MENNICA RESIDENCE SUITE APARTMENTS</td>\n",
       "      <td>Wola, Warsaw</td>\n",
       "      <td>1.3 km from centre</td>\n",
       "      <td>1,216 zł</td>\n",
       "      <td>9.0</td>\n",
       "    </tr>\n",
       "    <tr>\n",
       "      <th>7</th>\n",
       "      <td>MENNICA RESIDENCE PATRONUS Apartments</td>\n",
       "      <td>Wola, Warsaw</td>\n",
       "      <td>1.3 km from centre</td>\n",
       "      <td>1,148 zł</td>\n",
       "      <td>9.3</td>\n",
       "    </tr>\n",
       "    <tr>\n",
       "      <th>8</th>\n",
       "      <td>Residence St. Andrew's Palace</td>\n",
       "      <td>Sródmiescie, Warsaw</td>\n",
       "      <td>400 m from centre</td>\n",
       "      <td>1,197 zł</td>\n",
       "      <td>8.4</td>\n",
       "    </tr>\n",
       "    <tr>\n",
       "      <th>9</th>\n",
       "      <td>Residence 1898</td>\n",
       "      <td>Sródmiescie, Warsaw</td>\n",
       "      <td>0.6 km from centre</td>\n",
       "      <td>1,395 zł</td>\n",
       "      <td>8.6</td>\n",
       "    </tr>\n",
       "    <tr>\n",
       "      <th>10</th>\n",
       "      <td>Hotel Indigo Warsaw Nowy Świat, an IHG Hotel</td>\n",
       "      <td>Sródmiescie, Warsaw</td>\n",
       "      <td>0.9 km from centre</td>\n",
       "      <td>2,133 zł</td>\n",
       "      <td>9.1</td>\n",
       "    </tr>\n",
       "    <tr>\n",
       "      <th>11</th>\n",
       "      <td>SleepWell Apartments Ordynacka</td>\n",
       "      <td>Sródmiescie, Warsaw</td>\n",
       "      <td>1 km from centre</td>\n",
       "      <td>1,515 zł</td>\n",
       "      <td>8.9</td>\n",
       "    </tr>\n",
       "    <tr>\n",
       "      <th>12</th>\n",
       "      <td>Crowne Plaza - Warsaw - The HUB, an IHG Hotel</td>\n",
       "      <td>Wola, Warsaw</td>\n",
       "      <td>1.7 km from centre</td>\n",
       "      <td>2,375 zł</td>\n",
       "      <td>9.4</td>\n",
       "    </tr>\n",
       "    <tr>\n",
       "      <th>13</th>\n",
       "      <td>SleepWell Boutique Apartments</td>\n",
       "      <td>Sródmiescie, Warsaw</td>\n",
       "      <td>0.9 km from centre</td>\n",
       "      <td>1,613 zł</td>\n",
       "      <td>9.3</td>\n",
       "    </tr>\n",
       "    <tr>\n",
       "      <th>14</th>\n",
       "      <td>DoubleTree by Hilton Hotel &amp; Conference Centre...</td>\n",
       "      <td>Wawer, Warsaw</td>\n",
       "      <td>10.3 km from centre</td>\n",
       "      <td>1,548 zł</td>\n",
       "      <td>8.8</td>\n",
       "    </tr>\n",
       "    <tr>\n",
       "      <th>15</th>\n",
       "      <td>Mercure Warszawa Grand</td>\n",
       "      <td>Sródmiescie, Warsaw</td>\n",
       "      <td>0.7 km from centre</td>\n",
       "      <td>1,755 zł</td>\n",
       "      <td>8.5</td>\n",
       "    </tr>\n",
       "    <tr>\n",
       "      <th>16</th>\n",
       "      <td>VIDOC APARTMENTS</td>\n",
       "      <td>Wola, Warsaw</td>\n",
       "      <td>1.3 km from centre</td>\n",
       "      <td>1,292 zł</td>\n",
       "      <td>9.1</td>\n",
       "    </tr>\n",
       "    <tr>\n",
       "      <th>17</th>\n",
       "      <td>Warsaw Concept</td>\n",
       "      <td>Sródmiescie, Warsaw</td>\n",
       "      <td>450 m from centre</td>\n",
       "      <td>1,188 zł</td>\n",
       "      <td>9.1</td>\n",
       "    </tr>\n",
       "    <tr>\n",
       "      <th>18</th>\n",
       "      <td>EXCLUSIVE Aparthotel</td>\n",
       "      <td>Sródmiescie, Warsaw</td>\n",
       "      <td>0.7 km from centre</td>\n",
       "      <td>1,350 zł</td>\n",
       "      <td>9.1</td>\n",
       "    </tr>\n",
       "    <tr>\n",
       "      <th>19</th>\n",
       "      <td>Royal Apartment Kopernika by Renters Prestige</td>\n",
       "      <td>Sródmiescie, Warsaw</td>\n",
       "      <td>1.2 km from centre</td>\n",
       "      <td>1,282 zł</td>\n",
       "      <td>8.9</td>\n",
       "    </tr>\n",
       "    <tr>\n",
       "      <th>20</th>\n",
       "      <td>Corazziego 4 by Homeprime</td>\n",
       "      <td>Sródmiescie, Warsaw</td>\n",
       "      <td>1.7 km from centre</td>\n",
       "      <td>772 zł</td>\n",
       "      <td>10</td>\n",
       "    </tr>\n",
       "    <tr>\n",
       "      <th>21</th>\n",
       "      <td>Hotel Polonia Palace</td>\n",
       "      <td>Sródmiescie, Warsaw</td>\n",
       "      <td>100 m from centre</td>\n",
       "      <td>1,748 zł</td>\n",
       "      <td>9.1</td>\n",
       "    </tr>\n",
       "    <tr>\n",
       "      <th>22</th>\n",
       "      <td>Radisson Blu Sobieski</td>\n",
       "      <td>Ochota, Warsaw</td>\n",
       "      <td>1.5 km from centre</td>\n",
       "      <td>1,445 zł</td>\n",
       "      <td>8.5</td>\n",
       "    </tr>\n",
       "    <tr>\n",
       "      <th>23</th>\n",
       "      <td>Tamka 1A by Homeprime</td>\n",
       "      <td>Sródmiescie, Warsaw</td>\n",
       "      <td>1.8 km from centre</td>\n",
       "      <td>844 zł</td>\n",
       "      <td>9.3</td>\n",
       "    </tr>\n",
       "    <tr>\n",
       "      <th>24</th>\n",
       "      <td>Mennica Residence Luxury Location</td>\n",
       "      <td>Wola, Warsaw</td>\n",
       "      <td>1.2 km from centre</td>\n",
       "      <td>1,110 zł</td>\n",
       "      <td>8.3</td>\n",
       "    </tr>\n",
       "    <tr>\n",
       "      <th>25</th>\n",
       "      <td>Gdanski Business Center Apartments</td>\n",
       "      <td>Sródmiescie, Warsaw</td>\n",
       "      <td>3.2 km from centre</td>\n",
       "      <td>1,071 zł</td>\n",
       "      <td>8.4</td>\n",
       "    </tr>\n",
       "    <tr>\n",
       "      <th>26</th>\n",
       "      <td>Sliska 10 Apartament II</td>\n",
       "      <td>Sródmiescie, Warsaw</td>\n",
       "      <td>0.7 km from centre</td>\n",
       "      <td>803 zł</td>\n",
       "      <td>8.6</td>\n",
       "    </tr>\n",
       "    <tr>\n",
       "      <th>27</th>\n",
       "      <td>NYX Hotel Warsaw by Leonardo Hotels</td>\n",
       "      <td>Wola, Warsaw</td>\n",
       "      <td>0.6 km from centre</td>\n",
       "      <td>1,956 zł</td>\n",
       "      <td>9.2</td>\n",
       "    </tr>\n",
       "  </tbody>\n",
       "</table>\n",
       "</div>"
      ],
      "text/plain": [
       "                                                title               address  \\\n",
       "0                                     Lwowska Studios   Sródmiescie, Warsaw   \n",
       "1                       Royal Tulip Warsaw Apartments          Wola, Warsaw   \n",
       "2       Apartments Warsaw Boduena by Renters Prestige   Sródmiescie, Warsaw   \n",
       "3                          Golden Tulip Warsaw Centre          Wola, Warsaw   \n",
       "4                            Novotel Warszawa Centrum   Sródmiescie, Warsaw   \n",
       "5                 P&O Apartments Okrzei - Stara Praga  Praga Pólnoc, Warsaw   \n",
       "6                  MENNICA RESIDENCE SUITE APARTMENTS          Wola, Warsaw   \n",
       "7               MENNICA RESIDENCE PATRONUS Apartments          Wola, Warsaw   \n",
       "8                       Residence St. Andrew's Palace   Sródmiescie, Warsaw   \n",
       "9                                      Residence 1898   Sródmiescie, Warsaw   \n",
       "10       Hotel Indigo Warsaw Nowy Świat, an IHG Hotel   Sródmiescie, Warsaw   \n",
       "11                     SleepWell Apartments Ordynacka   Sródmiescie, Warsaw   \n",
       "12      Crowne Plaza - Warsaw - The HUB, an IHG Hotel          Wola, Warsaw   \n",
       "13                      SleepWell Boutique Apartments   Sródmiescie, Warsaw   \n",
       "14  DoubleTree by Hilton Hotel & Conference Centre...         Wawer, Warsaw   \n",
       "15                             Mercure Warszawa Grand   Sródmiescie, Warsaw   \n",
       "16                                   VIDOC APARTMENTS          Wola, Warsaw   \n",
       "17                                     Warsaw Concept   Sródmiescie, Warsaw   \n",
       "18                               EXCLUSIVE Aparthotel   Sródmiescie, Warsaw   \n",
       "19      Royal Apartment Kopernika by Renters Prestige   Sródmiescie, Warsaw   \n",
       "20                          Corazziego 4 by Homeprime   Sródmiescie, Warsaw   \n",
       "21                               Hotel Polonia Palace   Sródmiescie, Warsaw   \n",
       "22                              Radisson Blu Sobieski        Ochota, Warsaw   \n",
       "23                              Tamka 1A by Homeprime   Sródmiescie, Warsaw   \n",
       "24                  Mennica Residence Luxury Location          Wola, Warsaw   \n",
       "25                 Gdanski Business Center Apartments   Sródmiescie, Warsaw   \n",
       "26                            Sliska 10 Apartament II   Sródmiescie, Warsaw   \n",
       "27                NYX Hotel Warsaw by Leonardo Hotels          Wola, Warsaw   \n",
       "\n",
       "               distance     price review  \n",
       "0    0.9 km from centre    780 zł    9.5  \n",
       "1    1.4 km from centre  1,558 zł    9.4  \n",
       "2    0.6 km from centre  1,215 zł    9.8  \n",
       "3    1.4 km from centre  1,430 zł    9.0  \n",
       "4     250 m from centre  1,503 zł    8.7  \n",
       "5    2.9 km from centre    877 zł    9.0  \n",
       "6    1.3 km from centre  1,216 zł    9.0  \n",
       "7    1.3 km from centre  1,148 zł    9.3  \n",
       "8     400 m from centre  1,197 zł    8.4  \n",
       "9    0.6 km from centre  1,395 zł    8.6  \n",
       "10   0.9 km from centre  2,133 zł    9.1  \n",
       "11     1 km from centre  1,515 zł    8.9  \n",
       "12   1.7 km from centre  2,375 zł    9.4  \n",
       "13   0.9 km from centre  1,613 zł    9.3  \n",
       "14  10.3 km from centre  1,548 zł    8.8  \n",
       "15   0.7 km from centre  1,755 zł    8.5  \n",
       "16   1.3 km from centre  1,292 zł    9.1  \n",
       "17    450 m from centre  1,188 zł    9.1  \n",
       "18   0.7 km from centre  1,350 zł    9.1  \n",
       "19   1.2 km from centre  1,282 zł    8.9  \n",
       "20   1.7 km from centre    772 zł     10  \n",
       "21    100 m from centre  1,748 zł    9.1  \n",
       "22   1.5 km from centre  1,445 zł    8.5  \n",
       "23   1.8 km from centre    844 zł    9.3  \n",
       "24   1.2 km from centre  1,110 zł    8.3  \n",
       "25   3.2 km from centre  1,071 zł    8.4  \n",
       "26   0.7 km from centre    803 zł    8.6  \n",
       "27   0.6 km from centre  1,956 zł    9.2  "
      ]
     },
     "execution_count": 54,
     "metadata": {},
     "output_type": "execute_result"
    }
   ],
   "source": [
    "\n",
    "properties = soup.find_all('div', {'data-testid': 'property-card'})\n",
    "prop: element.Tag\n",
    "hotels = list()\n",
    "for prop in properties:\n",
    "  try:\n",
    "    hotels.append({\n",
    "      'title':  prop.find('div', {'data-testid': 'title'}).text,\n",
    "      'address': prop.find('span', {'data-testid': 'address'}).text,\n",
    "      'distance': prop.find('span', {'data-testid': 'distance'}).text,\n",
    "      'price': prop.find('span', {'data-testid': 'price-and-discounted-price'}).text,\n",
    "      'review': prop.find('div', {'data-testid': 'review-score'}).find('div').text \n",
    "    })\n",
    "  except:\n",
    "    pass\n",
    "pd.DataFrame(hotels)"
   ]
  },
  {
   "cell_type": "markdown",
   "metadata": {},
   "source": [
    "Let's put that into a single piece of code"
   ]
  },
  {
   "cell_type": "code",
   "execution_count": null,
   "metadata": {},
   "outputs": [],
   "source": [
    "def collect_data(source, city: str):\n",
    "    soup = BeautifulSoup(source)\n",
    "    properties = soup.find_all('div', {'data-testid': 'property-card'})\n",
    "    hotels = list()\n",
    "    for prop in properties:\n",
    "        try:\n",
    "            hotels.append({\n",
    "                'city': city,\n",
    "                'title':  prop.find('div', {'data-testid': 'title'}).text,\n",
    "                'address': prop.find('span', {'data-testid': 'address'}).text,\n",
    "                'distance': prop.find('span', {'data-testid': 'distance'}).text,\n",
    "                'price': prop.find('span', {'data-testid': 'price-and-discounted-price'}).text,\n",
    "                'review': prop.find('div', {'data-testid': 'review-score'}).find('div').text\n",
    "            })\n",
    "        except:\n",
    "            pass\n",
    "    return hotels"
   ]
  },
  {
   "cell_type": "code",
   "execution_count": null,
   "metadata": {},
   "outputs": [],
   "source": [
    "\n",
    "def scrape_booking(city: str):\n",
    "    driver = webdriver.Chrome(service=Service(ChromeDriverManager().install()))\n",
    "    driver.get('https://www.booking.com/')\n",
    "    try:\n",
    "        time.sleep(3)  \n",
    "        # Close Cookies banner - it blocks some visibility\n",
    "        cookie_banner = driver.find_element(By.ID,'onetrust-accept-btn-handler')\n",
    "        cookie_banner.click()\n",
    "        \n",
    "        search_input = driver.find_element(By.XPATH,\"//input[@name='ss']\")\n",
    "        search_input.click()\n",
    "        time.sleep(1)  \n",
    "        search_input.send_keys(city)\n",
    "        time.sleep(1)          \n",
    "        # Select date\n",
    "        datepicker = driver.find_element(By.XPATH,'//div[@data-testid=\"searchbox-dates-container\"]')\n",
    "        datepicker.click()\n",
    "        time.sleep(1)  \n",
    "        start_date_button = driver.find_element(By.XPATH,\"//span[@aria-label='20 March 2023']\")\n",
    "        start_date_button.click()\n",
    "        time.sleep(1)  \n",
    "        start_date_button = driver.find_element(By.XPATH,\"//span[@aria-label='23 March 2023']\")\n",
    "        start_date_button.click()\n",
    "        time.sleep(1)  \n",
    "        \n",
    "        # Press search\n",
    "        search_button = driver.find_element(By.XPATH,\"//button[@type='submit']\")\n",
    "        search_button.click()\n",
    "        \n",
    "        # Filter only 4 star hotels\n",
    "        filter_4_star = driver.find_element(By.XPATH,\"//div[text()='4 stars']\")\n",
    "\n",
    "        ActionChains(driver).move_to_element(filter_4_star).perform()\n",
    "\n",
    "        filter_4_star.click()\n",
    "\n",
    "        # Wait until the results are visible\n",
    "        WebDriverWait(driver, 10).until(EC.invisibility_of_element_located((By.XPATH, \"//div[@data-testid='overlay-wrapper']\")))\n",
    "        # Extract data and save it in the dataframe\n",
    "        \n",
    "        data = collect_data(driver.page_source, city)\n",
    "        driver.quit()\n",
    "        return data\n",
    "    except:\n",
    "        pass"
   ]
  },
  {
   "cell_type": "code",
   "execution_count": null,
   "metadata": {},
   "outputs": [],
   "source": [
    "cities_list = ['Warszawa']\n",
    "hotels = pd.DataFrame()\n",
    "\n",
    "for city in cities_list:\n",
    "    hotels = hotels.append(scrape_booking(city), ignore_index=True)\n",
    "    \n",
    "hotels"
   ]
  },
  {
   "attachments": {},
   "cell_type": "markdown",
   "metadata": {},
   "source": [
    "### <span style=\"color:red\">**TASK & HOMEWORK**</span>\n",
    "\n",
    "Automate the process of getting details for restaurants from [TripAdvisor](https://www.tripadvisor.com/) website in Warsaw. \n",
    "\n",
    "Get data for first 3 result pages.\n",
    "\n",
    "Gather following data and save it to a pandas DataFrame:\n",
    "- name of the restaurant,\n",
    "- rating,\n",
    "- number of reviews,\n",
    "- link to visit details page,\n",
    "- address,\n",
    "- phone number (if existst),\n",
    "- website url (if exists),"
   ]
  },
  {
   "cell_type": "code",
   "execution_count": 57,
   "metadata": {},
   "outputs": [],
   "source": [
    "driver = webdriver.Chrome(service=Service(ChromeDriverManager().install()))\n",
    "driver.get('https://www.tripadvisor.com/')"
   ]
  },
  {
   "cell_type": "code",
   "execution_count": 62,
   "metadata": {},
   "outputs": [],
   "source": [
    "cookie_click = driver.find_element(By.XPATH,'//*[@id=\"onetrust-accept-btn-handler\"]')\n",
    "cookie_click.click()"
   ]
  },
  {
   "cell_type": "code",
   "execution_count": null,
   "metadata": {},
   "outputs": [],
   "source": [
    "search_bar = driver.find_element(By.XPATH,'//*[@id=\"lithium-root\"]/main/div[3]/div/div/div/form/input[1]')\n"
   ]
  },
  {
   "attachments": {},
   "cell_type": "markdown",
   "metadata": {},
   "source": [
    "## References\n",
    "---\n",
    "### Web Scraping\n",
    "- [Web Scraping with Python](https://www.scrapethissite.com/pages/)\n",
    "\n",
    "### Beautiful Soup\n",
    "- [Beautiful Soup Documentation](https://www.crummy.com/software/BeautifulSoup/bs4/doc/)\n",
    "- [Beautiful Soup Tutorial](https://www.dataquest.io/blog/web-scraping-tutorial-python/)\n",
    "- [Beautiful Soup Tutorial Youtube](https://www.youtube.com/watch?v=ng2o98k983k)\n",
    "\n",
    "### Selenium\n",
    "- [Selenium Documentation](https://selenium-python.readthedocs.io/)\n",
    "- [Complex Selenium Tutorial in Java](https://www.guru99.com/selenium-tutorial.html)\n"
   ]
  }
 ],
 "metadata": {
  "kernelspec": {
   "display_name": "Python 3",
   "language": "python",
   "name": "python3"
  },
  "language_info": {
   "codemirror_mode": {
    "name": "ipython",
    "version": 3
   },
   "file_extension": ".py",
   "mimetype": "text/x-python",
   "name": "python",
   "nbconvert_exporter": "python",
   "pygments_lexer": "ipython3",
   "version": "3.9.0"
  },
  "orig_nbformat": 4,
  "vscode": {
   "interpreter": {
    "hash": "fc06fe0fdd5ea9ad64ed95043871304d883246c697d8d3f458b27d6c57bc6b6e"
   }
  }
 },
 "nbformat": 4,
 "nbformat_minor": 2
}
