{
 "cells": [
  {
   "attachments": {},
   "cell_type": "markdown",
   "metadata": {},
   "source": [
    "# Class 2\n",
    "\n",
    "## Websraping\n",
    "---\n",
    "\n",
    "Web scraping is the process of extracting data from websites automatically, typically using software or scripts, rather than by manual copying and pasting. This involves accessing the HTML code of a webpage and identifying the specific data to be extracted, such as text, images, or other media. Web scraping can be used for a variety of purposes, including data analysis, market research, and content aggregation. However, it is important to note that web scraping can raise ethical and legal concerns, particularly if it involves accessing or using proprietary or copyrighted information without permission."
   ]
  },
  {
   "cell_type": "markdown",
   "metadata": {},
   "source": [
    "### DevTools and site source code\n",
    "\n",
    "- Keyboard: `Ctrl + Shift + I`, except\n",
    "    - Internet Explorer and Edge: `F12`\n",
    "    - macOS: `⌘ + ⌥ + I`\n",
    "- Menu bar:\n",
    "    - Firefox: Menu   ➤ Web Developer ➤ Toggle Tools, or Tools ➤ Web Developer ➤ Toggle Tools\n",
    "    - Chrome: More tools ➤ Developer tools\n",
    "    - Safari: Develop ➤ Show Web Inspector. If you can't see the Develop menu, go to Safari ➤ Preferences ➤ Advanced, and check the Show Develop menu in menu bar checkbox.\n",
    "    -  Opera: Developer ➤ Developer tools\n",
    "- Context menu: Press-and-hold/right-click an item on a webpage (Ctrl-click on the Mac), and choose Inspect Element from the context menu that appears. (An added bonus: this method straight-away highlights the code of the element you right-clicked.)\n",
    "\n",
    "These tools are necessary for front-end development. They have use cases in Web Scraping, since we are going to use UI interactions.\n",
    "\n",
    "[Link to visit](https://pl.wikipedia.org/wiki/Wikipedia:Strona_g%C5%82%C3%B3wna)\n",
    "\n",
    "[DevTools in different browsers](https://developer.mozilla.org/en-US/docs/Learn/Common_questions/What_are_browser_developer_tools)"
   ]
  },
  {
   "attachments": {},
   "cell_type": "markdown",
   "metadata": {},
   "source": [
    "## HTML\n",
    "\n",
    "All websites use HTML to work. \n",
    "Browser then interprets HTML file and creates DOM. Pure HTML websites look like skeleton [Example](http://info.cern.ch/hypertext/WWW/TheProject.html)\n",
    "By adding CSS website have styles, logic is created in a Javascript layer\n",
    "\n",
    "### Attributes\n",
    "\n",
    "Attributes for HTML tags [Global attributes](https://developer.mozilla.org/en-US/docs/Web/HTML/Global_attributes).\n",
    "\n",
    "Accessibility:\n",
    "- [Highly Accessible Website - All Public Websites](https://www.gov.pl/)\n",
    "\n",
    "### HTML5 and semantic tags\n",
    "\n",
    "Semantic elements of websites [Semantics](https://developer.mozilla.org/en-US/docs/Glossary/Semantics)\n",
    "\n",
    "### Differences of websites for every country\n",
    "\n",
    "Compare these 3 websites: they are owned by a single company but there are differences on them - website is maintained differently for each region\n",
    "\n",
    "- https://www.ebay.de/\n",
    "- https://www.ebay.pl/\n",
    "- https://www.ebay.com/\n",
    "\n",
    "### Protection against web scraping\n",
    "\n",
    "- https://datadome.co/bot-management-protection/scraper-crawler-bots-how-to-protect-your-website-against-intensive-scraping\n",
    "- https://medium.com/swlh/how-to-protect-your-web-application-from-web-scraping-cc01ec7ddadd\n",
    "- Example https://www.x-kom.pl/"
   ]
  },
  {
   "cell_type": "markdown",
   "metadata": {},
   "source": [
    "## E-commerce website"
   ]
  },
  {
   "cell_type": "markdown",
   "metadata": {},
   "source": [
    "### Import requests library"
   ]
  },
  {
   "cell_type": "code",
   "execution_count": 1,
   "metadata": {},
   "outputs": [],
   "source": [
    "import requests\n",
    "import pandas as pd\n",
    "import matplotlib.pyplot as plt\n",
    "from bs4 import BeautifulSoup, element\n",
    "import time\n",
    "from selenium.webdriver.chrome.service import Service\n",
    "from webdriver_manager.chrome import ChromeDriverManager"
   ]
  },
  {
   "cell_type": "code",
   "execution_count": 3,
   "metadata": {},
   "outputs": [],
   "source": [
    "url = 'https://webscraper.io/test-sites/e-commerce/allinone'\n",
    "res = requests.get(url)"
   ]
  },
  {
   "attachments": {},
   "cell_type": "markdown",
   "metadata": {},
   "source": [
    "We just made a request. [More about HTTP methods](https://developer.mozilla.org/en-US/docs/Web/HTTP/Methods)\n",
    "To communicate with the source and retrieve resources we need to perform GET request.\n",
    "`res` is a Response object. Hover your pointer over `res` variable."
   ]
  },
  {
   "cell_type": "markdown",
   "metadata": {},
   "source": [
    "Create BeautifulSoup object from received HTML source file"
   ]
  },
  {
   "cell_type": "code",
   "execution_count": 4,
   "metadata": {},
   "outputs": [],
   "source": [
    "soup = BeautifulSoup(res.content)"
   ]
  },
  {
   "attachments": {},
   "cell_type": "markdown",
   "metadata": {},
   "source": [
    "This is a popular Python library used for web scraping. It allows you to parse HTML and XML documents, and navigate through their contents in a structured way.\n",
    "\n",
    "\n",
    "#### Get page title\n",
    "\n",
    "It's the same title as we can find in our Tab name in browser"
   ]
  },
  {
   "cell_type": "code",
   "execution_count": 5,
   "metadata": {},
   "outputs": [
    {
     "data": {
      "text/plain": [
       "<title>Web Scraper Test Sites</title>"
      ]
     },
     "execution_count": 5,
     "metadata": {},
     "output_type": "execute_result"
    }
   ],
   "source": [
    "soup.title"
   ]
  },
  {
   "cell_type": "code",
   "execution_count": 6,
   "metadata": {},
   "outputs": [
    {
     "data": {
      "text/plain": [
       "'Web Scraper Test Sites'"
      ]
     },
     "execution_count": 6,
     "metadata": {},
     "output_type": "execute_result"
    }
   ],
   "source": [
    "soup.title.get_text()"
   ]
  },
  {
   "attachments": {},
   "cell_type": "markdown",
   "metadata": {},
   "source": [
    "#### Difference between `find` and `find_all` methods\n",
    "`find` returns first found item that matches given argument"
   ]
  },
  {
   "cell_type": "code",
   "execution_count": 7,
   "metadata": {},
   "outputs": [
    {
     "data": {
      "text/plain": [
       "<h2>Top items being scraped right now</h2>"
      ]
     },
     "execution_count": 7,
     "metadata": {},
     "output_type": "execute_result"
    }
   ],
   "source": [
    "h2 = soup.find('h2')\n",
    "h2"
   ]
  },
  {
   "cell_type": "code",
   "execution_count": 8,
   "metadata": {},
   "outputs": [
    {
     "data": {
      "text/plain": [
       "bs4.element.Tag"
      ]
     },
     "execution_count": 8,
     "metadata": {},
     "output_type": "execute_result"
    }
   ],
   "source": [
    "type(h2)"
   ]
  },
  {
   "cell_type": "markdown",
   "metadata": {},
   "source": [
    "`find_all` returns list of all tags that match given argument"
   ]
  },
  {
   "cell_type": "code",
   "execution_count": 9,
   "metadata": {},
   "outputs": [
    {
     "name": "stdout",
     "output_type": "stream",
     "text": [
      "<class 'bs4.element.ResultSet'>\n"
     ]
    },
    {
     "data": {
      "text/plain": [
       "[<h1>Test Sites</h1>, <h1>E-commerce training site</h1>]"
      ]
     },
     "execution_count": 9,
     "metadata": {},
     "output_type": "execute_result"
    }
   ],
   "source": [
    "h1s = soup.find_all('h1')\n",
    "print(type(h1s))\n",
    "\n",
    "h1s"
   ]
  },
  {
   "cell_type": "code",
   "execution_count": 10,
   "metadata": {},
   "outputs": [
    {
     "name": "stdout",
     "output_type": "stream",
     "text": [
      "Test Sites\n",
      "E-commerce training site\n"
     ]
    }
   ],
   "source": [
    "# Define the type of the iterated value\n",
    "h1: element.Tag\n",
    "\n",
    "for h1 in h1s:\n",
    "    print(h1.get_text())"
   ]
  },
  {
   "cell_type": "markdown",
   "metadata": {},
   "source": [
    "#### Collect all links in Sidebar navigation\n",
    "\n",
    "`find` and `find_all` methods receive an optional second argument.\n",
    "\n",
    "In this argument we pass a dictionary with defined HTML tag attributes we are looking for."
   ]
  },
  {
   "cell_type": "code",
   "execution_count": 11,
   "metadata": {},
   "outputs": [],
   "source": [
    "# Get only the wrapper of side-menu\n",
    "sidemenu = soup.find('ul', {'id': 'side-menu'})"
   ]
  },
  {
   "cell_type": "markdown",
   "metadata": {},
   "source": [
    "It is possible to execute BeautifulSoup methods on a piece of taken HTML.\n",
    "\n",
    "We are working on a `side-menu` list. Let's take a peek how does it look like"
   ]
  },
  {
   "cell_type": "code",
   "execution_count": 12,
   "metadata": {},
   "outputs": [
    {
     "data": {
      "text/plain": [
       "<ul class=\"nav\" id=\"side-menu\">\n",
       "<li class=\"active\">\n",
       "<a href=\"/test-sites/e-commerce/allinone\">Home</a>\n",
       "</li>\n",
       "<li>\n",
       "<a class=\"category-link\" href=\"/test-sites/e-commerce/allinone/phones\">\n",
       "\t\t\t\t\tPhones\n",
       "\t\t\t\t\t<span class=\"fa arrow\"></span>\n",
       "</a>\n",
       "</li>\n",
       "<li>\n",
       "<a class=\"category-link\" href=\"/test-sites/e-commerce/allinone/computers\">\n",
       "\t\t\t\t\tComputers\n",
       "\t\t\t\t\t<span class=\"fa arrow\"></span>\n",
       "</a>\n",
       "</li>\n",
       "</ul>"
      ]
     },
     "execution_count": 12,
     "metadata": {},
     "output_type": "execute_result"
    }
   ],
   "source": [
    "sidemenu"
   ]
  },
  {
   "cell_type": "markdown",
   "metadata": {},
   "source": [
    "Every tag can have attributes like `class`, `id`, `aria-*` or `data-*` which is additional information for the browser on how it should be presented.\n",
    "\n",
    "In our case it is really useful, because we can search for HTML tags with certain attributes."
   ]
  },
  {
   "cell_type": "code",
   "execution_count": 13,
   "metadata": {},
   "outputs": [
    {
     "data": {
      "text/plain": [
       "{'class': ['nav'], 'id': 'side-menu'}"
      ]
     },
     "execution_count": 13,
     "metadata": {},
     "output_type": "execute_result"
    }
   ],
   "source": [
    "sidemenu.attrs"
   ]
  },
  {
   "cell_type": "code",
   "execution_count": 14,
   "metadata": {},
   "outputs": [],
   "source": [
    "# Get all links and save them to a variable\n",
    "anchors = sidemenu.find_all('a')\n",
    "links = []\n",
    "link: element.Tag\n",
    "for link in anchors:\n",
    "    links.append(link.get('href'))"
   ]
  },
  {
   "cell_type": "markdown",
   "metadata": {},
   "source": [
    "Searching for navigation links during web scraping is useful when building web crawlers."
   ]
  },
  {
   "cell_type": "code",
   "execution_count": 15,
   "metadata": {},
   "outputs": [
    {
     "data": {
      "text/plain": [
       "['/test-sites/e-commerce/allinone',\n",
       " '/test-sites/e-commerce/allinone/phones',\n",
       " '/test-sites/e-commerce/allinone/computers']"
      ]
     },
     "execution_count": 15,
     "metadata": {},
     "output_type": "execute_result"
    }
   ],
   "source": [
    "links"
   ]
  },
  {
   "attachments": {},
   "cell_type": "markdown",
   "metadata": {},
   "source": [
    "## <span style=\"color:red\">**Task 1**</span>\n",
    "\n",
    "Our client asked us to collect the products sold on [Laptop Subpage](https://webscraper.io/test-sites/e-commerce/allinone/computers/laptops) website.\n",
    "\n",
    "Gather following data and save it to a pandas DataFrame:\n",
    "- full name of the laptop,\n",
    "- description of an item\n",
    "- price in dollars, \n",
    "- number of reviews,\n",
    "- overall rating\n",
    "\n",
    "1. Find out what is the average price of laptops on this website.\n",
    "2. Sort models by rating to price ratio and find the best deal.\n",
    "3. Visualize number of laptops for each rating.\n"
   ]
  },
  {
   "cell_type": "code",
   "execution_count": 16,
   "metadata": {},
   "outputs": [],
   "source": [
    "url = 'https://webscraper.io/test-sites/e-commerce/allinone/computers/laptops'\n",
    "html = requests.get(url)\n",
    "\n",
    "soup = BeautifulSoup(html._content)"
   ]
  },
  {
   "cell_type": "code",
   "execution_count": 17,
   "metadata": {},
   "outputs": [
    {
     "ename": "TypeError",
     "evalue": "cannot concatenate object of type '<class 'bs4.element.Tag'>'; only Series and DataFrame objs are valid",
     "output_type": "error",
     "traceback": [
      "\u001b[1;31m---------------------------------------------------------------------------\u001b[0m",
      "\u001b[1;31mTypeError\u001b[0m                                 Traceback (most recent call last)",
      "\u001b[1;32mc:\\Users\\48518\\My Drive\\My Uni\\Koźmin\\Semester_4\\python-applications\\class_2\\class_2_students.ipynb Cell 31\u001b[0m in \u001b[0;36m1\n\u001b[0;32m      <a href='vscode-notebook-cell:/c%3A/Users/48518/My%20Drive/My%20Uni/Ko%C5%BAmin/Semester_4/python-applications/class_2/class_2_students.ipynb#X42sZmlsZQ%3D%3D?line=7'>8</a>\u001b[0m     reviews \u001b[39m=\u001b[39m laptop\u001b[39m.\u001b[39mfind(\u001b[39m'\u001b[39m\u001b[39mp\u001b[39m\u001b[39m'\u001b[39m, {\u001b[39m'\u001b[39m\u001b[39mclass\u001b[39m\u001b[39m'\u001b[39m: \u001b[39m'\u001b[39m\u001b[39mpull-right\u001b[39m\u001b[39m'\u001b[39m})\u001b[39m.\u001b[39mget_text()\n\u001b[0;32m      <a href='vscode-notebook-cell:/c%3A/Users/48518/My%20Drive/My%20Uni/Ko%C5%BAmin/Semester_4/python-applications/class_2/class_2_students.ipynb#X42sZmlsZQ%3D%3D?line=8'>9</a>\u001b[0m     rating \u001b[39m=\u001b[39m laptop\u001b[39m.\u001b[39mfind(\u001b[39m'\u001b[39m\u001b[39mp\u001b[39m\u001b[39m'\u001b[39m, {\u001b[39m'\u001b[39m\u001b[39mdata-rating\u001b[39m\u001b[39m'\u001b[39m: \u001b[39mTrue\u001b[39;00m})\u001b[39m.\u001b[39mattrs[\u001b[39m'\u001b[39m\u001b[39mdata-rating\u001b[39m\u001b[39m'\u001b[39m]\n\u001b[1;32m---> <a href='vscode-notebook-cell:/c%3A/Users/48518/My%20Drive/My%20Uni/Ko%C5%BAmin/Semester_4/python-applications/class_2/class_2_students.ipynb#X42sZmlsZQ%3D%3D?line=9'>10</a>\u001b[0m     laptops \u001b[39m=\u001b[39m pd\u001b[39m.\u001b[39mconcat([laptop, pd\u001b[39m.\u001b[39mDataFrame({\u001b[39m'\u001b[39m\u001b[39mname\u001b[39m\u001b[39m'\u001b[39m: [name], \u001b[39m'\u001b[39m\u001b[39mdescription\u001b[39m\u001b[39m'\u001b[39m: [description], \u001b[39m'\u001b[39m\u001b[39mprice\u001b[39m\u001b[39m'\u001b[39m: [price], \u001b[39m'\u001b[39m\u001b[39mreviews\u001b[39m\u001b[39m'\u001b[39m: [reviews], \u001b[39m'\u001b[39m\u001b[39mrating\u001b[39m\u001b[39m'\u001b[39m: [rating]})], ignore_index\u001b[39m=\u001b[39m\u001b[39mTrue\u001b[39;00m)\n\u001b[0;32m     <a href='vscode-notebook-cell:/c%3A/Users/48518/My%20Drive/My%20Uni/Ko%C5%BAmin/Semester_4/python-applications/class_2/class_2_students.ipynb#X42sZmlsZQ%3D%3D?line=10'>11</a>\u001b[0m laptops\n",
      "File \u001b[1;32mc:\\Users\\48518\\AppData\\Local\\Programs\\Python\\Python310\\lib\\site-packages\\pandas\\util\\_decorators.py:311\u001b[0m, in \u001b[0;36mdeprecate_nonkeyword_arguments.<locals>.decorate.<locals>.wrapper\u001b[1;34m(*args, **kwargs)\u001b[0m\n\u001b[0;32m    305\u001b[0m \u001b[39mif\u001b[39;00m \u001b[39mlen\u001b[39m(args) \u001b[39m>\u001b[39m num_allow_args:\n\u001b[0;32m    306\u001b[0m     warnings\u001b[39m.\u001b[39mwarn(\n\u001b[0;32m    307\u001b[0m         msg\u001b[39m.\u001b[39mformat(arguments\u001b[39m=\u001b[39marguments),\n\u001b[0;32m    308\u001b[0m         \u001b[39mFutureWarning\u001b[39;00m,\n\u001b[0;32m    309\u001b[0m         stacklevel\u001b[39m=\u001b[39mstacklevel,\n\u001b[0;32m    310\u001b[0m     )\n\u001b[1;32m--> 311\u001b[0m \u001b[39mreturn\u001b[39;00m func(\u001b[39m*\u001b[39margs, \u001b[39m*\u001b[39m\u001b[39m*\u001b[39mkwargs)\n",
      "File \u001b[1;32mc:\\Users\\48518\\AppData\\Local\\Programs\\Python\\Python310\\lib\\site-packages\\pandas\\core\\reshape\\concat.py:347\u001b[0m, in \u001b[0;36mconcat\u001b[1;34m(objs, axis, join, ignore_index, keys, levels, names, verify_integrity, sort, copy)\u001b[0m\n\u001b[0;32m    143\u001b[0m \u001b[39m@deprecate_nonkeyword_arguments\u001b[39m(version\u001b[39m=\u001b[39m\u001b[39mNone\u001b[39;00m, allowed_args\u001b[39m=\u001b[39m[\u001b[39m\"\u001b[39m\u001b[39mobjs\u001b[39m\u001b[39m\"\u001b[39m])\n\u001b[0;32m    144\u001b[0m \u001b[39mdef\u001b[39;00m \u001b[39mconcat\u001b[39m(\n\u001b[0;32m    145\u001b[0m     objs: Iterable[NDFrame] \u001b[39m|\u001b[39m Mapping[Hashable, NDFrame],\n\u001b[1;32m   (...)\u001b[0m\n\u001b[0;32m    154\u001b[0m     copy: \u001b[39mbool\u001b[39m \u001b[39m=\u001b[39m \u001b[39mTrue\u001b[39;00m,\n\u001b[0;32m    155\u001b[0m ) \u001b[39m-\u001b[39m\u001b[39m>\u001b[39m DataFrame \u001b[39m|\u001b[39m Series:\n\u001b[0;32m    156\u001b[0m     \u001b[39m\"\"\"\u001b[39;00m\n\u001b[0;32m    157\u001b[0m \u001b[39m    Concatenate pandas objects along a particular axis with optional set logic\u001b[39;00m\n\u001b[0;32m    158\u001b[0m \u001b[39m    along the other axes.\u001b[39;00m\n\u001b[1;32m   (...)\u001b[0m\n\u001b[0;32m    345\u001b[0m \u001b[39m    ValueError: Indexes have overlapping values: ['a']\u001b[39;00m\n\u001b[0;32m    346\u001b[0m \u001b[39m    \"\"\"\u001b[39;00m\n\u001b[1;32m--> 347\u001b[0m     op \u001b[39m=\u001b[39m _Concatenator(\n\u001b[0;32m    348\u001b[0m         objs,\n\u001b[0;32m    349\u001b[0m         axis\u001b[39m=\u001b[39;49maxis,\n\u001b[0;32m    350\u001b[0m         ignore_index\u001b[39m=\u001b[39;49mignore_index,\n\u001b[0;32m    351\u001b[0m         join\u001b[39m=\u001b[39;49mjoin,\n\u001b[0;32m    352\u001b[0m         keys\u001b[39m=\u001b[39;49mkeys,\n\u001b[0;32m    353\u001b[0m         levels\u001b[39m=\u001b[39;49mlevels,\n\u001b[0;32m    354\u001b[0m         names\u001b[39m=\u001b[39;49mnames,\n\u001b[0;32m    355\u001b[0m         verify_integrity\u001b[39m=\u001b[39;49mverify_integrity,\n\u001b[0;32m    356\u001b[0m         copy\u001b[39m=\u001b[39;49mcopy,\n\u001b[0;32m    357\u001b[0m         sort\u001b[39m=\u001b[39;49msort,\n\u001b[0;32m    358\u001b[0m     )\n\u001b[0;32m    360\u001b[0m     \u001b[39mreturn\u001b[39;00m op\u001b[39m.\u001b[39mget_result()\n",
      "File \u001b[1;32mc:\\Users\\48518\\AppData\\Local\\Programs\\Python\\Python310\\lib\\site-packages\\pandas\\core\\reshape\\concat.py:437\u001b[0m, in \u001b[0;36m_Concatenator.__init__\u001b[1;34m(self, objs, axis, join, keys, levels, names, ignore_index, verify_integrity, copy, sort)\u001b[0m\n\u001b[0;32m    432\u001b[0m     \u001b[39mif\u001b[39;00m \u001b[39mnot\u001b[39;00m \u001b[39misinstance\u001b[39m(obj, (ABCSeries, ABCDataFrame)):\n\u001b[0;32m    433\u001b[0m         msg \u001b[39m=\u001b[39m (\n\u001b[0;32m    434\u001b[0m             \u001b[39mf\u001b[39m\u001b[39m\"\u001b[39m\u001b[39mcannot concatenate object of type \u001b[39m\u001b[39m'\u001b[39m\u001b[39m{\u001b[39;00m\u001b[39mtype\u001b[39m(obj)\u001b[39m}\u001b[39;00m\u001b[39m'\u001b[39m\u001b[39m; \u001b[39m\u001b[39m\"\u001b[39m\n\u001b[0;32m    435\u001b[0m             \u001b[39m\"\u001b[39m\u001b[39monly Series and DataFrame objs are valid\u001b[39m\u001b[39m\"\u001b[39m\n\u001b[0;32m    436\u001b[0m         )\n\u001b[1;32m--> 437\u001b[0m         \u001b[39mraise\u001b[39;00m \u001b[39mTypeError\u001b[39;00m(msg)\n\u001b[0;32m    439\u001b[0m     ndims\u001b[39m.\u001b[39madd(obj\u001b[39m.\u001b[39mndim)\n\u001b[0;32m    441\u001b[0m \u001b[39m# get the sample\u001b[39;00m\n\u001b[0;32m    442\u001b[0m \u001b[39m# want the highest ndim that we have, and must be non-empty\u001b[39;00m\n\u001b[0;32m    443\u001b[0m \u001b[39m# unless all objs are empty\u001b[39;00m\n",
      "\u001b[1;31mTypeError\u001b[0m: cannot concatenate object of type '<class 'bs4.element.Tag'>'; only Series and DataFrame objs are valid"
     ]
    }
   ],
   "source": [
    "# Get all the laptops\n",
    "laptop: element.Tag\n",
    "\n",
    "for laptop in soup.find_all('div', {'class': 'col-sm-4 col-lg-4 col-md-4'}):\n",
    "    name = laptop.find('a', {'class': 'title'}).get_text()\n",
    "    description = laptop.find('p', {'class': 'description'}).get_text()\n",
    "    price = laptop.find('h4', {'class': 'pull-right price'}).get_text()\n",
    "    reviews = laptop.find('p', {'class': 'pull-right'}).get_text()\n",
    "    rating = laptop.find('p', {'data-rating': True}).attrs['data-rating']\n",
    "    laptops = pd.concat([laptop, pd.DataFrame({'name': [name], 'description': [description], 'price': [price], 'reviews': [reviews], 'rating': [rating]})], ignore_index=True)\n",
    "laptops"
   ]
  },
  {
   "attachments": {},
   "cell_type": "markdown",
   "metadata": {},
   "source": [
    "## Selenium - Human interactions on the browser\n",
    "\n",
    "Used for dynamic websites, websites behind login forms, websites with unpredictable urls.\n",
    "\n",
    "In this chapter we want to automate interaction on the browser. \n",
    "Sometimes certain pages cannot be easily accessed - i.e they stay behind login forms, \n",
    "exist under unpredictable url or have to be accessed via click of the button.\n",
    "\n",
    "In this case we need to use Selenium library.\n",
    "\n",
    "Let's download **webdriver** of your current browser.\n",
    "\n",
    "[Installation guide for selenium](https://selenium-python.readthedocs.io/installation.html#)\n",
    "\n",
    "[Drivers](https://selenium-python.readthedocs.io/installation.html#drivers)"
   ]
  },
  {
   "cell_type": "code",
   "execution_count": 2,
   "metadata": {},
   "outputs": [],
   "source": [
    "from selenium import webdriver\n",
    "from selenium.webdriver.common.by import By"
   ]
  },
  {
   "cell_type": "code",
   "execution_count": null,
   "metadata": {},
   "outputs": [
    {
     "name": "stderr",
     "output_type": "stream",
     "text": [
      "[WDM] - Downloading: 100%|██████████| 6.78M/6.78M [00:02<00:00, 2.86MB/s]\n"
     ]
    }
   ],
   "source": [
    "driver = webdriver.Chrome(service=Service(ChromeDriverManager().install()))\n",
    "driver.get('https://pythonscraping.com/linkedin/cookies/login.html')"
   ]
  },
  {
   "cell_type": "code",
   "execution_count": null,
   "metadata": {},
   "outputs": [],
   "source": [
    "username_input = driver.find_element(by='name', value='username')\n",
    "username_input.send_keys('test')"
   ]
  },
  {
   "cell_type": "code",
   "execution_count": null,
   "metadata": {},
   "outputs": [],
   "source": [
    "username_input = driver.find_element('name', 'password')\n",
    "username_input.send_keys('password')"
   ]
  },
  {
   "cell_type": "code",
   "execution_count": null,
   "metadata": {},
   "outputs": [],
   "source": [
    "button = driver.find_element(By.XPATH, \"//input[@type='submit']\")\n",
    "button.click()"
   ]
  },
  {
   "cell_type": "markdown",
   "metadata": {},
   "source": [
    "Click on the link that has content `Check out your profile!`"
   ]
  },
  {
   "cell_type": "code",
   "execution_count": null,
   "metadata": {},
   "outputs": [],
   "source": [
    "link = driver.find_element(By.XPATH, \"//*[text() = 'Check out your profile!']\")\n",
    "link.click()"
   ]
  },
  {
   "cell_type": "code",
   "execution_count": 3,
   "metadata": {},
   "outputs": [],
   "source": [
    "from selenium.webdriver.support.ui import WebDriverWait\n",
    "from selenium.webdriver.support import expected_conditions as EC\n",
    "from selenium.webdriver.common.by import By\n",
    "\n",
    "from selenium.webdriver.common.action_chains import ActionChains"
   ]
  },
  {
   "cell_type": "code",
   "execution_count": null,
   "metadata": {},
   "outputs": [],
   "source": [
    "driver = webdriver.Chrome(service=Service(ChromeDriverManager().install()))\n",
    "driver.get('https://www.booking.com/')"
   ]
  },
  {
   "cell_type": "code",
   "execution_count": null,
   "metadata": {},
   "outputs": [
    {
     "ename": "ProtocolError",
     "evalue": "('Connection aborted.', ConnectionResetError(10054, 'An existing connection was forcibly closed by the remote host', None, 10054, None))",
     "output_type": "error",
     "traceback": [
      "\u001b[1;31m---------------------------------------------------------------------------\u001b[0m",
      "\u001b[1;31mConnectionResetError\u001b[0m                      Traceback (most recent call last)",
      "File \u001b[1;32mc:\\Users\\48518\\AppData\\Local\\Programs\\Python\\Python310\\lib\\site-packages\\urllib3\\connectionpool.py:703\u001b[0m, in \u001b[0;36mHTTPConnectionPool.urlopen\u001b[1;34m(self, method, url, body, headers, retries, redirect, assert_same_host, timeout, pool_timeout, release_conn, chunked, body_pos, **response_kw)\u001b[0m\n\u001b[0;32m    702\u001b[0m \u001b[39m# Make the request on the httplib connection object.\u001b[39;00m\n\u001b[1;32m--> 703\u001b[0m httplib_response \u001b[39m=\u001b[39m \u001b[39mself\u001b[39;49m\u001b[39m.\u001b[39;49m_make_request(\n\u001b[0;32m    704\u001b[0m     conn,\n\u001b[0;32m    705\u001b[0m     method,\n\u001b[0;32m    706\u001b[0m     url,\n\u001b[0;32m    707\u001b[0m     timeout\u001b[39m=\u001b[39;49mtimeout_obj,\n\u001b[0;32m    708\u001b[0m     body\u001b[39m=\u001b[39;49mbody,\n\u001b[0;32m    709\u001b[0m     headers\u001b[39m=\u001b[39;49mheaders,\n\u001b[0;32m    710\u001b[0m     chunked\u001b[39m=\u001b[39;49mchunked,\n\u001b[0;32m    711\u001b[0m )\n\u001b[0;32m    713\u001b[0m \u001b[39m# If we're going to release the connection in ``finally:``, then\u001b[39;00m\n\u001b[0;32m    714\u001b[0m \u001b[39m# the response doesn't need to know about the connection. Otherwise\u001b[39;00m\n\u001b[0;32m    715\u001b[0m \u001b[39m# it will also try to release it and we'll have a double-release\u001b[39;00m\n\u001b[0;32m    716\u001b[0m \u001b[39m# mess.\u001b[39;00m\n",
      "File \u001b[1;32mc:\\Users\\48518\\AppData\\Local\\Programs\\Python\\Python310\\lib\\site-packages\\urllib3\\connectionpool.py:449\u001b[0m, in \u001b[0;36mHTTPConnectionPool._make_request\u001b[1;34m(self, conn, method, url, timeout, chunked, **httplib_request_kw)\u001b[0m\n\u001b[0;32m    445\u001b[0m         \u001b[39mexcept\u001b[39;00m \u001b[39mBaseException\u001b[39;00m \u001b[39mas\u001b[39;00m e:\n\u001b[0;32m    446\u001b[0m             \u001b[39m# Remove the TypeError from the exception chain in\u001b[39;00m\n\u001b[0;32m    447\u001b[0m             \u001b[39m# Python 3 (including for exceptions like SystemExit).\u001b[39;00m\n\u001b[0;32m    448\u001b[0m             \u001b[39m# Otherwise it looks like a bug in the code.\u001b[39;00m\n\u001b[1;32m--> 449\u001b[0m             six\u001b[39m.\u001b[39;49mraise_from(e, \u001b[39mNone\u001b[39;49;00m)\n\u001b[0;32m    450\u001b[0m \u001b[39mexcept\u001b[39;00m (SocketTimeout, BaseSSLError, SocketError) \u001b[39mas\u001b[39;00m e:\n",
      "File \u001b[1;32m<string>:3\u001b[0m, in \u001b[0;36mraise_from\u001b[1;34m(value, from_value)\u001b[0m\n",
      "File \u001b[1;32mc:\\Users\\48518\\AppData\\Local\\Programs\\Python\\Python310\\lib\\site-packages\\urllib3\\connectionpool.py:444\u001b[0m, in \u001b[0;36mHTTPConnectionPool._make_request\u001b[1;34m(self, conn, method, url, timeout, chunked, **httplib_request_kw)\u001b[0m\n\u001b[0;32m    443\u001b[0m \u001b[39mtry\u001b[39;00m:\n\u001b[1;32m--> 444\u001b[0m     httplib_response \u001b[39m=\u001b[39m conn\u001b[39m.\u001b[39;49mgetresponse()\n\u001b[0;32m    445\u001b[0m \u001b[39mexcept\u001b[39;00m \u001b[39mBaseException\u001b[39;00m \u001b[39mas\u001b[39;00m e:\n\u001b[0;32m    446\u001b[0m     \u001b[39m# Remove the TypeError from the exception chain in\u001b[39;00m\n\u001b[0;32m    447\u001b[0m     \u001b[39m# Python 3 (including for exceptions like SystemExit).\u001b[39;00m\n\u001b[0;32m    448\u001b[0m     \u001b[39m# Otherwise it looks like a bug in the code.\u001b[39;00m\n",
      "File \u001b[1;32mc:\\Users\\48518\\AppData\\Local\\Programs\\Python\\Python310\\lib\\http\\client.py:1374\u001b[0m, in \u001b[0;36mHTTPConnection.getresponse\u001b[1;34m(self)\u001b[0m\n\u001b[0;32m   1373\u001b[0m \u001b[39mtry\u001b[39;00m:\n\u001b[1;32m-> 1374\u001b[0m     response\u001b[39m.\u001b[39;49mbegin()\n\u001b[0;32m   1375\u001b[0m \u001b[39mexcept\u001b[39;00m \u001b[39mConnectionError\u001b[39;00m:\n",
      "File \u001b[1;32mc:\\Users\\48518\\AppData\\Local\\Programs\\Python\\Python310\\lib\\http\\client.py:318\u001b[0m, in \u001b[0;36mHTTPResponse.begin\u001b[1;34m(self)\u001b[0m\n\u001b[0;32m    317\u001b[0m \u001b[39mwhile\u001b[39;00m \u001b[39mTrue\u001b[39;00m:\n\u001b[1;32m--> 318\u001b[0m     version, status, reason \u001b[39m=\u001b[39m \u001b[39mself\u001b[39;49m\u001b[39m.\u001b[39;49m_read_status()\n\u001b[0;32m    319\u001b[0m     \u001b[39mif\u001b[39;00m status \u001b[39m!=\u001b[39m CONTINUE:\n",
      "File \u001b[1;32mc:\\Users\\48518\\AppData\\Local\\Programs\\Python\\Python310\\lib\\http\\client.py:279\u001b[0m, in \u001b[0;36mHTTPResponse._read_status\u001b[1;34m(self)\u001b[0m\n\u001b[0;32m    278\u001b[0m \u001b[39mdef\u001b[39;00m \u001b[39m_read_status\u001b[39m(\u001b[39mself\u001b[39m):\n\u001b[1;32m--> 279\u001b[0m     line \u001b[39m=\u001b[39m \u001b[39mstr\u001b[39m(\u001b[39mself\u001b[39;49m\u001b[39m.\u001b[39;49mfp\u001b[39m.\u001b[39;49mreadline(_MAXLINE \u001b[39m+\u001b[39;49m \u001b[39m1\u001b[39;49m), \u001b[39m\"\u001b[39m\u001b[39miso-8859-1\u001b[39m\u001b[39m\"\u001b[39m)\n\u001b[0;32m    280\u001b[0m     \u001b[39mif\u001b[39;00m \u001b[39mlen\u001b[39m(line) \u001b[39m>\u001b[39m _MAXLINE:\n",
      "File \u001b[1;32mc:\\Users\\48518\\AppData\\Local\\Programs\\Python\\Python310\\lib\\socket.py:705\u001b[0m, in \u001b[0;36mSocketIO.readinto\u001b[1;34m(self, b)\u001b[0m\n\u001b[0;32m    704\u001b[0m \u001b[39mtry\u001b[39;00m:\n\u001b[1;32m--> 705\u001b[0m     \u001b[39mreturn\u001b[39;00m \u001b[39mself\u001b[39;49m\u001b[39m.\u001b[39;49m_sock\u001b[39m.\u001b[39;49mrecv_into(b)\n\u001b[0;32m    706\u001b[0m \u001b[39mexcept\u001b[39;00m timeout:\n",
      "\u001b[1;31mConnectionResetError\u001b[0m: [WinError 10054] An existing connection was forcibly closed by the remote host",
      "\nDuring handling of the above exception, another exception occurred:\n",
      "\u001b[1;31mProtocolError\u001b[0m                             Traceback (most recent call last)",
      "\u001b[1;32mc:\\Users\\48518\\My Drive\\My Uni\\Koźmin\\Semester_4\\python-applications\\class_2\\class_2_students.ipynb Cell 42\u001b[0m in \u001b[0;36m2\n\u001b[0;32m      <a href='vscode-notebook-cell:/c%3A/Users/48518/My%20Drive/My%20Uni/Ko%C5%BAmin/Semester_4/python-applications/class_2/class_2_students.ipynb#X56sZmlsZQ%3D%3D?line=0'>1</a>\u001b[0m \u001b[39m# Close Cookies banner\u001b[39;00m\n\u001b[1;32m----> <a href='vscode-notebook-cell:/c%3A/Users/48518/My%20Drive/My%20Uni/Ko%C5%BAmin/Semester_4/python-applications/class_2/class_2_students.ipynb#X56sZmlsZQ%3D%3D?line=1'>2</a>\u001b[0m cookie_banner \u001b[39m=\u001b[39m driver\u001b[39m.\u001b[39mfind_element(By\u001b[39m.\u001b[39mID,\u001b[39m'\u001b[39m\u001b[39monetrust-accept-btn-handler\u001b[39m\u001b[39m'\u001b[39m)\n\u001b[0;32m      <a href='vscode-notebook-cell:/c%3A/Users/48518/My%20Drive/My%20Uni/Ko%C5%BAmin/Semester_4/python-applications/class_2/class_2_students.ipynb#X56sZmlsZQ%3D%3D?line=2'>3</a>\u001b[0m cookie_banner\u001b[39m.\u001b[39mclick()\n",
      "File \u001b[1;32mc:\\Users\\48518\\AppData\\Local\\Programs\\Python\\Python310\\lib\\site-packages\\selenium\\webdriver\\remote\\webdriver.py:830\u001b[0m, in \u001b[0;36mWebDriver.find_element\u001b[1;34m(self, by, value)\u001b[0m\n\u001b[0;32m    827\u001b[0m     by \u001b[39m=\u001b[39m By\u001b[39m.\u001b[39mCSS_SELECTOR\n\u001b[0;32m    828\u001b[0m     value \u001b[39m=\u001b[39m \u001b[39mf\u001b[39m\u001b[39m'\u001b[39m\u001b[39m[name=\u001b[39m\u001b[39m\"\u001b[39m\u001b[39m{\u001b[39;00mvalue\u001b[39m}\u001b[39;00m\u001b[39m\"\u001b[39m\u001b[39m]\u001b[39m\u001b[39m'\u001b[39m\n\u001b[1;32m--> 830\u001b[0m \u001b[39mreturn\u001b[39;00m \u001b[39mself\u001b[39;49m\u001b[39m.\u001b[39;49mexecute(Command\u001b[39m.\u001b[39;49mFIND_ELEMENT, {\u001b[39m\"\u001b[39;49m\u001b[39musing\u001b[39;49m\u001b[39m\"\u001b[39;49m: by, \u001b[39m\"\u001b[39;49m\u001b[39mvalue\u001b[39;49m\u001b[39m\"\u001b[39;49m: value})[\u001b[39m\"\u001b[39m\u001b[39mvalue\u001b[39m\u001b[39m\"\u001b[39m]\n",
      "File \u001b[1;32mc:\\Users\\48518\\AppData\\Local\\Programs\\Python\\Python310\\lib\\site-packages\\selenium\\webdriver\\remote\\webdriver.py:438\u001b[0m, in \u001b[0;36mWebDriver.execute\u001b[1;34m(self, driver_command, params)\u001b[0m\n\u001b[0;32m    435\u001b[0m     \u001b[39melif\u001b[39;00m \u001b[39m\"\u001b[39m\u001b[39msessionId\u001b[39m\u001b[39m\"\u001b[39m \u001b[39mnot\u001b[39;00m \u001b[39min\u001b[39;00m params:\n\u001b[0;32m    436\u001b[0m         params[\u001b[39m\"\u001b[39m\u001b[39msessionId\u001b[39m\u001b[39m\"\u001b[39m] \u001b[39m=\u001b[39m \u001b[39mself\u001b[39m\u001b[39m.\u001b[39msession_id\n\u001b[1;32m--> 438\u001b[0m response \u001b[39m=\u001b[39m \u001b[39mself\u001b[39;49m\u001b[39m.\u001b[39;49mcommand_executor\u001b[39m.\u001b[39;49mexecute(driver_command, params)\n\u001b[0;32m    439\u001b[0m \u001b[39mif\u001b[39;00m response:\n\u001b[0;32m    440\u001b[0m     \u001b[39mself\u001b[39m\u001b[39m.\u001b[39merror_handler\u001b[39m.\u001b[39mcheck_response(response)\n",
      "File \u001b[1;32mc:\\Users\\48518\\AppData\\Local\\Programs\\Python\\Python310\\lib\\site-packages\\selenium\\webdriver\\remote\\remote_connection.py:290\u001b[0m, in \u001b[0;36mRemoteConnection.execute\u001b[1;34m(self, command, params)\u001b[0m\n\u001b[0;32m    288\u001b[0m data \u001b[39m=\u001b[39m utils\u001b[39m.\u001b[39mdump_json(params)\n\u001b[0;32m    289\u001b[0m url \u001b[39m=\u001b[39m \u001b[39mf\u001b[39m\u001b[39m\"\u001b[39m\u001b[39m{\u001b[39;00m\u001b[39mself\u001b[39m\u001b[39m.\u001b[39m_url\u001b[39m}\u001b[39;00m\u001b[39m{\u001b[39;00mpath\u001b[39m}\u001b[39;00m\u001b[39m\"\u001b[39m\n\u001b[1;32m--> 290\u001b[0m \u001b[39mreturn\u001b[39;00m \u001b[39mself\u001b[39;49m\u001b[39m.\u001b[39;49m_request(command_info[\u001b[39m0\u001b[39;49m], url, body\u001b[39m=\u001b[39;49mdata)\n",
      "File \u001b[1;32mc:\\Users\\48518\\AppData\\Local\\Programs\\Python\\Python310\\lib\\site-packages\\selenium\\webdriver\\remote\\remote_connection.py:311\u001b[0m, in \u001b[0;36mRemoteConnection._request\u001b[1;34m(self, method, url, body)\u001b[0m\n\u001b[0;32m    308\u001b[0m     body \u001b[39m=\u001b[39m \u001b[39mNone\u001b[39;00m\n\u001b[0;32m    310\u001b[0m \u001b[39mif\u001b[39;00m \u001b[39mself\u001b[39m\u001b[39m.\u001b[39mkeep_alive:\n\u001b[1;32m--> 311\u001b[0m     response \u001b[39m=\u001b[39m \u001b[39mself\u001b[39;49m\u001b[39m.\u001b[39;49m_conn\u001b[39m.\u001b[39;49mrequest(method, url, body\u001b[39m=\u001b[39;49mbody, headers\u001b[39m=\u001b[39;49mheaders)\n\u001b[0;32m    312\u001b[0m     statuscode \u001b[39m=\u001b[39m response\u001b[39m.\u001b[39mstatus\n\u001b[0;32m    313\u001b[0m \u001b[39melse\u001b[39;00m:\n",
      "File \u001b[1;32mc:\\Users\\48518\\AppData\\Local\\Programs\\Python\\Python310\\lib\\site-packages\\urllib3\\request.py:78\u001b[0m, in \u001b[0;36mRequestMethods.request\u001b[1;34m(self, method, url, fields, headers, **urlopen_kw)\u001b[0m\n\u001b[0;32m     74\u001b[0m     \u001b[39mreturn\u001b[39;00m \u001b[39mself\u001b[39m\u001b[39m.\u001b[39mrequest_encode_url(\n\u001b[0;32m     75\u001b[0m         method, url, fields\u001b[39m=\u001b[39mfields, headers\u001b[39m=\u001b[39mheaders, \u001b[39m*\u001b[39m\u001b[39m*\u001b[39murlopen_kw\n\u001b[0;32m     76\u001b[0m     )\n\u001b[0;32m     77\u001b[0m \u001b[39melse\u001b[39;00m:\n\u001b[1;32m---> 78\u001b[0m     \u001b[39mreturn\u001b[39;00m \u001b[39mself\u001b[39m\u001b[39m.\u001b[39mrequest_encode_body(\n\u001b[0;32m     79\u001b[0m         method, url, fields\u001b[39m=\u001b[39mfields, headers\u001b[39m=\u001b[39mheaders, \u001b[39m*\u001b[39m\u001b[39m*\u001b[39murlopen_kw\n\u001b[0;32m     80\u001b[0m     )\n",
      "File \u001b[1;32mc:\\Users\\48518\\AppData\\Local\\Programs\\Python\\Python310\\lib\\site-packages\\urllib3\\request.py:170\u001b[0m, in \u001b[0;36mRequestMethods.request_encode_body\u001b[1;34m(self, method, url, fields, headers, encode_multipart, multipart_boundary, **urlopen_kw)\u001b[0m\n\u001b[0;32m    167\u001b[0m extra_kw[\u001b[39m\"\u001b[39m\u001b[39mheaders\u001b[39m\u001b[39m\"\u001b[39m]\u001b[39m.\u001b[39mupdate(headers)\n\u001b[0;32m    168\u001b[0m extra_kw\u001b[39m.\u001b[39mupdate(urlopen_kw)\n\u001b[1;32m--> 170\u001b[0m \u001b[39mreturn\u001b[39;00m \u001b[39mself\u001b[39m\u001b[39m.\u001b[39murlopen(method, url, \u001b[39m*\u001b[39m\u001b[39m*\u001b[39mextra_kw)\n",
      "File \u001b[1;32mc:\\Users\\48518\\AppData\\Local\\Programs\\Python\\Python310\\lib\\site-packages\\urllib3\\poolmanager.py:376\u001b[0m, in \u001b[0;36mPoolManager.urlopen\u001b[1;34m(self, method, url, redirect, **kw)\u001b[0m\n\u001b[0;32m    374\u001b[0m     response \u001b[39m=\u001b[39m conn\u001b[39m.\u001b[39murlopen(method, url, \u001b[39m*\u001b[39m\u001b[39m*\u001b[39mkw)\n\u001b[0;32m    375\u001b[0m \u001b[39melse\u001b[39;00m:\n\u001b[1;32m--> 376\u001b[0m     response \u001b[39m=\u001b[39m conn\u001b[39m.\u001b[39murlopen(method, u\u001b[39m.\u001b[39mrequest_uri, \u001b[39m*\u001b[39m\u001b[39m*\u001b[39mkw)\n\u001b[0;32m    378\u001b[0m redirect_location \u001b[39m=\u001b[39m redirect \u001b[39mand\u001b[39;00m response\u001b[39m.\u001b[39mget_redirect_location()\n\u001b[0;32m    379\u001b[0m \u001b[39mif\u001b[39;00m \u001b[39mnot\u001b[39;00m redirect_location:\n",
      "File \u001b[1;32mc:\\Users\\48518\\AppData\\Local\\Programs\\Python\\Python310\\lib\\site-packages\\urllib3\\connectionpool.py:787\u001b[0m, in \u001b[0;36mHTTPConnectionPool.urlopen\u001b[1;34m(self, method, url, body, headers, retries, redirect, assert_same_host, timeout, pool_timeout, release_conn, chunked, body_pos, **response_kw)\u001b[0m\n\u001b[0;32m    784\u001b[0m \u001b[39melif\u001b[39;00m \u001b[39misinstance\u001b[39m(e, (SocketError, HTTPException)):\n\u001b[0;32m    785\u001b[0m     e \u001b[39m=\u001b[39m ProtocolError(\u001b[39m\"\u001b[39m\u001b[39mConnection aborted.\u001b[39m\u001b[39m\"\u001b[39m, e)\n\u001b[1;32m--> 787\u001b[0m retries \u001b[39m=\u001b[39m retries\u001b[39m.\u001b[39;49mincrement(\n\u001b[0;32m    788\u001b[0m     method, url, error\u001b[39m=\u001b[39;49me, _pool\u001b[39m=\u001b[39;49m\u001b[39mself\u001b[39;49m, _stacktrace\u001b[39m=\u001b[39;49msys\u001b[39m.\u001b[39;49mexc_info()[\u001b[39m2\u001b[39;49m]\n\u001b[0;32m    789\u001b[0m )\n\u001b[0;32m    790\u001b[0m retries\u001b[39m.\u001b[39msleep()\n\u001b[0;32m    792\u001b[0m \u001b[39m# Keep track of the error for the retry warning.\u001b[39;00m\n",
      "File \u001b[1;32mc:\\Users\\48518\\AppData\\Local\\Programs\\Python\\Python310\\lib\\site-packages\\urllib3\\util\\retry.py:550\u001b[0m, in \u001b[0;36mRetry.increment\u001b[1;34m(self, method, url, response, error, _pool, _stacktrace)\u001b[0m\n\u001b[0;32m    547\u001b[0m \u001b[39melif\u001b[39;00m error \u001b[39mand\u001b[39;00m \u001b[39mself\u001b[39m\u001b[39m.\u001b[39m_is_read_error(error):\n\u001b[0;32m    548\u001b[0m     \u001b[39m# Read retry?\u001b[39;00m\n\u001b[0;32m    549\u001b[0m     \u001b[39mif\u001b[39;00m read \u001b[39mis\u001b[39;00m \u001b[39mFalse\u001b[39;00m \u001b[39mor\u001b[39;00m \u001b[39mnot\u001b[39;00m \u001b[39mself\u001b[39m\u001b[39m.\u001b[39m_is_method_retryable(method):\n\u001b[1;32m--> 550\u001b[0m         \u001b[39mraise\u001b[39;00m six\u001b[39m.\u001b[39;49mreraise(\u001b[39mtype\u001b[39;49m(error), error, _stacktrace)\n\u001b[0;32m    551\u001b[0m     \u001b[39melif\u001b[39;00m read \u001b[39mis\u001b[39;00m \u001b[39mnot\u001b[39;00m \u001b[39mNone\u001b[39;00m:\n\u001b[0;32m    552\u001b[0m         read \u001b[39m-\u001b[39m\u001b[39m=\u001b[39m \u001b[39m1\u001b[39m\n",
      "File \u001b[1;32mc:\\Users\\48518\\AppData\\Local\\Programs\\Python\\Python310\\lib\\site-packages\\urllib3\\packages\\six.py:769\u001b[0m, in \u001b[0;36mreraise\u001b[1;34m(tp, value, tb)\u001b[0m\n\u001b[0;32m    767\u001b[0m         value \u001b[39m=\u001b[39m tp()\n\u001b[0;32m    768\u001b[0m     \u001b[39mif\u001b[39;00m value\u001b[39m.\u001b[39m__traceback__ \u001b[39mis\u001b[39;00m \u001b[39mnot\u001b[39;00m tb:\n\u001b[1;32m--> 769\u001b[0m         \u001b[39mraise\u001b[39;00m value\u001b[39m.\u001b[39mwith_traceback(tb)\n\u001b[0;32m    770\u001b[0m     \u001b[39mraise\u001b[39;00m value\n\u001b[0;32m    771\u001b[0m \u001b[39mfinally\u001b[39;00m:\n",
      "File \u001b[1;32mc:\\Users\\48518\\AppData\\Local\\Programs\\Python\\Python310\\lib\\site-packages\\urllib3\\connectionpool.py:703\u001b[0m, in \u001b[0;36mHTTPConnectionPool.urlopen\u001b[1;34m(self, method, url, body, headers, retries, redirect, assert_same_host, timeout, pool_timeout, release_conn, chunked, body_pos, **response_kw)\u001b[0m\n\u001b[0;32m    700\u001b[0m     \u001b[39mself\u001b[39m\u001b[39m.\u001b[39m_prepare_proxy(conn)\n\u001b[0;32m    702\u001b[0m \u001b[39m# Make the request on the httplib connection object.\u001b[39;00m\n\u001b[1;32m--> 703\u001b[0m httplib_response \u001b[39m=\u001b[39m \u001b[39mself\u001b[39;49m\u001b[39m.\u001b[39;49m_make_request(\n\u001b[0;32m    704\u001b[0m     conn,\n\u001b[0;32m    705\u001b[0m     method,\n\u001b[0;32m    706\u001b[0m     url,\n\u001b[0;32m    707\u001b[0m     timeout\u001b[39m=\u001b[39;49mtimeout_obj,\n\u001b[0;32m    708\u001b[0m     body\u001b[39m=\u001b[39;49mbody,\n\u001b[0;32m    709\u001b[0m     headers\u001b[39m=\u001b[39;49mheaders,\n\u001b[0;32m    710\u001b[0m     chunked\u001b[39m=\u001b[39;49mchunked,\n\u001b[0;32m    711\u001b[0m )\n\u001b[0;32m    713\u001b[0m \u001b[39m# If we're going to release the connection in ``finally:``, then\u001b[39;00m\n\u001b[0;32m    714\u001b[0m \u001b[39m# the response doesn't need to know about the connection. Otherwise\u001b[39;00m\n\u001b[0;32m    715\u001b[0m \u001b[39m# it will also try to release it and we'll have a double-release\u001b[39;00m\n\u001b[0;32m    716\u001b[0m \u001b[39m# mess.\u001b[39;00m\n\u001b[0;32m    717\u001b[0m response_conn \u001b[39m=\u001b[39m conn \u001b[39mif\u001b[39;00m \u001b[39mnot\u001b[39;00m release_conn \u001b[39melse\u001b[39;00m \u001b[39mNone\u001b[39;00m\n",
      "File \u001b[1;32mc:\\Users\\48518\\AppData\\Local\\Programs\\Python\\Python310\\lib\\site-packages\\urllib3\\connectionpool.py:449\u001b[0m, in \u001b[0;36mHTTPConnectionPool._make_request\u001b[1;34m(self, conn, method, url, timeout, chunked, **httplib_request_kw)\u001b[0m\n\u001b[0;32m    444\u001b[0m             httplib_response \u001b[39m=\u001b[39m conn\u001b[39m.\u001b[39mgetresponse()\n\u001b[0;32m    445\u001b[0m         \u001b[39mexcept\u001b[39;00m \u001b[39mBaseException\u001b[39;00m \u001b[39mas\u001b[39;00m e:\n\u001b[0;32m    446\u001b[0m             \u001b[39m# Remove the TypeError from the exception chain in\u001b[39;00m\n\u001b[0;32m    447\u001b[0m             \u001b[39m# Python 3 (including for exceptions like SystemExit).\u001b[39;00m\n\u001b[0;32m    448\u001b[0m             \u001b[39m# Otherwise it looks like a bug in the code.\u001b[39;00m\n\u001b[1;32m--> 449\u001b[0m             six\u001b[39m.\u001b[39;49mraise_from(e, \u001b[39mNone\u001b[39;49;00m)\n\u001b[0;32m    450\u001b[0m \u001b[39mexcept\u001b[39;00m (SocketTimeout, BaseSSLError, SocketError) \u001b[39mas\u001b[39;00m e:\n\u001b[0;32m    451\u001b[0m     \u001b[39mself\u001b[39m\u001b[39m.\u001b[39m_raise_timeout(err\u001b[39m=\u001b[39me, url\u001b[39m=\u001b[39murl, timeout_value\u001b[39m=\u001b[39mread_timeout)\n",
      "File \u001b[1;32m<string>:3\u001b[0m, in \u001b[0;36mraise_from\u001b[1;34m(value, from_value)\u001b[0m\n",
      "File \u001b[1;32mc:\\Users\\48518\\AppData\\Local\\Programs\\Python\\Python310\\lib\\site-packages\\urllib3\\connectionpool.py:444\u001b[0m, in \u001b[0;36mHTTPConnectionPool._make_request\u001b[1;34m(self, conn, method, url, timeout, chunked, **httplib_request_kw)\u001b[0m\n\u001b[0;32m    441\u001b[0m \u001b[39mexcept\u001b[39;00m \u001b[39mTypeError\u001b[39;00m:\n\u001b[0;32m    442\u001b[0m     \u001b[39m# Python 3\u001b[39;00m\n\u001b[0;32m    443\u001b[0m     \u001b[39mtry\u001b[39;00m:\n\u001b[1;32m--> 444\u001b[0m         httplib_response \u001b[39m=\u001b[39m conn\u001b[39m.\u001b[39;49mgetresponse()\n\u001b[0;32m    445\u001b[0m     \u001b[39mexcept\u001b[39;00m \u001b[39mBaseException\u001b[39;00m \u001b[39mas\u001b[39;00m e:\n\u001b[0;32m    446\u001b[0m         \u001b[39m# Remove the TypeError from the exception chain in\u001b[39;00m\n\u001b[0;32m    447\u001b[0m         \u001b[39m# Python 3 (including for exceptions like SystemExit).\u001b[39;00m\n\u001b[0;32m    448\u001b[0m         \u001b[39m# Otherwise it looks like a bug in the code.\u001b[39;00m\n\u001b[0;32m    449\u001b[0m         six\u001b[39m.\u001b[39mraise_from(e, \u001b[39mNone\u001b[39;00m)\n",
      "File \u001b[1;32mc:\\Users\\48518\\AppData\\Local\\Programs\\Python\\Python310\\lib\\http\\client.py:1374\u001b[0m, in \u001b[0;36mHTTPConnection.getresponse\u001b[1;34m(self)\u001b[0m\n\u001b[0;32m   1372\u001b[0m \u001b[39mtry\u001b[39;00m:\n\u001b[0;32m   1373\u001b[0m     \u001b[39mtry\u001b[39;00m:\n\u001b[1;32m-> 1374\u001b[0m         response\u001b[39m.\u001b[39;49mbegin()\n\u001b[0;32m   1375\u001b[0m     \u001b[39mexcept\u001b[39;00m \u001b[39mConnectionError\u001b[39;00m:\n\u001b[0;32m   1376\u001b[0m         \u001b[39mself\u001b[39m\u001b[39m.\u001b[39mclose()\n",
      "File \u001b[1;32mc:\\Users\\48518\\AppData\\Local\\Programs\\Python\\Python310\\lib\\http\\client.py:318\u001b[0m, in \u001b[0;36mHTTPResponse.begin\u001b[1;34m(self)\u001b[0m\n\u001b[0;32m    316\u001b[0m \u001b[39m# read until we get a non-100 response\u001b[39;00m\n\u001b[0;32m    317\u001b[0m \u001b[39mwhile\u001b[39;00m \u001b[39mTrue\u001b[39;00m:\n\u001b[1;32m--> 318\u001b[0m     version, status, reason \u001b[39m=\u001b[39m \u001b[39mself\u001b[39;49m\u001b[39m.\u001b[39;49m_read_status()\n\u001b[0;32m    319\u001b[0m     \u001b[39mif\u001b[39;00m status \u001b[39m!=\u001b[39m CONTINUE:\n\u001b[0;32m    320\u001b[0m         \u001b[39mbreak\u001b[39;00m\n",
      "File \u001b[1;32mc:\\Users\\48518\\AppData\\Local\\Programs\\Python\\Python310\\lib\\http\\client.py:279\u001b[0m, in \u001b[0;36mHTTPResponse._read_status\u001b[1;34m(self)\u001b[0m\n\u001b[0;32m    278\u001b[0m \u001b[39mdef\u001b[39;00m \u001b[39m_read_status\u001b[39m(\u001b[39mself\u001b[39m):\n\u001b[1;32m--> 279\u001b[0m     line \u001b[39m=\u001b[39m \u001b[39mstr\u001b[39m(\u001b[39mself\u001b[39;49m\u001b[39m.\u001b[39;49mfp\u001b[39m.\u001b[39;49mreadline(_MAXLINE \u001b[39m+\u001b[39;49m \u001b[39m1\u001b[39;49m), \u001b[39m\"\u001b[39m\u001b[39miso-8859-1\u001b[39m\u001b[39m\"\u001b[39m)\n\u001b[0;32m    280\u001b[0m     \u001b[39mif\u001b[39;00m \u001b[39mlen\u001b[39m(line) \u001b[39m>\u001b[39m _MAXLINE:\n\u001b[0;32m    281\u001b[0m         \u001b[39mraise\u001b[39;00m LineTooLong(\u001b[39m\"\u001b[39m\u001b[39mstatus line\u001b[39m\u001b[39m\"\u001b[39m)\n",
      "File \u001b[1;32mc:\\Users\\48518\\AppData\\Local\\Programs\\Python\\Python310\\lib\\socket.py:705\u001b[0m, in \u001b[0;36mSocketIO.readinto\u001b[1;34m(self, b)\u001b[0m\n\u001b[0;32m    703\u001b[0m \u001b[39mwhile\u001b[39;00m \u001b[39mTrue\u001b[39;00m:\n\u001b[0;32m    704\u001b[0m     \u001b[39mtry\u001b[39;00m:\n\u001b[1;32m--> 705\u001b[0m         \u001b[39mreturn\u001b[39;00m \u001b[39mself\u001b[39;49m\u001b[39m.\u001b[39;49m_sock\u001b[39m.\u001b[39;49mrecv_into(b)\n\u001b[0;32m    706\u001b[0m     \u001b[39mexcept\u001b[39;00m timeout:\n\u001b[0;32m    707\u001b[0m         \u001b[39mself\u001b[39m\u001b[39m.\u001b[39m_timeout_occurred \u001b[39m=\u001b[39m \u001b[39mTrue\u001b[39;00m\n",
      "\u001b[1;31mProtocolError\u001b[0m: ('Connection aborted.', ConnectionResetError(10054, 'An existing connection was forcibly closed by the remote host', None, 10054, None))"
     ]
    }
   ],
   "source": [
    "# Close Cookies banner\n",
    "cookie_banner = driver.find_element(By.ID,'onetrust-accept-btn-handler')\n",
    "cookie_banner.click()"
   ]
  },
  {
   "cell_type": "code",
   "execution_count": null,
   "metadata": {},
   "outputs": [],
   "source": [
    "search_input = driver.find_element(By.XPATH,\"//input[@name='ss']\")\n",
    "search_input.click()"
   ]
  },
  {
   "cell_type": "code",
   "execution_count": null,
   "metadata": {},
   "outputs": [],
   "source": [
    "search_input.send_keys('Warszawa')"
   ]
  },
  {
   "cell_type": "code",
   "execution_count": null,
   "metadata": {},
   "outputs": [],
   "source": [
    "datepicker = driver.find_element(By.XPATH,'//div[@data-testid=\"searchbox-dates-container\"]')\n",
    "datepicker.click()"
   ]
  },
  {
   "cell_type": "code",
   "execution_count": null,
   "metadata": {},
   "outputs": [],
   "source": [
    "start_date_button = driver.find_element(By.XPATH,\"//span[@aria-label='20 March 2023']\")\n",
    "start_date_button.click()"
   ]
  },
  {
   "cell_type": "code",
   "execution_count": null,
   "metadata": {},
   "outputs": [],
   "source": [
    "start_date_button = driver.find_element(By.XPATH,\"//span[@aria-label='23 March 2023']\")\n",
    "start_date_button.click()"
   ]
  },
  {
   "cell_type": "code",
   "execution_count": null,
   "metadata": {},
   "outputs": [],
   "source": [
    "search_button = driver.find_element(By.XPATH,\"//button[@type='submit']\")\n",
    "search_button.click()"
   ]
  },
  {
   "cell_type": "code",
   "execution_count": null,
   "metadata": {},
   "outputs": [],
   "source": [
    "filter_4_star = driver.find_element(By.XPATH,\"//div[text()='4 stars']\")\n",
    "\n",
    "ActionChains(driver).move_to_element(filter_4_star).perform()\n",
    "\n",
    "filter_4_star.click()\n"
   ]
  },
  {
   "cell_type": "code",
   "execution_count": null,
   "metadata": {},
   "outputs": [],
   "source": [
    "# Collect data\n",
    "soup = BeautifulSoup(driver.page_source)"
   ]
  },
  {
   "cell_type": "code",
   "execution_count": null,
   "metadata": {},
   "outputs": [
    {
     "data": {
      "text/html": [
       "<div>\n",
       "<style scoped>\n",
       "    .dataframe tbody tr th:only-of-type {\n",
       "        vertical-align: middle;\n",
       "    }\n",
       "\n",
       "    .dataframe tbody tr th {\n",
       "        vertical-align: top;\n",
       "    }\n",
       "\n",
       "    .dataframe thead th {\n",
       "        text-align: right;\n",
       "    }\n",
       "</style>\n",
       "<table border=\"1\" class=\"dataframe\">\n",
       "  <thead>\n",
       "    <tr style=\"text-align: right;\">\n",
       "      <th></th>\n",
       "      <th>title</th>\n",
       "      <th>address</th>\n",
       "      <th>distance</th>\n",
       "      <th>price</th>\n",
       "      <th>review</th>\n",
       "    </tr>\n",
       "  </thead>\n",
       "  <tbody>\n",
       "    <tr>\n",
       "      <th>0</th>\n",
       "      <td>Lwowska Studios</td>\n",
       "      <td>Sródmiescie, Warsaw</td>\n",
       "      <td>0.9 km from centre</td>\n",
       "      <td>780 zł</td>\n",
       "      <td>9.5</td>\n",
       "    </tr>\n",
       "    <tr>\n",
       "      <th>1</th>\n",
       "      <td>Royal Tulip Warsaw Apartments</td>\n",
       "      <td>Wola, Warsaw</td>\n",
       "      <td>1.4 km from centre</td>\n",
       "      <td>1,558 zł</td>\n",
       "      <td>9.4</td>\n",
       "    </tr>\n",
       "    <tr>\n",
       "      <th>2</th>\n",
       "      <td>Apartments Warsaw Boduena by Renters Prestige</td>\n",
       "      <td>Sródmiescie, Warsaw</td>\n",
       "      <td>0.6 km from centre</td>\n",
       "      <td>1,215 zł</td>\n",
       "      <td>9.8</td>\n",
       "    </tr>\n",
       "    <tr>\n",
       "      <th>3</th>\n",
       "      <td>Golden Tulip Warsaw Centre</td>\n",
       "      <td>Wola, Warsaw</td>\n",
       "      <td>1.4 km from centre</td>\n",
       "      <td>1,430 zł</td>\n",
       "      <td>9.0</td>\n",
       "    </tr>\n",
       "    <tr>\n",
       "      <th>4</th>\n",
       "      <td>Novotel Warszawa Centrum</td>\n",
       "      <td>Sródmiescie, Warsaw</td>\n",
       "      <td>250 m from centre</td>\n",
       "      <td>1,503 zł</td>\n",
       "      <td>8.7</td>\n",
       "    </tr>\n",
       "    <tr>\n",
       "      <th>5</th>\n",
       "      <td>P&amp;O Apartments Okrzei - Stara Praga</td>\n",
       "      <td>Praga Pólnoc, Warsaw</td>\n",
       "      <td>2.9 km from centre</td>\n",
       "      <td>877 zł</td>\n",
       "      <td>9.0</td>\n",
       "    </tr>\n",
       "    <tr>\n",
       "      <th>6</th>\n",
       "      <td>MENNICA RESIDENCE SUITE APARTMENTS</td>\n",
       "      <td>Wola, Warsaw</td>\n",
       "      <td>1.3 km from centre</td>\n",
       "      <td>1,216 zł</td>\n",
       "      <td>9.0</td>\n",
       "    </tr>\n",
       "    <tr>\n",
       "      <th>7</th>\n",
       "      <td>MENNICA RESIDENCE PATRONUS Apartments</td>\n",
       "      <td>Wola, Warsaw</td>\n",
       "      <td>1.3 km from centre</td>\n",
       "      <td>1,148 zł</td>\n",
       "      <td>9.3</td>\n",
       "    </tr>\n",
       "    <tr>\n",
       "      <th>8</th>\n",
       "      <td>Residence St. Andrew's Palace</td>\n",
       "      <td>Sródmiescie, Warsaw</td>\n",
       "      <td>400 m from centre</td>\n",
       "      <td>1,197 zł</td>\n",
       "      <td>8.4</td>\n",
       "    </tr>\n",
       "    <tr>\n",
       "      <th>9</th>\n",
       "      <td>Residence 1898</td>\n",
       "      <td>Sródmiescie, Warsaw</td>\n",
       "      <td>0.6 km from centre</td>\n",
       "      <td>1,395 zł</td>\n",
       "      <td>8.6</td>\n",
       "    </tr>\n",
       "    <tr>\n",
       "      <th>10</th>\n",
       "      <td>Hotel Indigo Warsaw Nowy Świat, an IHG Hotel</td>\n",
       "      <td>Sródmiescie, Warsaw</td>\n",
       "      <td>0.9 km from centre</td>\n",
       "      <td>2,133 zł</td>\n",
       "      <td>9.1</td>\n",
       "    </tr>\n",
       "    <tr>\n",
       "      <th>11</th>\n",
       "      <td>SleepWell Apartments Ordynacka</td>\n",
       "      <td>Sródmiescie, Warsaw</td>\n",
       "      <td>1 km from centre</td>\n",
       "      <td>1,515 zł</td>\n",
       "      <td>8.9</td>\n",
       "    </tr>\n",
       "    <tr>\n",
       "      <th>12</th>\n",
       "      <td>Crowne Plaza - Warsaw - The HUB, an IHG Hotel</td>\n",
       "      <td>Wola, Warsaw</td>\n",
       "      <td>1.7 km from centre</td>\n",
       "      <td>2,375 zł</td>\n",
       "      <td>9.4</td>\n",
       "    </tr>\n",
       "    <tr>\n",
       "      <th>13</th>\n",
       "      <td>SleepWell Boutique Apartments</td>\n",
       "      <td>Sródmiescie, Warsaw</td>\n",
       "      <td>0.9 km from centre</td>\n",
       "      <td>1,613 zł</td>\n",
       "      <td>9.3</td>\n",
       "    </tr>\n",
       "    <tr>\n",
       "      <th>14</th>\n",
       "      <td>DoubleTree by Hilton Hotel &amp; Conference Centre...</td>\n",
       "      <td>Wawer, Warsaw</td>\n",
       "      <td>10.3 km from centre</td>\n",
       "      <td>1,548 zł</td>\n",
       "      <td>8.8</td>\n",
       "    </tr>\n",
       "    <tr>\n",
       "      <th>15</th>\n",
       "      <td>Mercure Warszawa Grand</td>\n",
       "      <td>Sródmiescie, Warsaw</td>\n",
       "      <td>0.7 km from centre</td>\n",
       "      <td>1,755 zł</td>\n",
       "      <td>8.5</td>\n",
       "    </tr>\n",
       "    <tr>\n",
       "      <th>16</th>\n",
       "      <td>VIDOC APARTMENTS</td>\n",
       "      <td>Wola, Warsaw</td>\n",
       "      <td>1.3 km from centre</td>\n",
       "      <td>1,292 zł</td>\n",
       "      <td>9.1</td>\n",
       "    </tr>\n",
       "    <tr>\n",
       "      <th>17</th>\n",
       "      <td>Warsaw Concept</td>\n",
       "      <td>Sródmiescie, Warsaw</td>\n",
       "      <td>450 m from centre</td>\n",
       "      <td>1,188 zł</td>\n",
       "      <td>9.1</td>\n",
       "    </tr>\n",
       "    <tr>\n",
       "      <th>18</th>\n",
       "      <td>EXCLUSIVE Aparthotel</td>\n",
       "      <td>Sródmiescie, Warsaw</td>\n",
       "      <td>0.7 km from centre</td>\n",
       "      <td>1,350 zł</td>\n",
       "      <td>9.1</td>\n",
       "    </tr>\n",
       "    <tr>\n",
       "      <th>19</th>\n",
       "      <td>Royal Apartment Kopernika by Renters Prestige</td>\n",
       "      <td>Sródmiescie, Warsaw</td>\n",
       "      <td>1.2 km from centre</td>\n",
       "      <td>1,282 zł</td>\n",
       "      <td>8.9</td>\n",
       "    </tr>\n",
       "    <tr>\n",
       "      <th>20</th>\n",
       "      <td>Corazziego 4 by Homeprime</td>\n",
       "      <td>Sródmiescie, Warsaw</td>\n",
       "      <td>1.7 km from centre</td>\n",
       "      <td>772 zł</td>\n",
       "      <td>10</td>\n",
       "    </tr>\n",
       "    <tr>\n",
       "      <th>21</th>\n",
       "      <td>Hotel Polonia Palace</td>\n",
       "      <td>Sródmiescie, Warsaw</td>\n",
       "      <td>100 m from centre</td>\n",
       "      <td>1,748 zł</td>\n",
       "      <td>9.1</td>\n",
       "    </tr>\n",
       "    <tr>\n",
       "      <th>22</th>\n",
       "      <td>Radisson Blu Sobieski</td>\n",
       "      <td>Ochota, Warsaw</td>\n",
       "      <td>1.5 km from centre</td>\n",
       "      <td>1,445 zł</td>\n",
       "      <td>8.5</td>\n",
       "    </tr>\n",
       "    <tr>\n",
       "      <th>23</th>\n",
       "      <td>Tamka 1A by Homeprime</td>\n",
       "      <td>Sródmiescie, Warsaw</td>\n",
       "      <td>1.8 km from centre</td>\n",
       "      <td>844 zł</td>\n",
       "      <td>9.3</td>\n",
       "    </tr>\n",
       "    <tr>\n",
       "      <th>24</th>\n",
       "      <td>Mennica Residence Luxury Location</td>\n",
       "      <td>Wola, Warsaw</td>\n",
       "      <td>1.2 km from centre</td>\n",
       "      <td>1,110 zł</td>\n",
       "      <td>8.3</td>\n",
       "    </tr>\n",
       "    <tr>\n",
       "      <th>25</th>\n",
       "      <td>Gdanski Business Center Apartments</td>\n",
       "      <td>Sródmiescie, Warsaw</td>\n",
       "      <td>3.2 km from centre</td>\n",
       "      <td>1,071 zł</td>\n",
       "      <td>8.4</td>\n",
       "    </tr>\n",
       "    <tr>\n",
       "      <th>26</th>\n",
       "      <td>Sliska 10 Apartament II</td>\n",
       "      <td>Sródmiescie, Warsaw</td>\n",
       "      <td>0.7 km from centre</td>\n",
       "      <td>803 zł</td>\n",
       "      <td>8.6</td>\n",
       "    </tr>\n",
       "    <tr>\n",
       "      <th>27</th>\n",
       "      <td>NYX Hotel Warsaw by Leonardo Hotels</td>\n",
       "      <td>Wola, Warsaw</td>\n",
       "      <td>0.6 km from centre</td>\n",
       "      <td>1,956 zł</td>\n",
       "      <td>9.2</td>\n",
       "    </tr>\n",
       "  </tbody>\n",
       "</table>\n",
       "</div>"
      ],
      "text/plain": [
       "                                                title               address  \\\n",
       "0                                     Lwowska Studios   Sródmiescie, Warsaw   \n",
       "1                       Royal Tulip Warsaw Apartments          Wola, Warsaw   \n",
       "2       Apartments Warsaw Boduena by Renters Prestige   Sródmiescie, Warsaw   \n",
       "3                          Golden Tulip Warsaw Centre          Wola, Warsaw   \n",
       "4                            Novotel Warszawa Centrum   Sródmiescie, Warsaw   \n",
       "5                 P&O Apartments Okrzei - Stara Praga  Praga Pólnoc, Warsaw   \n",
       "6                  MENNICA RESIDENCE SUITE APARTMENTS          Wola, Warsaw   \n",
       "7               MENNICA RESIDENCE PATRONUS Apartments          Wola, Warsaw   \n",
       "8                       Residence St. Andrew's Palace   Sródmiescie, Warsaw   \n",
       "9                                      Residence 1898   Sródmiescie, Warsaw   \n",
       "10       Hotel Indigo Warsaw Nowy Świat, an IHG Hotel   Sródmiescie, Warsaw   \n",
       "11                     SleepWell Apartments Ordynacka   Sródmiescie, Warsaw   \n",
       "12      Crowne Plaza - Warsaw - The HUB, an IHG Hotel          Wola, Warsaw   \n",
       "13                      SleepWell Boutique Apartments   Sródmiescie, Warsaw   \n",
       "14  DoubleTree by Hilton Hotel & Conference Centre...         Wawer, Warsaw   \n",
       "15                             Mercure Warszawa Grand   Sródmiescie, Warsaw   \n",
       "16                                   VIDOC APARTMENTS          Wola, Warsaw   \n",
       "17                                     Warsaw Concept   Sródmiescie, Warsaw   \n",
       "18                               EXCLUSIVE Aparthotel   Sródmiescie, Warsaw   \n",
       "19      Royal Apartment Kopernika by Renters Prestige   Sródmiescie, Warsaw   \n",
       "20                          Corazziego 4 by Homeprime   Sródmiescie, Warsaw   \n",
       "21                               Hotel Polonia Palace   Sródmiescie, Warsaw   \n",
       "22                              Radisson Blu Sobieski        Ochota, Warsaw   \n",
       "23                              Tamka 1A by Homeprime   Sródmiescie, Warsaw   \n",
       "24                  Mennica Residence Luxury Location          Wola, Warsaw   \n",
       "25                 Gdanski Business Center Apartments   Sródmiescie, Warsaw   \n",
       "26                            Sliska 10 Apartament II   Sródmiescie, Warsaw   \n",
       "27                NYX Hotel Warsaw by Leonardo Hotels          Wola, Warsaw   \n",
       "\n",
       "               distance     price review  \n",
       "0    0.9 km from centre    780 zł    9.5  \n",
       "1    1.4 km from centre  1,558 zł    9.4  \n",
       "2    0.6 km from centre  1,215 zł    9.8  \n",
       "3    1.4 km from centre  1,430 zł    9.0  \n",
       "4     250 m from centre  1,503 zł    8.7  \n",
       "5    2.9 km from centre    877 zł    9.0  \n",
       "6    1.3 km from centre  1,216 zł    9.0  \n",
       "7    1.3 km from centre  1,148 zł    9.3  \n",
       "8     400 m from centre  1,197 zł    8.4  \n",
       "9    0.6 km from centre  1,395 zł    8.6  \n",
       "10   0.9 km from centre  2,133 zł    9.1  \n",
       "11     1 km from centre  1,515 zł    8.9  \n",
       "12   1.7 km from centre  2,375 zł    9.4  \n",
       "13   0.9 km from centre  1,613 zł    9.3  \n",
       "14  10.3 km from centre  1,548 zł    8.8  \n",
       "15   0.7 km from centre  1,755 zł    8.5  \n",
       "16   1.3 km from centre  1,292 zł    9.1  \n",
       "17    450 m from centre  1,188 zł    9.1  \n",
       "18   0.7 km from centre  1,350 zł    9.1  \n",
       "19   1.2 km from centre  1,282 zł    8.9  \n",
       "20   1.7 km from centre    772 zł     10  \n",
       "21    100 m from centre  1,748 zł    9.1  \n",
       "22   1.5 km from centre  1,445 zł    8.5  \n",
       "23   1.8 km from centre    844 zł    9.3  \n",
       "24   1.2 km from centre  1,110 zł    8.3  \n",
       "25   3.2 km from centre  1,071 zł    8.4  \n",
       "26   0.7 km from centre    803 zł    8.6  \n",
       "27   0.6 km from centre  1,956 zł    9.2  "
      ]
     },
     "execution_count": 54,
     "metadata": {},
     "output_type": "execute_result"
    }
   ],
   "source": [
    "\n",
    "properties = soup.find_all('div', {'data-testid': 'property-card'})\n",
    "prop: element.Tag\n",
    "hotels = list()\n",
    "for prop in properties:\n",
    "  try:\n",
    "    hotels.append({\n",
    "      'title':  prop.find('div', {'data-testid': 'title'}).text,\n",
    "      'address': prop.find('span', {'data-testid': 'address'}).text,\n",
    "      'distance': prop.find('span', {'data-testid': 'distance'}).text,\n",
    "      'price': prop.find('span', {'data-testid': 'price-and-discounted-price'}).text,\n",
    "      'review': prop.find('div', {'data-testid': 'review-score'}).find('div').text \n",
    "    })\n",
    "  except:\n",
    "    pass\n",
    "pd.DataFrame(hotels)"
   ]
  },
  {
   "cell_type": "markdown",
   "metadata": {},
   "source": [
    "Let's put that into a single piece of code"
   ]
  },
  {
   "cell_type": "code",
   "execution_count": null,
   "metadata": {},
   "outputs": [],
   "source": [
    "def collect_data(source, city: str):\n",
    "    soup = BeautifulSoup(source)\n",
    "    properties = soup.find_all('div', {'data-testid': 'property-card'})\n",
    "    hotels = list()\n",
    "    for prop in properties:\n",
    "        try:\n",
    "            hotels.append({\n",
    "                'city': city,\n",
    "                'title':  prop.find('div', {'data-testid': 'title'}).text,\n",
    "                'address': prop.find('span', {'data-testid': 'address'}).text,\n",
    "                'distance': prop.find('span', {'data-testid': 'distance'}).text,\n",
    "                'price': prop.find('span', {'data-testid': 'price-and-discounted-price'}).text,\n",
    "                'review': prop.find('div', {'data-testid': 'review-score'}).find('div').text\n",
    "            })\n",
    "        except:\n",
    "            pass\n",
    "    return hotels"
   ]
  },
  {
   "cell_type": "code",
   "execution_count": null,
   "metadata": {},
   "outputs": [],
   "source": [
    "\n",
    "def scrape_booking(city: str):\n",
    "    driver = webdriver.Chrome(service=Service(ChromeDriverManager().install()))\n",
    "    driver.get('https://www.booking.com/')\n",
    "    try:\n",
    "        time.sleep(3)  \n",
    "        # Close Cookies banner - it blocks some visibility\n",
    "        cookie_banner = driver.find_element(By.ID,'onetrust-accept-btn-handler')\n",
    "        cookie_banner.click()\n",
    "        \n",
    "        search_input = driver.find_element(By.XPATH,\"//input[@name='ss']\")\n",
    "        search_input.click()\n",
    "        time.sleep(1)  \n",
    "        search_input.send_keys(city)\n",
    "        time.sleep(1)          \n",
    "        # Select date\n",
    "        datepicker = driver.find_element(By.XPATH,'//div[@data-testid=\"searchbox-dates-container\"]')\n",
    "        datepicker.click()\n",
    "        time.sleep(1)  \n",
    "        start_date_button = driver.find_element(By.XPATH,\"//span[@aria-label='20 March 2023']\")\n",
    "        start_date_button.click()\n",
    "        time.sleep(1)  \n",
    "        start_date_button = driver.find_element(By.XPATH,\"//span[@aria-label='23 March 2023']\")\n",
    "        start_date_button.click()\n",
    "        time.sleep(1)  \n",
    "        \n",
    "        # Press search\n",
    "        search_button = driver.find_element(By.XPATH,\"//button[@type='submit']\")\n",
    "        search_button.click()\n",
    "        \n",
    "        # Filter only 4 star hotels\n",
    "        filter_4_star = driver.find_element(By.XPATH,\"//div[text()='4 stars']\")\n",
    "\n",
    "        ActionChains(driver).move_to_element(filter_4_star).perform()\n",
    "\n",
    "        filter_4_star.click()\n",
    "\n",
    "        # Wait until the results are visible\n",
    "        WebDriverWait(driver, 10).until(EC.invisibility_of_element_located((By.XPATH, \"//div[@data-testid='overlay-wrapper']\")))\n",
    "        # Extract data and save it in the dataframe\n",
    "        \n",
    "        data = collect_data(driver.page_source, city)\n",
    "        driver.quit()\n",
    "        return data\n",
    "    except:\n",
    "        pass"
   ]
  },
  {
   "cell_type": "code",
   "execution_count": null,
   "metadata": {},
   "outputs": [],
   "source": [
    "cities_list = ['Warszawa']\n",
    "hotels = pd.DataFrame()\n",
    "\n",
    "for city in cities_list:\n",
    "    hotels = hotels.append(scrape_booking(city), ignore_index=True)\n",
    "    \n",
    "hotels"
   ]
  },
  {
   "attachments": {},
   "cell_type": "markdown",
   "metadata": {},
   "source": [
    "### <span style=\"color:red\">**TASK & HOMEWORK**</span>\n",
    "\n",
    "Automate the process of getting details for restaurants from [TripAdvisor](https://www.tripadvisor.com/) website in Warsaw. \n",
    "\n",
    "Get data for first 3 result pages.\n",
    "\n",
    "Gather following data and save it to a pandas DataFrame:\n",
    "- name of the restaurant,\n",
    "- rating,\n",
    "- number of reviews,\n",
    "- link to visit details page,\n",
    "- address,\n",
    "- phone number (if existst),\n",
    "- website url (if exists),"
   ]
  },
  {
   "cell_type": "code",
   "execution_count": 4,
   "metadata": {},
   "outputs": [],
   "source": [
    "from selenium.webdriver.common.keys import Keys"
   ]
  },
  {
   "cell_type": "code",
   "execution_count": 15,
   "metadata": {},
   "outputs": [],
   "source": [
    "driver = webdriver.Chrome(service=Service(ChromeDriverManager().install()))\n",
    "driver.get('https://www.tripadvisor.com/')\n",
    "time.sleep(2)\n",
    "cookie_click = driver.find_element(By.XPATH,'//*[@id=\"onetrust-accept-btn-handler\"]')\n",
    "cookie_click.click()\n",
    "time.sleep(1)\n",
    "search_bar = driver.find_element(By.XPATH,'//*[@id=\"lithium-root\"]/main/div[3]/div/div/div/form/input[1]')\n",
    "search_bar.click()\n",
    "search_bar.send_keys('Warsaw')\n",
    "search_bar.send_keys(Keys.ENTER)\n",
    "time.sleep(3)\n",
    "rest_tab = driver.find_element(By.XPATH, '//*[@id=\"search-filters\"]/ul/li[4]/a')\n",
    "rest_tab.click()\n",
    "time.sleep(1)"
   ]
  },
  {
   "cell_type": "code",
   "execution_count": 53,
   "metadata": {},
   "outputs": [
    {
     "ename": "ElementNotInteractableException",
     "evalue": "Message: element not interactable\n  (Session info: chrome=110.0.5481.180)\nStacktrace:\nBacktrace:\n\t(No symbol) [0x006637D3]\n\t(No symbol) [0x005F8B81]\n\t(No symbol) [0x004FB230]\n\t(No symbol) [0x0052E337]\n\t(No symbol) [0x00523253]\n\t(No symbol) [0x0054B41C]\n\t(No symbol) [0x00522B96]\n\t(No symbol) [0x0054B774]\n\t(No symbol) [0x00561215]\n\t(No symbol) [0x0054B216]\n\t(No symbol) [0x00520D97]\n\t(No symbol) [0x0052253D]\n\tGetHandleVerifier [0x008DABF2+2510930]\n\tGetHandleVerifier [0x00908EC1+2700065]\n\tGetHandleVerifier [0x0090C86C+2714828]\n\tGetHandleVerifier [0x00713480+645344]\n\t(No symbol) [0x00600FD2]\n\t(No symbol) [0x00606C68]\n\t(No symbol) [0x00606D4B]\n\t(No symbol) [0x00610D6B]\n\tBaseThreadInitThunk [0x76EA00F9+25]\n\tRtlGetAppContainerNamedObjectPath [0x774E7BBE+286]\n\tRtlGetAppContainerNamedObjectPath [0x774E7B8E+238]\n",
     "output_type": "error",
     "traceback": [
      "\u001b[1;31m---------------------------------------------------------------------------\u001b[0m",
      "\u001b[1;31mElementNotInteractableException\u001b[0m           Traceback (most recent call last)",
      "\u001b[1;32mc:\\Users\\mklos\\My Drive\\My Uni\\Koźmin\\Semester_4\\python-applications\\class_2\\class_2_students.ipynb Cell 60\u001b[0m in \u001b[0;36m<cell line: 16>\u001b[1;34m()\u001b[0m\n\u001b[0;32m     <a href='vscode-notebook-cell:/c%3A/Users/mklos/My%20Drive/My%20Uni/Ko%C5%BAmin/Semester_4/python-applications/class_2/class_2_students.ipynb#Y111sZmlsZQ%3D%3D?line=22'>23</a>\u001b[0m     rest \u001b[39m=\u001b[39m driver\u001b[39m.\u001b[39mfind_element(By\u001b[39m.\u001b[39mXPATH, xpath)\n\u001b[0;32m     <a href='vscode-notebook-cell:/c%3A/Users/mklos/My%20Drive/My%20Uni/Ko%C5%BAmin/Semester_4/python-applications/class_2/class_2_students.ipynb#Y111sZmlsZQ%3D%3D?line=23'>24</a>\u001b[0m     time\u001b[39m.\u001b[39msleep(\u001b[39m1\u001b[39m)\n\u001b[1;32m---> <a href='vscode-notebook-cell:/c%3A/Users/mklos/My%20Drive/My%20Uni/Ko%C5%BAmin/Semester_4/python-applications/class_2/class_2_students.ipynb#Y111sZmlsZQ%3D%3D?line=24'>25</a>\u001b[0m     rest\u001b[39m.\u001b[39;49mclick()\n\u001b[0;32m     <a href='vscode-notebook-cell:/c%3A/Users/mklos/My%20Drive/My%20Uni/Ko%C5%BAmin/Semester_4/python-applications/class_2/class_2_students.ipynb#Y111sZmlsZQ%3D%3D?line=26'>27</a>\u001b[0m window_handles \u001b[39m=\u001b[39m driver\u001b[39m.\u001b[39mwindow_handles\n\u001b[0;32m     <a href='vscode-notebook-cell:/c%3A/Users/mklos/My%20Drive/My%20Uni/Ko%C5%BAmin/Semester_4/python-applications/class_2/class_2_students.ipynb#Y111sZmlsZQ%3D%3D?line=27'>28</a>\u001b[0m time\u001b[39m.\u001b[39msleep(\u001b[39m3\u001b[39m)\n",
      "File \u001b[1;32mc:\\Users\\mklos\\AppData\\Local\\Programs\\Python\\Python39\\lib\\site-packages\\selenium\\webdriver\\remote\\webelement.py:93\u001b[0m, in \u001b[0;36mWebElement.click\u001b[1;34m(self)\u001b[0m\n\u001b[0;32m     91\u001b[0m \u001b[39mdef\u001b[39;00m \u001b[39mclick\u001b[39m(\u001b[39mself\u001b[39m) \u001b[39m-\u001b[39m\u001b[39m>\u001b[39m \u001b[39mNone\u001b[39;00m:\n\u001b[0;32m     92\u001b[0m     \u001b[39m\"\"\"Clicks the element.\"\"\"\u001b[39;00m\n\u001b[1;32m---> 93\u001b[0m     \u001b[39mself\u001b[39;49m\u001b[39m.\u001b[39;49m_execute(Command\u001b[39m.\u001b[39;49mCLICK_ELEMENT)\n",
      "File \u001b[1;32mc:\\Users\\mklos\\AppData\\Local\\Programs\\Python\\Python39\\lib\\site-packages\\selenium\\webdriver\\remote\\webelement.py:403\u001b[0m, in \u001b[0;36mWebElement._execute\u001b[1;34m(self, command, params)\u001b[0m\n\u001b[0;32m    401\u001b[0m     params \u001b[39m=\u001b[39m {}\n\u001b[0;32m    402\u001b[0m params[\u001b[39m\"\u001b[39m\u001b[39mid\u001b[39m\u001b[39m\"\u001b[39m] \u001b[39m=\u001b[39m \u001b[39mself\u001b[39m\u001b[39m.\u001b[39m_id\n\u001b[1;32m--> 403\u001b[0m \u001b[39mreturn\u001b[39;00m \u001b[39mself\u001b[39;49m\u001b[39m.\u001b[39;49m_parent\u001b[39m.\u001b[39;49mexecute(command, params)\n",
      "File \u001b[1;32mc:\\Users\\mklos\\AppData\\Local\\Programs\\Python\\Python39\\lib\\site-packages\\selenium\\webdriver\\remote\\webdriver.py:440\u001b[0m, in \u001b[0;36mWebDriver.execute\u001b[1;34m(self, driver_command, params)\u001b[0m\n\u001b[0;32m    438\u001b[0m response \u001b[39m=\u001b[39m \u001b[39mself\u001b[39m\u001b[39m.\u001b[39mcommand_executor\u001b[39m.\u001b[39mexecute(driver_command, params)\n\u001b[0;32m    439\u001b[0m \u001b[39mif\u001b[39;00m response:\n\u001b[1;32m--> 440\u001b[0m     \u001b[39mself\u001b[39;49m\u001b[39m.\u001b[39;49merror_handler\u001b[39m.\u001b[39;49mcheck_response(response)\n\u001b[0;32m    441\u001b[0m     response[\u001b[39m\"\u001b[39m\u001b[39mvalue\u001b[39m\u001b[39m\"\u001b[39m] \u001b[39m=\u001b[39m \u001b[39mself\u001b[39m\u001b[39m.\u001b[39m_unwrap_value(response\u001b[39m.\u001b[39mget(\u001b[39m\"\u001b[39m\u001b[39mvalue\u001b[39m\u001b[39m\"\u001b[39m, \u001b[39mNone\u001b[39;00m))\n\u001b[0;32m    442\u001b[0m     \u001b[39mreturn\u001b[39;00m response\n",
      "File \u001b[1;32mc:\\Users\\mklos\\AppData\\Local\\Programs\\Python\\Python39\\lib\\site-packages\\selenium\\webdriver\\remote\\errorhandler.py:245\u001b[0m, in \u001b[0;36mErrorHandler.check_response\u001b[1;34m(self, response)\u001b[0m\n\u001b[0;32m    243\u001b[0m         alert_text \u001b[39m=\u001b[39m value[\u001b[39m\"\u001b[39m\u001b[39malert\u001b[39m\u001b[39m\"\u001b[39m]\u001b[39m.\u001b[39mget(\u001b[39m\"\u001b[39m\u001b[39mtext\u001b[39m\u001b[39m\"\u001b[39m)\n\u001b[0;32m    244\u001b[0m     \u001b[39mraise\u001b[39;00m exception_class(message, screen, stacktrace, alert_text)  \u001b[39m# type: ignore[call-arg]  # mypy is not smart enough here\u001b[39;00m\n\u001b[1;32m--> 245\u001b[0m \u001b[39mraise\u001b[39;00m exception_class(message, screen, stacktrace)\n",
      "\u001b[1;31mElementNotInteractableException\u001b[0m: Message: element not interactable\n  (Session info: chrome=110.0.5481.180)\nStacktrace:\nBacktrace:\n\t(No symbol) [0x006637D3]\n\t(No symbol) [0x005F8B81]\n\t(No symbol) [0x004FB230]\n\t(No symbol) [0x0052E337]\n\t(No symbol) [0x00523253]\n\t(No symbol) [0x0054B41C]\n\t(No symbol) [0x00522B96]\n\t(No symbol) [0x0054B774]\n\t(No symbol) [0x00561215]\n\t(No symbol) [0x0054B216]\n\t(No symbol) [0x00520D97]\n\t(No symbol) [0x0052253D]\n\tGetHandleVerifier [0x008DABF2+2510930]\n\tGetHandleVerifier [0x00908EC1+2700065]\n\tGetHandleVerifier [0x0090C86C+2714828]\n\tGetHandleVerifier [0x00713480+645344]\n\t(No symbol) [0x00600FD2]\n\t(No symbol) [0x00606C68]\n\t(No symbol) [0x00606D4B]\n\t(No symbol) [0x00610D6B]\n\tBaseThreadInitThunk [0x76EA00F9+25]\n\tRtlGetAppContainerNamedObjectPath [0x774E7BBE+286]\n\tRtlGetAppContainerNamedObjectPath [0x774E7B8E+238]\n"
     ]
    }
   ],
   "source": [
    "driver = webdriver.Chrome(service=Service(ChromeDriverManager().install()))\n",
    "driver.get('https://www.tripadvisor.com/')\n",
    "time.sleep(1)\n",
    "cookie_click = driver.find_element(By.XPATH,'//*[@id=\"onetrust-accept-btn-handler\"]')\n",
    "cookie_click.click()\n",
    "time.sleep(1)\n",
    "search_bar = driver.find_element(By.XPATH,'//*[@id=\"lithium-root\"]/main/div[3]/div/div/div/form/input[1]')\n",
    "search_bar.click()\n",
    "search_bar.send_keys('Warsaw')\n",
    "search_bar.send_keys(Keys.ENTER)\n",
    "time.sleep(3)\n",
    "rest_tab = driver.find_element(By.XPATH, '//*[@id=\"search-filters\"]/ul/li[4]/a')\n",
    "rest_tab.click()\n",
    "time.sleep(1)\n",
    "#==================================================================================================== next loop\n",
    "for i in range(2):\n",
    "    soup = BeautifulSoup(driver.page_source)\n",
    "    guwno = soup.find_all('div', {'class': 'result-title'})\n",
    "    start = 1\n",
    "    for i in range(start, len(guwno)):\n",
    "        xpath = '//*[@id=\"BODY_BLOCK_JQUERY_REFLOW\"]/div[2]/div/div[2]/div/div/div/div/div[1]/div/div[1]/div/div[3]/div/div[1]/div/div[2]/div/div/div[{}]'.format(i)\n",
    "        time.sleep(2)\n",
    "        rest = driver.find_element(By.XPATH, xpath)\n",
    "        time.sleep(1)\n",
    "        rest.click()\n",
    "\n",
    "    window_handles = driver.window_handles\n",
    "    time.sleep(3)\n",
    "\n",
    "    restaurants = pd.DataFrame(columns = ['name', 'rating', 'Num_of_reviews', 'url', 'address', 'phone', 'website'])\n",
    "    x = len(window_handles)\n",
    "    for i in range(x):\n",
    "        if i == 0:\n",
    "            continue\n",
    "        else:\n",
    "            driver.switch_to.window(window_handles[i])\n",
    "            print(i)\n",
    "            soup = BeautifulSoup(driver.page_source, 'html.parser')\n",
    "            name = soup.find('h1', {'class': 'HjBfq'}).text\n",
    "            rating = soup.find('span', {'class': 'ZDEqb'}).text\n",
    "            num_revs = soup.find('a', {'class': 'IcelI'}).text\n",
    "            url = driver.current_url\n",
    "            address = soup.find('span', {'class': 'yEWoV'}).text\n",
    "            phone = soup.find('span', {'class': 'AYHFM'}).find('a').text\n",
    "            website = soup.find('a', {'class': 'YnKZo Ci Wc _S C AYHFM'}).get('href')\n",
    "            restaurants = restaurants.append({'name': name, 'rating': rating, 'Num_of_reviews': num_revs, 'url': url, 'address': address, 'phone': phone, 'website': website}, ignore_index=True)\n",
    "            driver.close()\n",
    "\n",
    "    time.sleep(2)\n",
    "    # Loop through all the windows except the first one and close them\n",
    "    # for handle in window_handles[1:]:\n",
    "    #     driver.switch_to.window(handle)\n",
    "    #     driver.close()\n",
    "    # Switch back to the first window\n",
    "    driver.switch_to.window(window_handles[0])\n",
    "    time.sleep(2)\n",
    "    nxt_page = driver.find_element(By.XPATH, '//*[@id=\"BODY_BLOCK_JQUERY_REFLOW\"]/div[2]/div/div[2]/div/div/div/div/div[1]/div/div[1]/div/div[3]/div/div[2]/div/div/div/a[2]')\n",
    "    nxt_page.click()\n",
    "    time.sleep(2)"
   ]
  },
  {
   "cell_type": "code",
   "execution_count": 48,
   "metadata": {},
   "outputs": [
    {
     "data": {
      "text/html": [
       "<div>\n",
       "<style scoped>\n",
       "    .dataframe tbody tr th:only-of-type {\n",
       "        vertical-align: middle;\n",
       "    }\n",
       "\n",
       "    .dataframe tbody tr th {\n",
       "        vertical-align: top;\n",
       "    }\n",
       "\n",
       "    .dataframe thead th {\n",
       "        text-align: right;\n",
       "    }\n",
       "</style>\n",
       "<table border=\"1\" class=\"dataframe\">\n",
       "  <thead>\n",
       "    <tr style=\"text-align: right;\">\n",
       "      <th></th>\n",
       "      <th>name</th>\n",
       "      <th>rating</th>\n",
       "      <th>Num_of_reviews</th>\n",
       "      <th>url</th>\n",
       "      <th>address</th>\n",
       "      <th>phone</th>\n",
       "      <th>website</th>\n",
       "    </tr>\n",
       "  </thead>\n",
       "  <tbody>\n",
       "    <tr>\n",
       "      <th>0</th>\n",
       "      <td>Sakana Sushi Bar</td>\n",
       "      <td>4.5</td>\n",
       "      <td>155 reviews</td>\n",
       "      <td>https://www.tripadvisor.com/Restaurant_Review-...</td>\n",
       "      <td>ul. Moliera 4/6, Warsaw 00-076 Poland</td>\n",
       "      <td>+48 22 826 59 58</td>\n",
       "      <td>None</td>\n",
       "    </tr>\n",
       "    <tr>\n",
       "      <th>1</th>\n",
       "      <td>U Fukiera</td>\n",
       "      <td>4.0</td>\n",
       "      <td>1,448 reviews</td>\n",
       "      <td>https://www.tripadvisor.com/Restaurant_Review-...</td>\n",
       "      <td>ul. Rynek Starego Miasta 27, Warsaw 00-272 Poland</td>\n",
       "      <td>+48 22 831 10 13</td>\n",
       "      <td>None</td>\n",
       "    </tr>\n",
       "    <tr>\n",
       "      <th>2</th>\n",
       "      <td>Karma Restaurant</td>\n",
       "      <td>4.5</td>\n",
       "      <td>143 reviews</td>\n",
       "      <td>https://www.tripadvisor.com/Restaurant_Review-...</td>\n",
       "      <td>ul. Nowolipki 14, Warsaw 01-019 Poland</td>\n",
       "      <td>+48 501 400 386</td>\n",
       "      <td>None</td>\n",
       "    </tr>\n",
       "    <tr>\n",
       "      <th>3</th>\n",
       "      <td>Podwale 25 Kompania Piwna</td>\n",
       "      <td>4.0</td>\n",
       "      <td>2,935 reviews</td>\n",
       "      <td>https://www.tripadvisor.com/Restaurant_Review-...</td>\n",
       "      <td>ul. Podwale 25, Warsaw Poland</td>\n",
       "      <td>+48 22 635 63 14</td>\n",
       "      <td>None</td>\n",
       "    </tr>\n",
       "    <tr>\n",
       "      <th>4</th>\n",
       "      <td>N31restaurant&amp;bar by Robert Sowa</td>\n",
       "      <td>4.5</td>\n",
       "      <td>829 reviews</td>\n",
       "      <td>https://www.tripadvisor.com/Restaurant_Review-...</td>\n",
       "      <td>Nowogrodzka 31, Warsaw 00-511 Poland</td>\n",
       "      <td>+48 600 861 961</td>\n",
       "      <td>None</td>\n",
       "    </tr>\n",
       "    <tr>\n",
       "      <th>5</th>\n",
       "      <td>Polska Rozana</td>\n",
       "      <td>4.5</td>\n",
       "      <td>3,036 reviews</td>\n",
       "      <td>https://www.tripadvisor.com/Restaurant_Review-...</td>\n",
       "      <td>Chocimska 7, Warsaw 00-791 Poland</td>\n",
       "      <td>+48 22 848 12 25</td>\n",
       "      <td>http://www.restauracjarozana.com.pl/</td>\n",
       "    </tr>\n",
       "    <tr>\n",
       "      <th>6</th>\n",
       "      <td>Der Elefant</td>\n",
       "      <td>4.0</td>\n",
       "      <td>1,442 reviews</td>\n",
       "      <td>https://www.tripadvisor.com/Restaurant_Review-...</td>\n",
       "      <td>ul. Plac Bankowy 1, Warsaw 00-144 Poland</td>\n",
       "      <td>+48 22 890 00 10</td>\n",
       "      <td>None</td>\n",
       "    </tr>\n",
       "    <tr>\n",
       "      <th>7</th>\n",
       "      <td>Radio Cafe</td>\n",
       "      <td>4.5</td>\n",
       "      <td>1,004 reviews</td>\n",
       "      <td>https://www.tripadvisor.com/Restaurant_Review-...</td>\n",
       "      <td>Nowogrodzka 56, Warsaw 00-695 Poland</td>\n",
       "      <td>+48 22 625 27 84</td>\n",
       "      <td>http://www.radiocafe.pl</td>\n",
       "    </tr>\n",
       "    <tr>\n",
       "      <th>8</th>\n",
       "      <td>Hard Rock Cafe</td>\n",
       "      <td>4.0</td>\n",
       "      <td>1,744 reviews</td>\n",
       "      <td>https://www.tripadvisor.com/Restaurant_Review-...</td>\n",
       "      <td>Ul. Zlota 59, Zlote Tarasy, Mazovia Province Z...</td>\n",
       "      <td>+48 22 222 07 00</td>\n",
       "      <td>https://www.hardrockcafe.com/location/warsaw/#...</td>\n",
       "    </tr>\n",
       "    <tr>\n",
       "      <th>9</th>\n",
       "      <td>Warsaw Diner</td>\n",
       "      <td>4.5</td>\n",
       "      <td>425 reviews</td>\n",
       "      <td>https://www.tripadvisor.com/Restaurant_Review-...</td>\n",
       "      <td>93-95 Derby Road, Nottingham NG1 5BB England</td>\n",
       "      <td>+44 115 950 8500</td>\n",
       "      <td>None</td>\n",
       "    </tr>\n",
       "    <tr>\n",
       "      <th>10</th>\n",
       "      <td>Stary Dom Restaurant</td>\n",
       "      <td>4.5</td>\n",
       "      <td>2,136 reviews</td>\n",
       "      <td>https://www.tripadvisor.com/Restaurant_Review-...</td>\n",
       "      <td>Pulawska 104/106, Warsaw 02-620 Poland</td>\n",
       "      <td>+48 22 646 42 08</td>\n",
       "      <td>http://www.restauracjastarydom.pl</td>\n",
       "    </tr>\n",
       "    <tr>\n",
       "      <th>11</th>\n",
       "      <td>Restauracja Pod Gigantami</td>\n",
       "      <td>4.5</td>\n",
       "      <td>195 reviews</td>\n",
       "      <td>https://www.tripadvisor.com/Restaurant_Review-...</td>\n",
       "      <td>ul. Aleje Ujazdowskie 24, Warsaw 00-478 Poland</td>\n",
       "      <td>+48 22 629 23 12</td>\n",
       "      <td>None</td>\n",
       "    </tr>\n",
       "    <tr>\n",
       "      <th>12</th>\n",
       "      <td>Soul Kitchen</td>\n",
       "      <td>4.5</td>\n",
       "      <td>1,756 reviews</td>\n",
       "      <td>https://www.tripadvisor.com/Restaurant_Review-...</td>\n",
       "      <td>Nowogrodzka 18A, Warsaw 00-511 Poland</td>\n",
       "      <td>+48 519 020 888</td>\n",
       "      <td>http://www.soulkitchen.pl</td>\n",
       "    </tr>\n",
       "    <tr>\n",
       "      <th>13</th>\n",
       "      <td>Mr India - Indian Restaurant</td>\n",
       "      <td>4.5</td>\n",
       "      <td>563 reviews</td>\n",
       "      <td>https://www.tripadvisor.com/Restaurant_Review-...</td>\n",
       "      <td>Al. Ken 47 Metro Natolin, Warsaw 02-797 Poland</td>\n",
       "      <td>+48 22 213 06 89</td>\n",
       "      <td>None</td>\n",
       "    </tr>\n",
       "    <tr>\n",
       "      <th>14</th>\n",
       "      <td>Rusiko Restaurant</td>\n",
       "      <td>4.5</td>\n",
       "      <td>488 reviews</td>\n",
       "      <td>https://www.tripadvisor.com/Restaurant_Review-...</td>\n",
       "      <td>Ul. Wierzbowa 11, Warsaw 00-094 Poland</td>\n",
       "      <td>+48 22 629 06 28</td>\n",
       "      <td>None</td>\n",
       "    </tr>\n",
       "    <tr>\n",
       "      <th>15</th>\n",
       "      <td>Stara Kamienica</td>\n",
       "      <td>4.5</td>\n",
       "      <td>1,701 reviews</td>\n",
       "      <td>https://www.tripadvisor.com/Restaurant_Review-...</td>\n",
       "      <td>Widok 8 Street, Warsaw 00-023 Poland</td>\n",
       "      <td>+48 22 114 43 33</td>\n",
       "      <td>http://stara-kamienica.com.pl/</td>\n",
       "    </tr>\n",
       "    <tr>\n",
       "      <th>16</th>\n",
       "      <td>Specjaly Regionalne</td>\n",
       "      <td>4.5</td>\n",
       "      <td>2,458 reviews</td>\n",
       "      <td>https://www.tripadvisor.com/Restaurant_Review-...</td>\n",
       "      <td>Nowy Swiat 44, Warsaw 03-044 Poland</td>\n",
       "      <td>+48 662 254 215</td>\n",
       "      <td>http://www.specjalyregionalne.pl</td>\n",
       "    </tr>\n",
       "    <tr>\n",
       "      <th>17</th>\n",
       "      <td>Restauracja Zapiecek</td>\n",
       "      <td>4.0</td>\n",
       "      <td>3,004 reviews</td>\n",
       "      <td>https://www.tripadvisor.com/Restaurant_Review-...</td>\n",
       "      <td>Swietojanska 13, Warsaw 00-266 Poland</td>\n",
       "      <td>+48 22 635 61 09</td>\n",
       "      <td>http://www.zapiecek.eu/</td>\n",
       "    </tr>\n",
       "    <tr>\n",
       "      <th>18</th>\n",
       "      <td>Beef n' Pepper</td>\n",
       "      <td>5.0</td>\n",
       "      <td>2,834 reviews</td>\n",
       "      <td>https://www.tripadvisor.com/Restaurant_Review-...</td>\n",
       "      <td>Nowogrodzka 47a, Warsaw 00-695 Poland</td>\n",
       "      <td>+48 785 025 025</td>\n",
       "      <td>http://www.beefandpepper.pl</td>\n",
       "    </tr>\n",
       "    <tr>\n",
       "      <th>19</th>\n",
       "      <td>Culiinaria Italiana</td>\n",
       "      <td>4.5</td>\n",
       "      <td>499 reviews</td>\n",
       "      <td>https://www.tripadvisor.com/Restaurant_Review-...</td>\n",
       "      <td>62 Hoza St. Lok. 5, Warsaw 00-682 Poland</td>\n",
       "      <td>+48 579 725 978</td>\n",
       "      <td>None</td>\n",
       "    </tr>\n",
       "    <tr>\n",
       "      <th>20</th>\n",
       "      <td>Czerwony Wieprz</td>\n",
       "      <td>4.0</td>\n",
       "      <td>1,241 reviews</td>\n",
       "      <td>https://www.tripadvisor.com/Restaurant_Review-...</td>\n",
       "      <td>ul. Zelazna 68 (skrzyżowanie z ul. Chłodną), W...</td>\n",
       "      <td>+48 22 850 31 44</td>\n",
       "      <td>http://www.czerwonywieprz.pl</td>\n",
       "    </tr>\n",
       "    <tr>\n",
       "      <th>21</th>\n",
       "      <td>Restauracja Zapiecek</td>\n",
       "      <td>4.5</td>\n",
       "      <td>1,625 reviews</td>\n",
       "      <td>https://www.tripadvisor.com/Restaurant_Review-...</td>\n",
       "      <td>Al. Jerozolimskie 28, Warsaw 02-024 Poland</td>\n",
       "      <td>+48 22 826 74 84</td>\n",
       "      <td>http://www.zapiecek.eu/main.html</td>\n",
       "    </tr>\n",
       "    <tr>\n",
       "      <th>22</th>\n",
       "      <td>Stolica</td>\n",
       "      <td>4.5</td>\n",
       "      <td>1,656 reviews</td>\n",
       "      <td>https://www.tripadvisor.com/Restaurant_Review-...</td>\n",
       "      <td>Szeroki Dunaj 1/3 Stare Miasto, Warsaw 00-255 ...</td>\n",
       "      <td>+48 604 598 764</td>\n",
       "      <td>https://restauracjastolica.com</td>\n",
       "    </tr>\n",
       "    <tr>\n",
       "      <th>23</th>\n",
       "      <td>InAzia</td>\n",
       "      <td>4.5</td>\n",
       "      <td>604 reviews</td>\n",
       "      <td>https://www.tripadvisor.com/Restaurant_Review-...</td>\n",
       "      <td>Boleslawa Prusa 2, Warsaw 00-493 Poland</td>\n",
       "      <td>+48 22 450 67 06</td>\n",
       "      <td>None</td>\n",
       "    </tr>\n",
       "    <tr>\n",
       "      <th>24</th>\n",
       "      <td>Bulke przez Bibulke Restaurant</td>\n",
       "      <td>4.5</td>\n",
       "      <td>1,330 reviews</td>\n",
       "      <td>https://www.tripadvisor.com/Restaurant_Review-...</td>\n",
       "      <td>Zgoda 3, Warsaw 00-018 Poland</td>\n",
       "      <td>+48 730 285 522</td>\n",
       "      <td>http://www.bulkeprzezbibulke.pl/</td>\n",
       "    </tr>\n",
       "  </tbody>\n",
       "</table>\n",
       "</div>"
      ],
      "text/plain": [
       "                                name rating Num_of_reviews  \\\n",
       "0                   Sakana Sushi Bar   4.5     155 reviews   \n",
       "1                          U Fukiera   4.0   1,448 reviews   \n",
       "2                   Karma Restaurant   4.5     143 reviews   \n",
       "3          Podwale 25 Kompania Piwna   4.0   2,935 reviews   \n",
       "4   N31restaurant&bar by Robert Sowa   4.5     829 reviews   \n",
       "5                      Polska Rozana   4.5   3,036 reviews   \n",
       "6                        Der Elefant   4.0   1,442 reviews   \n",
       "7                         Radio Cafe   4.5   1,004 reviews   \n",
       "8                     Hard Rock Cafe   4.0   1,744 reviews   \n",
       "9                       Warsaw Diner   4.5     425 reviews   \n",
       "10              Stary Dom Restaurant   4.5   2,136 reviews   \n",
       "11         Restauracja Pod Gigantami   4.5     195 reviews   \n",
       "12                      Soul Kitchen   4.5   1,756 reviews   \n",
       "13      Mr India - Indian Restaurant   4.5     563 reviews   \n",
       "14                 Rusiko Restaurant   4.5     488 reviews   \n",
       "15                   Stara Kamienica   4.5   1,701 reviews   \n",
       "16               Specjaly Regionalne   4.5   2,458 reviews   \n",
       "17              Restauracja Zapiecek   4.0   3,004 reviews   \n",
       "18                    Beef n' Pepper   5.0   2,834 reviews   \n",
       "19               Culiinaria Italiana   4.5     499 reviews   \n",
       "20                   Czerwony Wieprz   4.0   1,241 reviews   \n",
       "21              Restauracja Zapiecek   4.5   1,625 reviews   \n",
       "22                           Stolica   4.5   1,656 reviews   \n",
       "23                            InAzia   4.5     604 reviews   \n",
       "24    Bulke przez Bibulke Restaurant   4.5   1,330 reviews   \n",
       "\n",
       "                                                  url  \\\n",
       "0   https://www.tripadvisor.com/Restaurant_Review-...   \n",
       "1   https://www.tripadvisor.com/Restaurant_Review-...   \n",
       "2   https://www.tripadvisor.com/Restaurant_Review-...   \n",
       "3   https://www.tripadvisor.com/Restaurant_Review-...   \n",
       "4   https://www.tripadvisor.com/Restaurant_Review-...   \n",
       "5   https://www.tripadvisor.com/Restaurant_Review-...   \n",
       "6   https://www.tripadvisor.com/Restaurant_Review-...   \n",
       "7   https://www.tripadvisor.com/Restaurant_Review-...   \n",
       "8   https://www.tripadvisor.com/Restaurant_Review-...   \n",
       "9   https://www.tripadvisor.com/Restaurant_Review-...   \n",
       "10  https://www.tripadvisor.com/Restaurant_Review-...   \n",
       "11  https://www.tripadvisor.com/Restaurant_Review-...   \n",
       "12  https://www.tripadvisor.com/Restaurant_Review-...   \n",
       "13  https://www.tripadvisor.com/Restaurant_Review-...   \n",
       "14  https://www.tripadvisor.com/Restaurant_Review-...   \n",
       "15  https://www.tripadvisor.com/Restaurant_Review-...   \n",
       "16  https://www.tripadvisor.com/Restaurant_Review-...   \n",
       "17  https://www.tripadvisor.com/Restaurant_Review-...   \n",
       "18  https://www.tripadvisor.com/Restaurant_Review-...   \n",
       "19  https://www.tripadvisor.com/Restaurant_Review-...   \n",
       "20  https://www.tripadvisor.com/Restaurant_Review-...   \n",
       "21  https://www.tripadvisor.com/Restaurant_Review-...   \n",
       "22  https://www.tripadvisor.com/Restaurant_Review-...   \n",
       "23  https://www.tripadvisor.com/Restaurant_Review-...   \n",
       "24  https://www.tripadvisor.com/Restaurant_Review-...   \n",
       "\n",
       "                                              address             phone  \\\n",
       "0               ul. Moliera 4/6, Warsaw 00-076 Poland  +48 22 826 59 58   \n",
       "1   ul. Rynek Starego Miasta 27, Warsaw 00-272 Poland  +48 22 831 10 13   \n",
       "2              ul. Nowolipki 14, Warsaw 01-019 Poland   +48 501 400 386   \n",
       "3                       ul. Podwale 25, Warsaw Poland  +48 22 635 63 14   \n",
       "4                Nowogrodzka 31, Warsaw 00-511 Poland   +48 600 861 961   \n",
       "5                   Chocimska 7, Warsaw 00-791 Poland  +48 22 848 12 25   \n",
       "6            ul. Plac Bankowy 1, Warsaw 00-144 Poland  +48 22 890 00 10   \n",
       "7                Nowogrodzka 56, Warsaw 00-695 Poland  +48 22 625 27 84   \n",
       "8   Ul. Zlota 59, Zlote Tarasy, Mazovia Province Z...  +48 22 222 07 00   \n",
       "9        93-95 Derby Road, Nottingham NG1 5BB England  +44 115 950 8500   \n",
       "10             Pulawska 104/106, Warsaw 02-620 Poland  +48 22 646 42 08   \n",
       "11     ul. Aleje Ujazdowskie 24, Warsaw 00-478 Poland  +48 22 629 23 12   \n",
       "12              Nowogrodzka 18A, Warsaw 00-511 Poland   +48 519 020 888   \n",
       "13     Al. Ken 47 Metro Natolin, Warsaw 02-797 Poland  +48 22 213 06 89   \n",
       "14             Ul. Wierzbowa 11, Warsaw 00-094 Poland  +48 22 629 06 28   \n",
       "15               Widok 8 Street, Warsaw 00-023 Poland  +48 22 114 43 33   \n",
       "16                Nowy Swiat 44, Warsaw 03-044 Poland   +48 662 254 215   \n",
       "17              Swietojanska 13, Warsaw 00-266 Poland  +48 22 635 61 09   \n",
       "18              Nowogrodzka 47a, Warsaw 00-695 Poland   +48 785 025 025   \n",
       "19           62 Hoza St. Lok. 5, Warsaw 00-682 Poland   +48 579 725 978   \n",
       "20  ul. Zelazna 68 (skrzyżowanie z ul. Chłodną), W...  +48 22 850 31 44   \n",
       "21         Al. Jerozolimskie 28, Warsaw 02-024 Poland  +48 22 826 74 84   \n",
       "22  Szeroki Dunaj 1/3 Stare Miasto, Warsaw 00-255 ...   +48 604 598 764   \n",
       "23            Boleslawa Prusa 2, Warsaw 00-493 Poland  +48 22 450 67 06   \n",
       "24                      Zgoda 3, Warsaw 00-018 Poland   +48 730 285 522   \n",
       "\n",
       "                                              website  \n",
       "0                                                None  \n",
       "1                                                None  \n",
       "2                                                None  \n",
       "3                                                None  \n",
       "4                                                None  \n",
       "5                http://www.restauracjarozana.com.pl/  \n",
       "6                                                None  \n",
       "7                             http://www.radiocafe.pl  \n",
       "8   https://www.hardrockcafe.com/location/warsaw/#...  \n",
       "9                                                None  \n",
       "10                  http://www.restauracjastarydom.pl  \n",
       "11                                               None  \n",
       "12                          http://www.soulkitchen.pl  \n",
       "13                                               None  \n",
       "14                                               None  \n",
       "15                     http://stara-kamienica.com.pl/  \n",
       "16                   http://www.specjalyregionalne.pl  \n",
       "17                            http://www.zapiecek.eu/  \n",
       "18                        http://www.beefandpepper.pl  \n",
       "19                                               None  \n",
       "20                       http://www.czerwonywieprz.pl  \n",
       "21                   http://www.zapiecek.eu/main.html  \n",
       "22                     https://restauracjastolica.com  \n",
       "23                                               None  \n",
       "24                   http://www.bulkeprzezbibulke.pl/  "
      ]
     },
     "execution_count": 48,
     "metadata": {},
     "output_type": "execute_result"
    }
   ],
   "source": [
    "restaurants"
   ]
  },
  {
   "cell_type": "code",
   "execution_count": 1,
   "metadata": {},
   "outputs": [],
   "source": [
    "import time\n",
    "import pandas as pd\n",
    "from selenium import webdriver\n",
    "from selenium.webdriver.common.keys import Keys\n",
    "from selenium.webdriver.common.by import By\n",
    "from webdriver_manager.chrome import ChromeDriverManager\n",
    "from selenium.webdriver.chrome.service import Service\n",
    "from bs4 import BeautifulSoup\n",
    "\n",
    "def scrape_tripadvisor_restaurants(city_name, num_restaurants):\n",
    "    # Set up web driver and navigate to Tripadvisor\n",
    "    driver = webdriver.Chrome(service=Service(ChromeDriverManager().install()))\n",
    "    driver.get('https://www.tripadvisor.com/')\n",
    "    time.sleep(3)\n",
    "    \n",
    "    # Click cookie accept button\n",
    "    cookie_click = driver.find_element(By.XPATH,'//*[@id=\"onetrust-accept-btn-handler\"]')\n",
    "    cookie_click.click()\n",
    "    time.sleep(3)\n",
    "    \n",
    "    # Enter city name into search bar and navigate to restaurants tab\n",
    "    search_bar = driver.find_element(By.XPATH,'//*[@id=\"lithium-root\"]/main/div[3]/div/div/div/form/input[1]')\n",
    "    search_bar.click()\n",
    "    search_bar.send_keys(city_name)\n",
    "    search_bar.send_keys(Keys.ENTER)\n",
    "    time.sleep(3)\n",
    "    rest_tab = driver.find_element(By.XPATH, '//*[@id=\"search-filters\"]/ul/li[4]/a')\n",
    "    rest_tab.click()\n",
    "    time.sleep(3)\n",
    "    \n",
    "    # Click on the specified number of restaurants\n",
    "    for i in range(1, num_restaurants + 1):\n",
    "        xpath = '//*[@id=\"BODY_BLOCK_JQUERY_REFLOW\"]/div[2]/div/div[2]/div/div/div/div/div[1]/div/div[1]/div/div[3]/div/div[1]/div/div[2]/div/div/div[{}]'.format(i)\n",
    "        rest = driver.find_element(By.XPATH, xpath)\n",
    "        rest.click()\n",
    "    \n",
    "    # Switch to the second tab\n",
    "    window_handles = driver.window_handles\n",
    "    driver.switch_to.window(window_handles[0])\n",
    "    driver.close()\n",
    "    time.sleep(1)\n",
    "    window_handles = driver.window_handles\n",
    "    time.sleep(3)\n",
    "    \n",
    "    # Create an empty dataframe to hold the restaurant data\n",
    "    restaurants = pd.DataFrame(columns = ['name', 'rating', 'Num_of_reviews', 'url', 'address', 'phone', 'website'])\n",
    "    \n",
    "    # Loop through open restaurant tabs and scrape data\n",
    "    window_handles = driver.window_handles\n",
    "    for i in range(num_restaurants):\n",
    "        driver.switch_to.window(window_handles[i])\n",
    "        soup = BeautifulSoup(driver.page_source, 'html.parser')\n",
    "        name = soup.find('h1', {'class': 'HjBfq'}).text\n",
    "        rating = soup.find('span', {'class': 'ZDEqb'}).text\n",
    "        num_revs = soup.find('a', {'class': 'IcelI'}).text\n",
    "        url = driver.current_url\n",
    "        address = soup.find('span', {'class': 'yEWoV'}).text\n",
    "        phone = soup.find('span', {'class': 'AYHFM'}).find('a').text\n",
    "        website = soup.find('a', {'class': 'YnKZo Ci Wc _S C AYHFM'}).get('href')\n",
    "        restaurants = restaurants.append({'name': name, 'rating': rating, 'Num_of_reviews': num_revs, 'url': url, 'address': address, 'phone': phone, 'website': website}, ignore_index=True)\n",
    "        \n",
    "    # Close the web driver and return the restaurant data\n",
    "    driver.quit()\n",
    "    return restaurants"
   ]
  },
  {
   "cell_type": "code",
   "execution_count": 2,
   "metadata": {},
   "outputs": [
    {
     "name": "stderr",
     "output_type": "stream",
     "text": [
      "[WDM] - Downloading: 100%|██████████| 6.78M/6.78M [00:01<00:00, 6.43MB/s]\n",
      "C:\\Users\\mklos\\AppData\\Local\\Temp\\ipykernel_15676\\2211574808.py:60: FutureWarning: The frame.append method is deprecated and will be removed from pandas in a future version. Use pandas.concat instead.\n",
      "  restaurants = restaurants.append({'name': name, 'rating': rating, 'Num_of_reviews': num_revs, 'url': url, 'address': address, 'phone': phone, 'website': website}, ignore_index=True)\n",
      "C:\\Users\\mklos\\AppData\\Local\\Temp\\ipykernel_15676\\2211574808.py:60: FutureWarning: The frame.append method is deprecated and will be removed from pandas in a future version. Use pandas.concat instead.\n",
      "  restaurants = restaurants.append({'name': name, 'rating': rating, 'Num_of_reviews': num_revs, 'url': url, 'address': address, 'phone': phone, 'website': website}, ignore_index=True)\n",
      "C:\\Users\\mklos\\AppData\\Local\\Temp\\ipykernel_15676\\2211574808.py:60: FutureWarning: The frame.append method is deprecated and will be removed from pandas in a future version. Use pandas.concat instead.\n",
      "  restaurants = restaurants.append({'name': name, 'rating': rating, 'Num_of_reviews': num_revs, 'url': url, 'address': address, 'phone': phone, 'website': website}, ignore_index=True)\n"
     ]
    },
    {
     "data": {
      "text/html": [
       "<div>\n",
       "<style scoped>\n",
       "    .dataframe tbody tr th:only-of-type {\n",
       "        vertical-align: middle;\n",
       "    }\n",
       "\n",
       "    .dataframe tbody tr th {\n",
       "        vertical-align: top;\n",
       "    }\n",
       "\n",
       "    .dataframe thead th {\n",
       "        text-align: right;\n",
       "    }\n",
       "</style>\n",
       "<table border=\"1\" class=\"dataframe\">\n",
       "  <thead>\n",
       "    <tr style=\"text-align: right;\">\n",
       "      <th></th>\n",
       "      <th>name</th>\n",
       "      <th>rating</th>\n",
       "      <th>Num_of_reviews</th>\n",
       "      <th>url</th>\n",
       "      <th>address</th>\n",
       "      <th>phone</th>\n",
       "      <th>website</th>\n",
       "    </tr>\n",
       "  </thead>\n",
       "  <tbody>\n",
       "    <tr>\n",
       "      <th>0</th>\n",
       "      <td>Stolica</td>\n",
       "      <td>4.5</td>\n",
       "      <td>1,656 reviews</td>\n",
       "      <td>https://www.tripadvisor.com/Restaurant_Review-...</td>\n",
       "      <td>Szeroki Dunaj 1/3 Stare Miasto, Warsaw 00-255 ...</td>\n",
       "      <td>+48 604 598 764</td>\n",
       "      <td>None</td>\n",
       "    </tr>\n",
       "    <tr>\n",
       "      <th>1</th>\n",
       "      <td>Beef n' Pepper</td>\n",
       "      <td>5.0</td>\n",
       "      <td>2,834 reviews</td>\n",
       "      <td>https://www.tripadvisor.com/Restaurant_Review-...</td>\n",
       "      <td>Nowogrodzka 47a, Warsaw 00-695 Poland</td>\n",
       "      <td>+48 785 025 025</td>\n",
       "      <td>http://www.beefandpepper.pl</td>\n",
       "    </tr>\n",
       "    <tr>\n",
       "      <th>2</th>\n",
       "      <td>Restauracja Zapiecek</td>\n",
       "      <td>4.0</td>\n",
       "      <td>3,004 reviews</td>\n",
       "      <td>https://www.tripadvisor.com/Restaurant_Review-...</td>\n",
       "      <td>Swietojanska 13, Warsaw 00-266 Poland</td>\n",
       "      <td>+48 22 635 61 09</td>\n",
       "      <td>http://www.zapiecek.eu/</td>\n",
       "    </tr>\n",
       "  </tbody>\n",
       "</table>\n",
       "</div>"
      ],
      "text/plain": [
       "                   name rating Num_of_reviews  \\\n",
       "0               Stolica   4.5   1,656 reviews   \n",
       "1        Beef n' Pepper   5.0   2,834 reviews   \n",
       "2  Restauracja Zapiecek   4.0   3,004 reviews   \n",
       "\n",
       "                                                 url  \\\n",
       "0  https://www.tripadvisor.com/Restaurant_Review-...   \n",
       "1  https://www.tripadvisor.com/Restaurant_Review-...   \n",
       "2  https://www.tripadvisor.com/Restaurant_Review-...   \n",
       "\n",
       "                                             address             phone  \\\n",
       "0  Szeroki Dunaj 1/3 Stare Miasto, Warsaw 00-255 ...   +48 604 598 764   \n",
       "1              Nowogrodzka 47a, Warsaw 00-695 Poland   +48 785 025 025   \n",
       "2              Swietojanska 13, Warsaw 00-266 Poland  +48 22 635 61 09   \n",
       "\n",
       "                       website  \n",
       "0                         None  \n",
       "1  http://www.beefandpepper.pl  \n",
       "2      http://www.zapiecek.eu/  "
      ]
     },
     "execution_count": 2,
     "metadata": {},
     "output_type": "execute_result"
    }
   ],
   "source": [
    "scrape_tripadvisor_restaurants('Warsaw', 3)"
   ]
  },
  {
   "attachments": {},
   "cell_type": "markdown",
   "metadata": {},
   "source": [
    "## References\n",
    "---\n",
    "### Web Scraping\n",
    "- [Web Scraping with Python](https://www.scrapethissite.com/pages/)\n",
    "\n",
    "### Beautiful Soup\n",
    "- [Beautiful Soup Documentation](https://www.crummy.com/software/BeautifulSoup/bs4/doc/)\n",
    "- [Beautiful Soup Tutorial](https://www.dataquest.io/blog/web-scraping-tutorial-python/)\n",
    "- [Beautiful Soup Tutorial Youtube](https://www.youtube.com/watch?v=ng2o98k983k)\n",
    "\n",
    "### Selenium\n",
    "- [Selenium Documentation](https://selenium-python.readthedocs.io/)\n",
    "- [Complex Selenium Tutorial in Java](https://www.guru99.com/selenium-tutorial.html)\n"
   ]
  }
 ],
 "metadata": {
  "kernelspec": {
   "display_name": "Python 3",
   "language": "python",
   "name": "python3"
  },
  "language_info": {
   "codemirror_mode": {
    "name": "ipython",
    "version": 3
   },
   "file_extension": ".py",
   "mimetype": "text/x-python",
   "name": "python",
   "nbconvert_exporter": "python",
   "pygments_lexer": "ipython3",
   "version": "3.9.0"
  },
  "orig_nbformat": 4,
  "vscode": {
   "interpreter": {
    "hash": "fc06fe0fdd5ea9ad64ed95043871304d883246c697d8d3f458b27d6c57bc6b6e"
   }
  }
 },
 "nbformat": 4,
 "nbformat_minor": 2
}
