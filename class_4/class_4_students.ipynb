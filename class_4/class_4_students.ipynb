{
 "cells": [
  {
   "attachments": {},
   "cell_type": "markdown",
   "metadata": {},
   "source": [
    "# Class 4\n",
    "\n",
    "## Web Servers Frameworks\n",
    "---\n",
    "\n",
    "### What are web servers?\n",
    "\n",
    "Web servers are software applications that handle HTTP requests and responses between clients (such as web browsers) and web applications. A web server listens for incoming HTTP requests from clients, processes those requests, and sends back HTTP responses with the requested content, such as web pages, images, videos, or other types of data.\n",
    "\n"
   ]
  },
  {
   "attachments": {},
   "cell_type": "markdown",
   "metadata": {},
   "source": [
    "## Important\n",
    "\n",
    "Make sure you are running server code pieces in `server` directory. \n",
    "\n",
    "```bash\n",
    "cd server\n",
    "```"
   ]
  },
  {
   "attachments": {},
   "cell_type": "markdown",
   "metadata": {},
   "source": [
    "### Hello World\n",
    "\n",
    "Let's start with a simple example. We will create a simple web server that will respond to all requests with the same message: \"Hello World!\".\n",
    "\n",
    "[Open Server File](server/0.1_hello.py)\n",
    "\n",
    "```bash\n",
    "$ python3 server/0.1_hello.py\n",
    "```"
   ]
  },
  {
   "attachments": {},
   "cell_type": "markdown",
   "metadata": {},
   "source": [
    "### Debug Mode\n",
    "\n",
    "When you are developing your web application, you will want to enable debug mode. This will enable a debugger in the server and provide you with useful error messages when things go wrong.\n",
    "\n",
    "[Open Server File](server/0.2_debug.py)"
   ]
  },
  {
   "attachments": {},
   "cell_type": "markdown",
   "metadata": {},
   "source": [
    "### Multiple Routes\n",
    "\n",
    "In the previous example, we created a web server that responds to all requests with the same message. In this example, we will create a web server that responds to different requests with different messages.\n",
    "\n",
    "[Open Server File](server/0.3_routing.py)"
   ]
  },
  {
   "attachments": {},
   "cell_type": "markdown",
   "metadata": {},
   "source": [
    "### Using Templates\n",
    "\n",
    "Templates are a way to separate the content of your web page from the HTML code that displays it. This allows you to create a single template that can be used to display different content.\n",
    "\n",
    "[Open Server File](server/0.4_templates.py)"
   ]
  },
  {
   "attachments": {},
   "cell_type": "markdown",
   "metadata": {},
   "source": [
    "### Dynamic Data\n",
    "\n",
    "Let's add some fake data to our template. We will create a list of dictionaries, each containing the name, price, and description of a product. We will then pass this list to our template.\n",
    "\n",
    "[Open Server File](server/0.5_dynamic_data.py)"
   ]
  },
  {
   "attachments": {},
   "cell_type": "markdown",
   "metadata": {},
   "source": [
    "### If statements\n",
    "\n",
    "Let's add some logic to our template. We will use an if statement to check if the product is on sale. If it is, we will display the sale price, otherwise we will display the regular price.\n",
    "\n",
    "[Open Server File](server/0.6_if.py)"
   ]
  },
  {
   "attachments": {},
   "cell_type": "markdown",
   "metadata": {},
   "source": [
    "### Stylesheets\n",
    "\n",
    "Let's add some style to our web page. We will create a stylesheet and link it to our template.\n",
    "We will be using Tailwind CSS for this example. Tailwind is a utility-first CSS framework for rapidly building custom user interfaces.\n",
    "\n",
    "Add following code to the top of the template file.\n",
    "\n",
    "```html\n",
    "<link rel=\"stylesheet\" href=\"https://unpkg.com/tailwindcss@^1.0/dist/tailwind.min.css\">\n",
    "```\n",
    "\n",
    "[Tailwind CSS](https://tailwindcss.com/docs)"
   ]
  },
  {
   "attachments": {},
   "cell_type": "markdown",
   "metadata": {},
   "source": [
    "### <span style=\"color:red\">**TASK**</span>\n",
    "\n",
    "Define a new property in the products.json file called `colors` and add a list of colors to each product. Then, in the template, display the colors for each product."
   ]
  },
  {
   "attachments": {},
   "cell_type": "markdown",
   "metadata": {},
   "source": [
    "### Layouts & blocks\n",
    "\n",
    "Let's add a layout to our template. We will create a base template that contains the HTML code for the page layout. Then, we will create a child template that extends the base template and contains the content for the page.\n",
    "\n",
    "[Open Server File](server/0.7_leyout.py)"
   ]
  },
  {
   "attachments": {},
   "cell_type": "markdown",
   "metadata": {},
   "source": [
    "### <span style=\"color:red\">**TASK**</span>\n",
    "\n",
    "1. Convert `home.html` and `about.html` templates to use the `layout.html` layout. Name them `home_layout.html` and `about_layout.html` and place them in the `templates` directory.\n",
    "\n",
    "2. Create new template called `navigation.html` and place it in the `templates` directory. This template should contain the navigation bar for the website. It should be included in the `layout.html` template. You can find the HTML code for the navigation bar in the `snippets` directory."
   ]
  },
  {
   "attachments": {},
   "cell_type": "markdown",
   "metadata": {},
   "source": [
    "## References\n",
    "\n",
    "[Python Developer Roadmap](https://roadmap.sh/python)"
   ]
  }
 ],
 "metadata": {
  "kernelspec": {
   "display_name": "Python 3",
   "language": "python",
   "name": "python3"
  },
  "language_info": {
   "codemirror_mode": {
    "name": "ipython",
    "version": 3
   },
   "file_extension": ".py",
   "mimetype": "text/x-python",
   "name": "python",
   "nbconvert_exporter": "python",
   "pygments_lexer": "ipython3",
   "version": "3.10.8"
  },
  "orig_nbformat": 4
 },
 "nbformat": 4,
 "nbformat_minor": 2
}
