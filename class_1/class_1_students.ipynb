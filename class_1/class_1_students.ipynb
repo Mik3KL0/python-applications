{
 "cells": [
  {
   "cell_type": "code",
   "execution_count": 30,
   "metadata": {},
   "outputs": [
    {
     "name": "stdout",
     "output_type": "stream",
     "text": [
      "Requirement already satisfied: python-dotenv in c:\\users\\mklos\\appdata\\local\\programs\\python\\python39\\lib\\site-packages (from -r requirements.txt (line 1)) (0.21.1)\n",
      "Requirement already satisfied: pandas in c:\\users\\mklos\\appdata\\local\\programs\\python\\python39\\lib\\site-packages (from -r requirements.txt (line 2)) (1.5.1)\n",
      "Requirement already satisfied: numpy in c:\\users\\mklos\\appdata\\local\\programs\\python\\python39\\lib\\site-packages (from -r requirements.txt (line 3)) (1.23.4)\n",
      "Requirement already satisfied: requests in c:\\users\\mklos\\appdata\\local\\programs\\python\\python39\\lib\\site-packages (from -r requirements.txt (line 4)) (2.28.1)\n",
      "Requirement already satisfied: matplotlib in c:\\users\\mklos\\appdata\\local\\programs\\python\\python39\\lib\\site-packages (from -r requirements.txt (line 5)) (3.6.0)\n",
      "Requirement already satisfied: python-dateutil>=2.8.1 in c:\\users\\mklos\\appdata\\local\\programs\\python\\python39\\lib\\site-packages (from pandas->-r requirements.txt (line 2)) (2.8.2)\n",
      "Requirement already satisfied: pytz>=2020.1 in c:\\users\\mklos\\appdata\\local\\programs\\python\\python39\\lib\\site-packages (from pandas->-r requirements.txt (line 2)) (2022.5)\n",
      "Requirement already satisfied: urllib3<1.27,>=1.21.1 in c:\\users\\mklos\\appdata\\local\\programs\\python\\python39\\lib\\site-packages (from requests->-r requirements.txt (line 4)) (1.26.12)\n",
      "Requirement already satisfied: charset-normalizer<3,>=2 in c:\\users\\mklos\\appdata\\local\\programs\\python\\python39\\lib\\site-packages (from requests->-r requirements.txt (line 4)) (2.1.1)\n",
      "Requirement already satisfied: idna<4,>=2.5 in c:\\users\\mklos\\appdata\\local\\programs\\python\\python39\\lib\\site-packages (from requests->-r requirements.txt (line 4)) (2.10)\n",
      "Requirement already satisfied: certifi>=2017.4.17 in c:\\users\\mklos\\appdata\\local\\programs\\python\\python39\\lib\\site-packages (from requests->-r requirements.txt (line 4)) (2022.9.24)\n",
      "Requirement already satisfied: packaging>=20.0 in c:\\users\\mklos\\appdata\\local\\programs\\python\\python39\\lib\\site-packages (from matplotlib->-r requirements.txt (line 5)) (21.3)\n",
      "Requirement already satisfied: cycler>=0.10 in c:\\users\\mklos\\appdata\\local\\programs\\python\\python39\\lib\\site-packages (from matplotlib->-r requirements.txt (line 5)) (0.11.0)\n",
      "Requirement already satisfied: kiwisolver>=1.0.1 in c:\\users\\mklos\\appdata\\local\\programs\\python\\python39\\lib\\site-packages (from matplotlib->-r requirements.txt (line 5)) (1.4.4)\n",
      "Requirement already satisfied: fonttools>=4.22.0 in c:\\users\\mklos\\appdata\\local\\programs\\python\\python39\\lib\\site-packages (from matplotlib->-r requirements.txt (line 5)) (4.37.4)\n",
      "Requirement already satisfied: pillow>=6.2.0 in c:\\users\\mklos\\appdata\\local\\programs\\python\\python39\\lib\\site-packages (from matplotlib->-r requirements.txt (line 5)) (9.2.0)\n",
      "Requirement already satisfied: contourpy>=1.0.1 in c:\\users\\mklos\\appdata\\local\\programs\\python\\python39\\lib\\site-packages (from matplotlib->-r requirements.txt (line 5)) (1.0.5)\n",
      "Requirement already satisfied: pyparsing>=2.2.1 in c:\\users\\mklos\\appdata\\local\\programs\\python\\python39\\lib\\site-packages (from matplotlib->-r requirements.txt (line 5)) (3.0.9)\n",
      "Requirement already satisfied: six>=1.5 in c:\\users\\mklos\\appdata\\local\\programs\\python\\python39\\lib\\site-packages (from python-dateutil>=2.8.1->pandas->-r requirements.txt (line 2)) (1.16.0)\n",
      "Note: you may need to restart the kernel to use updated packages.\n"
     ]
    },
    {
     "name": "stderr",
     "output_type": "stream",
     "text": [
      "\n",
      "[notice] A new release of pip available: 22.3.1 -> 23.0.1\n",
      "[notice] To update, run: python.exe -m pip install --upgrade pip\n"
     ]
    }
   ],
   "source": [
    "pip install -r requirements.txt"
   ]
  },
  {
   "attachments": {},
   "cell_type": "markdown",
   "metadata": {},
   "source": [
    "# Class 1\n",
    "\n",
    "## Quick Python Recap\n",
    "---\n",
    "\n",
    "Python is a high-level, interpreted programming language that is widely used for various purposes, including web development, data science, and artificial intelligence. It is known for its readability, simplicity, and versatility. Here are some code snippets to give you a quick overview of Python:"
   ]
  },
  {
   "attachments": {},
   "cell_type": "markdown",
   "metadata": {},
   "source": [
    "### Print a string"
   ]
  },
  {
   "cell_type": "code",
   "execution_count": 31,
   "metadata": {},
   "outputs": [
    {
     "name": "stdout",
     "output_type": "stream",
     "text": [
      "Hello World!\n"
     ]
    }
   ],
   "source": [
    "print(\"Hello World!\")"
   ]
  },
  {
   "attachments": {},
   "cell_type": "markdown",
   "metadata": {},
   "source": [
    "or (only in Python Notebook)"
   ]
  },
  {
   "cell_type": "code",
   "execution_count": 32,
   "metadata": {},
   "outputs": [
    {
     "data": {
      "text/plain": [
       "'Hello World!'"
      ]
     },
     "execution_count": 32,
     "metadata": {},
     "output_type": "execute_result"
    }
   ],
   "source": [
    "\"Hello World!\""
   ]
  },
  {
   "attachments": {},
   "cell_type": "markdown",
   "metadata": {},
   "source": [
    "### Variables"
   ]
  },
  {
   "cell_type": "code",
   "execution_count": 33,
   "metadata": {},
   "outputs": [
    {
     "name": "stdout",
     "output_type": "stream",
     "text": [
      "My name is John Doe\n"
     ]
    }
   ],
   "source": [
    "name = \"John Doe\"\n",
    "print(\"My name is\", name)"
   ]
  },
  {
   "attachments": {},
   "cell_type": "markdown",
   "metadata": {},
   "source": [
    "### Lists"
   ]
  },
  {
   "cell_type": "code",
   "execution_count": 34,
   "metadata": {},
   "outputs": [
    {
     "name": "stdout",
     "output_type": "stream",
     "text": [
      "The first fruit in the list is apple\n"
     ]
    }
   ],
   "source": [
    "fruits = ['apple', 'banana', 'cherry']\n",
    "print(\"The first fruit in the list is\", fruits[0])\n"
   ]
  },
  {
   "attachments": {},
   "cell_type": "markdown",
   "metadata": {},
   "source": [
    "### Loops"
   ]
  },
  {
   "cell_type": "code",
   "execution_count": 35,
   "metadata": {},
   "outputs": [
    {
     "name": "stdout",
     "output_type": "stream",
     "text": [
      "0\n",
      "1\n",
      "2\n",
      "3\n",
      "4\n"
     ]
    }
   ],
   "source": [
    "for i in range(5):\n",
    "    print(i)\n"
   ]
  },
  {
   "attachments": {},
   "cell_type": "markdown",
   "metadata": {},
   "source": [
    "### Functions"
   ]
  },
  {
   "cell_type": "code",
   "execution_count": 36,
   "metadata": {},
   "outputs": [
    {
     "name": "stdout",
     "output_type": "stream",
     "text": [
      "Hello, John Doe!\n"
     ]
    }
   ],
   "source": [
    "def greet(name):\n",
    "    print(\"Hello, \" + name + \"!\")\n",
    "\n",
    "greet(\"John Doe\")"
   ]
  },
  {
   "attachments": {},
   "cell_type": "markdown",
   "metadata": {},
   "source": [
    "### Conditionals"
   ]
  },
  {
   "cell_type": "code",
   "execution_count": 37,
   "metadata": {},
   "outputs": [
    {
     "name": "stdout",
     "output_type": "stream",
     "text": [
      "You are eligible to vote.\n"
     ]
    }
   ],
   "source": [
    "age = 20\n",
    "if age >= 18:\n",
    "    print(\"You are eligible to vote.\")\n",
    "else:\n",
    "    print(\"You are not eligible to vote.\")"
   ]
  },
  {
   "attachments": {},
   "cell_type": "markdown",
   "metadata": {},
   "source": [
    "### <span style=\"color:red\">**TASK 1**</span>\n",
    "\n",
    "Write a program that prints the first 10 numbers of the Fibonacci sequence"
   ]
  },
  {
   "cell_type": "code",
   "execution_count": 38,
   "metadata": {},
   "outputs": [
    {
     "name": "stdout",
     "output_type": "stream",
     "text": [
      "0\n",
      "1\n",
      "1\n",
      "2\n",
      "3\n",
      "5\n",
      "8\n",
      "13\n",
      "21\n",
      "34\n"
     ]
    }
   ],
   "source": [
    "# code goes here\n",
    "def fibonacci(n):\n",
    "    a, b = 0, 1\n",
    "    for i in range(n):\n",
    "        print(a)\n",
    "        a, b = b, a + b\n",
    "\n",
    "fibonacci(10)"
   ]
  },
  {
   "attachments": {},
   "cell_type": "markdown",
   "metadata": {},
   "source": [
    "## Data Types\n",
    "---"
   ]
  },
  {
   "attachments": {},
   "cell_type": "markdown",
   "metadata": {},
   "source": [
    "In Python, there are several built-in data types that are used to store and manipulate different types of data. Here is a brief overview of some of the most commonly used data types in Python:\n",
    "\n",
    "Integer: A whole number that can be positive, negative, or zero. "
   ]
  },
  {
   "cell_type": "code",
   "execution_count": 39,
   "metadata": {},
   "outputs": [
    {
     "name": "stdout",
     "output_type": "stream",
     "text": [
      "<class 'int'>\n",
      "42\n"
     ]
    }
   ],
   "source": [
    "a = 42\n",
    "\n",
    "print(type(a))\n",
    "print(a)"
   ]
  },
  {
   "attachments": {},
   "cell_type": "markdown",
   "metadata": {},
   "source": [
    "Float: A number with a decimal point."
   ]
  },
  {
   "cell_type": "code",
   "execution_count": 40,
   "metadata": {},
   "outputs": [
    {
     "name": "stdout",
     "output_type": "stream",
     "text": [
      "<class 'float'>\n",
      "3.14\n"
     ]
    }
   ],
   "source": [
    "b = 3.14\n",
    "\n",
    "print(type(b))\n",
    "print(b)"
   ]
  },
  {
   "attachments": {},
   "cell_type": "markdown",
   "metadata": {},
   "source": [
    "String: A sequence of characters, either single or double-quoted."
   ]
  },
  {
   "cell_type": "code",
   "execution_count": 41,
   "metadata": {},
   "outputs": [
    {
     "name": "stdout",
     "output_type": "stream",
     "text": [
      "<class 'str'>\n",
      "hello\n"
     ]
    }
   ],
   "source": [
    "c = \"hello\"\n",
    "\n",
    "print(type(c))\n",
    "print(c)"
   ]
  },
  {
   "attachments": {},
   "cell_type": "markdown",
   "metadata": {},
   "source": [
    "Boolean: A value that can either be True or False."
   ]
  },
  {
   "cell_type": "code",
   "execution_count": 42,
   "metadata": {},
   "outputs": [
    {
     "name": "stdout",
     "output_type": "stream",
     "text": [
      "<class 'bool'>\n",
      "True\n"
     ]
    }
   ],
   "source": [
    "d = True\n",
    "\n",
    "print(type(d))\n",
    "print(d)"
   ]
  },
  {
   "attachments": {},
   "cell_type": "markdown",
   "metadata": {},
   "source": [
    "List: An ordered collection of items that can be of different types. Lists are defined using square brackets and can be modified."
   ]
  },
  {
   "cell_type": "code",
   "execution_count": 43,
   "metadata": {},
   "outputs": [
    {
     "name": "stdout",
     "output_type": "stream",
     "text": [
      "<class 'list'>\n",
      "[1, 2, 3]\n"
     ]
    }
   ],
   "source": [
    "e = [1, 2, 3]\n",
    "\n",
    "print(type(e))\n",
    "print(e)"
   ]
  },
  {
   "attachments": {},
   "cell_type": "markdown",
   "metadata": {},
   "source": [
    "Tuple: An ordered, immutable collection of items that can be of different types. Tuples are defined using parentheses and cannot be modified."
   ]
  },
  {
   "cell_type": "code",
   "execution_count": 44,
   "metadata": {},
   "outputs": [
    {
     "name": "stdout",
     "output_type": "stream",
     "text": [
      "<class 'tuple'>\n",
      "(1, 2, 3)\n"
     ]
    }
   ],
   "source": [
    "f = (1, 2, 3)\n",
    "\n",
    "print(type(f))\n",
    "print(f)"
   ]
  },
  {
   "attachments": {},
   "cell_type": "markdown",
   "metadata": {},
   "source": [
    "Dictionary: An unordered collection of key-value pairs, where the keys must be unique and the values can be of different types. Dictionaries are defined using curly braces and can be modified."
   ]
  },
  {
   "cell_type": "code",
   "execution_count": 45,
   "metadata": {},
   "outputs": [
    {
     "name": "stdout",
     "output_type": "stream",
     "text": [
      "<class 'dict'>\n",
      "{'name': 'John', 'age': 30}\n"
     ]
    }
   ],
   "source": [
    "g = {\"name\": \"John\", \"age\": 30}\n",
    "\n",
    "print(type(g))\n",
    "print(g)"
   ]
  },
  {
   "attachments": {},
   "cell_type": "markdown",
   "metadata": {},
   "source": [
    "Set: An unordered collection of unique items, which can be of different types. Sets are defined using curly braces with no repeated elements."
   ]
  },
  {
   "cell_type": "code",
   "execution_count": 46,
   "metadata": {},
   "outputs": [
    {
     "name": "stdout",
     "output_type": "stream",
     "text": [
      "<class 'set'>\n",
      "{1, 2, 3}\n"
     ]
    }
   ],
   "source": [
    "h = {1, 1, 2, 3}\n",
    "\n",
    "print(type(h))\n",
    "print(h)"
   ]
  },
  {
   "attachments": {},
   "cell_type": "markdown",
   "metadata": {},
   "source": [
    "None: A special type that represents the absence of a value. It is often used as a default value for variables that have not yet been assigned a value"
   ]
  },
  {
   "cell_type": "code",
   "execution_count": 47,
   "metadata": {},
   "outputs": [
    {
     "name": "stdout",
     "output_type": "stream",
     "text": [
      "<class 'NoneType'>\n",
      "None\n"
     ]
    }
   ],
   "source": [
    "i = None\n",
    "\n",
    "print(type(i))\n",
    "print(i)"
   ]
  },
  {
   "cell_type": "markdown",
   "metadata": {},
   "source": [
    "## Libraries and Modules\n",
    "---"
   ]
  },
  {
   "attachments": {},
   "cell_type": "markdown",
   "metadata": {},
   "source": [
    "In Python, a module is a collection of functions, classes, and variables that can be used in other programs. Modules allow you to reuse code and build larger and more complex applications. There are two ways to import modules in Python:\n",
    "\n",
    "Importing the entire module: You can import an entire module by using the import statement, followed by the name of the module. For example, to import the math module, you would use the following code:"
   ]
  },
  {
   "cell_type": "code",
   "execution_count": 48,
   "metadata": {},
   "outputs": [
    {
     "name": "stdout",
     "output_type": "stream",
     "text": [
      "3.141592653589793\n"
     ]
    }
   ],
   "source": [
    "import math\n",
    "print(math.pi)"
   ]
  },
  {
   "attachments": {},
   "cell_type": "markdown",
   "metadata": {},
   "source": [
    "Importing specific elements from a module: Instead of importing an entire module, you can also import specific elements from a module, such as functions or classes, by using the from statement, followed by the name of the module and the elements you want to import, separated by a comma. For example, to import the sqrt function from the math module, you would use the following code:"
   ]
  },
  {
   "cell_type": "code",
   "execution_count": 49,
   "metadata": {},
   "outputs": [
    {
     "name": "stdout",
     "output_type": "stream",
     "text": [
      "2.0\n"
     ]
    }
   ],
   "source": [
    "from math import sqrt\n",
    "print(sqrt(4))"
   ]
  },
  {
   "attachments": {},
   "cell_type": "markdown",
   "metadata": {},
   "source": [
    "You can also give an alias to a module or an imported element to make it easier to reference in your code. For example:"
   ]
  },
  {
   "cell_type": "code",
   "execution_count": 50,
   "metadata": {},
   "outputs": [],
   "source": [
    "import math as m"
   ]
  },
  {
   "cell_type": "markdown",
   "metadata": {},
   "source": [
    "Once you have imported a module, you can use its functions, classes, and variables by referring to them using the name of the module or the alias you have given to it. For example, to use the sqrt function from the math module, you would use the following code:"
   ]
  },
  {
   "cell_type": "code",
   "execution_count": 51,
   "metadata": {},
   "outputs": [
    {
     "data": {
      "text/plain": [
       "4.0"
      ]
     },
     "execution_count": 51,
     "metadata": {},
     "output_type": "execute_result"
    }
   ],
   "source": [
    "result = m.sqrt(16)\n",
    "result"
   ]
  },
  {
   "attachments": {},
   "cell_type": "markdown",
   "metadata": {},
   "source": [
    "## Pandas\n",
    "---\n",
    "\n",
    "Pandas is a popular data analysis library for Python that provides fast, flexible, and expressive data structures for working with structured data. It is designed to make it easy to manipulate and analyze data, especially large and complex datasets. Pandas is widely used in data analysis, data cleaning, and data preprocessing tasks.\n",
    "\n",
    "Here are a few examples of how Pandas can be used:\n",
    "\n",
    "- Load and manipulate data: Pandas provides functions to load data from various sources, such as CSV files, Excel spreadsheets, SQL databases, and APIs, and store the data in a data structure called a DataFrame. You can then manipulate the data using Pandas methods, such as filtering, grouping, pivoting, and aggregating.\n",
    "\n",
    "- Clean and preprocess data: Pandas provides methods for handling missing values, dealing with outliers, and transforming data into different formats. You can also use Pandas to standardize or normalize data.\n",
    "\n",
    "- Explore and visualize data: Pandas provides functions for descriptive statistics and data visualization, such as calculating summary statistics, generating histograms, and creating scatter plots. These functions can help you quickly understand the distribution and relationships in your data.\n",
    "\n",
    "- Perform statistical analysis: Pandas provides functions for performing statistical analysis, such as regression, correlation, and hypothesis testing. These functions make it easy to perform complex statistical analysis on your data.\n",
    "\n",
    "- These are just a few examples of how you can use Pandas to work with data in Python. Whether you are working with large financial datasets or smaller datasets for educational purposes, Pandas can be a valuable tool for data analysis and manipulation."
   ]
  },
  {
   "cell_type": "code",
   "execution_count": 52,
   "metadata": {},
   "outputs": [
    {
     "data": {
      "text/html": [
       "<div>\n",
       "<style scoped>\n",
       "    .dataframe tbody tr th:only-of-type {\n",
       "        vertical-align: middle;\n",
       "    }\n",
       "\n",
       "    .dataframe tbody tr th {\n",
       "        vertical-align: top;\n",
       "    }\n",
       "\n",
       "    .dataframe thead th {\n",
       "        text-align: right;\n",
       "    }\n",
       "</style>\n",
       "<table border=\"1\" class=\"dataframe\">\n",
       "  <thead>\n",
       "    <tr style=\"text-align: right;\">\n",
       "      <th></th>\n",
       "      <th>Country</th>\n",
       "      <th>Capital</th>\n",
       "      <th>Latitude</th>\n",
       "      <th>Longitude</th>\n",
       "    </tr>\n",
       "  </thead>\n",
       "  <tbody>\n",
       "    <tr>\n",
       "      <th>0</th>\n",
       "      <td>Albania</td>\n",
       "      <td>Tirana</td>\n",
       "      <td>41.327546</td>\n",
       "      <td>19.818698</td>\n",
       "    </tr>\n",
       "    <tr>\n",
       "      <th>1</th>\n",
       "      <td>Andorra</td>\n",
       "      <td>Andorra la Vella</td>\n",
       "      <td>42.506317</td>\n",
       "      <td>1.521835</td>\n",
       "    </tr>\n",
       "    <tr>\n",
       "      <th>2</th>\n",
       "      <td>Austria</td>\n",
       "      <td>Vienna</td>\n",
       "      <td>48.208174</td>\n",
       "      <td>16.373819</td>\n",
       "    </tr>\n",
       "    <tr>\n",
       "      <th>3</th>\n",
       "      <td>Belarus</td>\n",
       "      <td>Minsk</td>\n",
       "      <td>53.904540</td>\n",
       "      <td>27.561524</td>\n",
       "    </tr>\n",
       "    <tr>\n",
       "      <th>4</th>\n",
       "      <td>Belgium</td>\n",
       "      <td>Brussels</td>\n",
       "      <td>50.850340</td>\n",
       "      <td>4.351710</td>\n",
       "    </tr>\n",
       "  </tbody>\n",
       "</table>\n",
       "</div>"
      ],
      "text/plain": [
       "   Country           Capital   Latitude  Longitude\n",
       "0  Albania            Tirana  41.327546  19.818698\n",
       "1  Andorra  Andorra la Vella  42.506317   1.521835\n",
       "2  Austria            Vienna  48.208174  16.373819\n",
       "3  Belarus             Minsk  53.904540  27.561524\n",
       "4  Belgium          Brussels  50.850340   4.351710"
      ]
     },
     "execution_count": 52,
     "metadata": {},
     "output_type": "execute_result"
    }
   ],
   "source": [
    "import pandas as pd\n",
    "import matplotlib.pyplot as plt\n",
    "\n",
    "# Load the data into a DataFrame\n",
    "df = pd.read_csv('european_capitals.csv')\n",
    "\n",
    "# Print the first 5 rows of the DataFrame\n",
    "df.head()"
   ]
  },
  {
   "cell_type": "code",
   "execution_count": 53,
   "metadata": {},
   "outputs": [
    {
     "name": "stdout",
     "output_type": "stream",
     "text": [
      "Country               Andorra\n",
      "Capital      Andorra la Vella\n",
      "Latitude            42.506317\n",
      "Longitude            1.521835\n",
      "Name: 1, dtype: object\n",
      "\n",
      "\n",
      "Andorra\n"
     ]
    }
   ],
   "source": [
    "print(df.loc[1])\n",
    "print(\"\\n\")\n",
    "print(df.loc[1, 'Country'])"
   ]
  },
  {
   "attachments": {},
   "cell_type": "markdown",
   "metadata": {},
   "source": [
    "## Requests\n",
    "---\n",
    "\n",
    "#### How does the requesting work?\n",
    "\n",
    "The request is sent from the client to the server. The client is the computer that is requesting the data. The server is the computer that is providing the data. The client sends a request to the server, and the server responds with the requested data.\n",
    "\n",
    "<details>\n",
    "  <summary style=\"margin-block: 16px; font-size: 1.5rem;\">OSI Model</summary>\n",
    "  The OSI (Open Systems Interconnection) model is a conceptual framework used to describe the communication process between networked devices. The model is divided into seven layers, each responsible for a specific aspect of network communication. When a user creates a request to a server, the request goes through each of the layers of the OSI model.\n",
    "\n",
    "At the Application layer, the user's application creates a request that includes the desired action, such as requesting a web page. The request is then passed to the Presentation layer, where the data is formatted into a standard representation that can be understood by both the sender and receiver.\n",
    "\n",
    "The Session layer establishes, maintains, and terminates connections between the user's device and the server. Next, the Transport layer breaks the request into smaller packets, assigns sequence numbers to each packet, and ensures that they are transmitted in the correct order.\n",
    "\n",
    "The Network layer is responsible for routing the packets across the network, using logical addressing to identify the destination device. The Data Link layer is responsible for moving the packets between adjacent devices, using physical addressing. Finally, the Physical layer defines the physical medium over which the packets are transmitted, such as Ethernet or Wi-Fi.\n",
    "\n",
    "When the request reaches the server, the process is reversed. The Physical layer receives the packets, which are then processed by the Data Link layer, the Network layer, and so on, until the request reaches the Application layer on the server. The server then sends a response back to the user, which goes through the same process in reverse order.\n",
    "</details>\n",
    "\n",
    "\n",
    "\n",
    "<div style=\"text-align:center\">\n",
    "  <img src=\"https://shardeum.org/blog/wp-content/uploads/2022/09/The-Physical-Layer-in-OSI-Model-Explained-thumbnail.jpg\"  style=\"width:700px\"/>\n",
    "</div>\n",
    "\n",
    "The requests library in Python is a popular library for making HTTP requests, which allows you to send HTTP/1.1 requests. It abstracts the complexities of making requests behind a simple API, allowing you to send HTTP/1.1 requests using Python.\n",
    "\n",
    "Here are a few key features of the `requests` library:\n",
    "\n",
    "- Easy to use API: The requests library provides a simple and intuitive API for sending HTTP requests and handling HTTP responses. You can send GET, POST, PUT, DELETE, and other HTTP requests with just a few lines of code.\n",
    "\n",
    "- Support for different types of data: The requests library allows you to send and receive data in different formats, including JSON, XML, and plain text. You can also send and receive binary data, such as images and files.\n",
    "\n",
    "- Support for authentication and security: The requests library supports various types of authentication and security, including basic and digest authentication, SSL/TLS encryption, and session management.\n",
    "\n",
    "- Customizable: The requests library provides a variety of options for customizing HTTP requests, such as setting headers, cookies, proxies, and timeouts.\n",
    "\n",
    "[Documentation](https://requests.readthedocs.io/en/master/)\n",
    "\n",
    "Here is a simple example of how to use the requests library to send a GET request and retrieve data from an API:"
   ]
  },
  {
   "attachments": {},
   "cell_type": "markdown",
   "metadata": {},
   "source": [
    "### GET Method"
   ]
  },
  {
   "cell_type": "code",
   "execution_count": 54,
   "metadata": {},
   "outputs": [
    {
     "name": "stdout",
     "output_type": "stream",
     "text": [
      "{\n",
      "    \"body\": \"quia et suscipit\\nsuscipit recusandae consequuntur expedita et cum\\nreprehenderit molestiae ut ut quas totam\\nnostrum rerum est autem sunt rem eveniet architecto\",\n",
      "    \"id\": 1,\n",
      "    \"title\": \"sunt aut facere repellat provident occaecati excepturi optio reprehenderit\",\n",
      "    \"userId\": 1\n",
      "}\n"
     ]
    }
   ],
   "source": [
    "import requests\n",
    "import json\n",
    "\n",
    "# Send a GET request to the API\n",
    "response = requests.get('https://jsonplaceholder.typicode.com/posts/1')\n",
    "\n",
    "# Check the status code of the response\n",
    "if response.status_code == 200:\n",
    "    # Retrieve the data from the response\n",
    "    data = response.json()\n",
    "    \n",
    "    # Print the data\n",
    "    print(json.dumps(\n",
    "    data,\n",
    "    sort_keys=True,\n",
    "    indent=4,\n",
    "    separators=(',', ': ')\n",
    "))\n",
    "\n",
    "else:\n",
    "    # Handle any errors\n",
    "    print('Error:', response.status_code)"
   ]
  },
  {
   "attachments": {},
   "cell_type": "markdown",
   "metadata": {},
   "source": [
    "### POST Method\n",
    "This method is used to send data to the server, for example, customer information, file upload, etc. Using the data parameter, we can define what data to send to the server.\n",
    "\n",
    "We can send data in different formats, such as JSON, XML, plain text, etc. The data parameter accepts a dictionary, a list of tuples, bytes, or a file-like object. If you want to send data in JSON format, you can use the json parameter instead of the data parameter."
   ]
  },
  {
   "cell_type": "code",
   "execution_count": 55,
   "metadata": {},
   "outputs": [
    {
     "name": "stdout",
     "output_type": "stream",
     "text": [
      "{\n",
      "    \"body\": \"This is a test of the POST method\",\n",
      "    \"id\": 101,\n",
      "    \"title\": \"Test POST method\",\n",
      "    \"userId\": \"1\"\n",
      "}\n"
     ]
    }
   ],
   "source": [
    "# Send a POST request to the API\n",
    "response = requests.post('https://jsonplaceholder.typicode.com/posts', data = {'title': 'Test POST method', 'body': 'This is a test of the POST method', 'userId': 1})\n",
    "\n",
    "# Check the status code of the response\n",
    "if response.status_code == 201:\n",
    "    # Retrieve the data from the response\n",
    "    data = response.json()\n",
    "    \n",
    "    # Print the data\n",
    "    print(json.dumps(\n",
    "    data,\n",
    "    sort_keys=True,\n",
    "    indent=4,\n",
    "    separators=(',', ': ')\n",
    "))\n",
    "\n",
    "else:\n",
    "    # Handle any errors\n",
    "    print('Error:', response.status_code)\n"
   ]
  },
  {
   "attachments": {},
   "cell_type": "markdown",
   "metadata": {},
   "source": [
    "## ETL Process (Extract, Transform, Load)\n",
    "---\n",
    "\n",
    "ETL stands for Extract, Transform, Load and refers to the process of extracting data from one or more sources, transforming it into a format suitable for analysis, and loading it into a target database or data warehouse. The following is a simple demonstration of ETL process in Python using the popular libraries Pandas or SQLAlchemy.\n",
    "\n",
    "<div style=\"text-align:center\">\n",
    "  <img src=\"https://upload.wikimedia.org/wikipedia/commons/f/fa/Conventional_ETL_Diagram.jpg\"  style=\"width:700px\"/>\n",
    "</div>\n"
   ]
  },
  {
   "attachments": {},
   "cell_type": "markdown",
   "metadata": {},
   "source": [
    "### Extract\n"
   ]
  },
  {
   "attachments": {},
   "cell_type": "markdown",
   "metadata": {},
   "source": [
    "The first step in the ETL process is to extract data from one or more sources. We will extract data from the API request to the OpenWeatherMap API. First load the capital cities of the world from the `country-capitals.csv` file into a Pandas DataFrame. \n"
   ]
  },
  {
   "cell_type": "code",
   "execution_count": 56,
   "metadata": {},
   "outputs": [],
   "source": [
    "import os\n",
    "from dotenv import load_dotenv\n",
    "\n",
    "\n",
    "load_dotenv()\n",
    "\n",
    "OPEN_WEATHER_API_KEY = os.getenv('OPEN_WEATHER_API_KEY')\n",
    "DAILY_FORECAST_URL = f\"https://api.openweathermap.org/data/2.5/forecast\"\n"
   ]
  },
  {
   "cell_type": "code",
   "execution_count": 57,
   "metadata": {},
   "outputs": [],
   "source": [
    "def daily_forecast_url_builder(lat, lon):\n",
    "    return f\"{DAILY_FORECAST_URL}?lat={lat}&lon={lon}&appid={OPEN_WEATHER_API_KEY}&units=metric\""
   ]
  },
  {
   "cell_type": "code",
   "execution_count": 58,
   "metadata": {},
   "outputs": [],
   "source": [
    "def get_daily_forecast(lat, lon, cnt):\n",
    "    url = daily_forecast_url_builder(lat, lon, cnt)\n",
    "    response = requests.get(url)\n",
    "    \n",
    "    if response.status_code == 200:\n",
    "        return response.json()\n",
    "    else:\n",
    "        return None"
   ]
  },
  {
   "cell_type": "code",
   "execution_count": 59,
   "metadata": {},
   "outputs": [
    {
     "name": "stdout",
     "output_type": "stream",
     "text": [
      "Albania Tirana\n",
      "Andorra Andorra la Vella\n",
      "Austria Vienna\n",
      "Belarus Minsk\n",
      "Belgium Brussels\n",
      "Bosnia and Herzegovina Sarajevo\n",
      "Bulgaria Sofia\n",
      "Croatia Zagreb \n",
      "Czech Republic Prague\n",
      "Denmark Copenhagen\n",
      "Estonia Tallinn\n",
      "Finland Helsinki\n",
      "France Paris\n",
      "Germany Berlin\n",
      "Greece Athens\n",
      "Hungary Budapest\n",
      "Iceland Reykjavík\n",
      "Ireland Dublin\n",
      "Italy Rome\n",
      "Kosovo Pristina\n",
      "Latvia Riga\n",
      "Liechtenstein Vaduz\n",
      "Lithuania Vilnius\n",
      "Luxembourg Luxembourg\n",
      "Malta Valletta\n",
      "Moldova Chisinau\n",
      "Monaco Monaco\n",
      "Montenegro Podgorica\n",
      "North Macedonia Skopje\n",
      "Netherlands Amsterdam\n",
      "Norway Oslo\n",
      "Poland Warsaw\n",
      "Portugal Lisbon\n",
      "Romania Bucharest\n",
      "Russia Moscow\n",
      "San Marino San Marino\n",
      "Serbia Belgrade\n",
      "Slovakia Bratislava\n",
      "Slovenia Ljubljana\n",
      "Spain Madrid\n",
      "Sweden Stockholm\n",
      "Switzerland Bern\n",
      "Ukraine Kiev\n",
      "United Kingdom London\n"
     ]
    }
   ],
   "source": [
    "eu_capital_cities = pd.read_csv('european_capitals.csv')\n",
    "\n",
    "for index, row  in eu_capital_cities.iterrows():\n",
    "  print(row['Country'], row['Capital'])"
   ]
  },
  {
   "attachments": {},
   "cell_type": "markdown",
   "metadata": {},
   "source": [
    "Then, we will use the requests library to make a GET request to the OpenWeatherMap API to get the current weather data for each city. The API request will return a JSON response, which we will convert into a Pandas DataFrame. "
   ]
  },
  {
   "cell_type": "code",
   "execution_count": 60,
   "metadata": {},
   "outputs": [],
   "source": [
    "url = daily_forecast_url_builder(52.520008, 13.404954)\n",
    "res = requests.get(url).json()"
   ]
  },
  {
   "cell_type": "code",
   "execution_count": 61,
   "metadata": {},
   "outputs": [
    {
     "data": {
      "text/plain": [
       "{'cod': 401,\n",
       " 'message': 'Invalid API key. Please see https://openweathermap.org/faq#error401 for more info.'}"
      ]
     },
     "execution_count": 61,
     "metadata": {},
     "output_type": "execute_result"
    }
   ],
   "source": [
    "res"
   ]
  },
  {
   "attachments": {},
   "cell_type": "markdown",
   "metadata": {},
   "source": [
    "Make a loop to iterate through the cities and make a GET request to the OpenWeatherMap API for each city. The API request will return a JSON response, which we will convert into a Pandas DataFrame."
   ]
  },
  {
   "cell_type": "code",
   "execution_count": 62,
   "metadata": {},
   "outputs": [
    {
     "ename": "KeyError",
     "evalue": "'list'",
     "output_type": "error",
     "traceback": [
      "\u001b[1;31m---------------------------------------------------------------------------\u001b[0m",
      "\u001b[1;31mKeyError\u001b[0m                                  Traceback (most recent call last)",
      "\u001b[1;32mc:\\Users\\mklos\\My Drive\\My Uni\\Koźmin\\Semester_4\\python-applications\\class_1\\class_1_students.ipynb Cell 66\u001b[0m in \u001b[0;36m<cell line: 3>\u001b[1;34m()\u001b[0m\n\u001b[0;32m      <a href='vscode-notebook-cell:/c%3A/Users/mklos/My%20Drive/My%20Uni/Ko%C5%BAmin/Semester_4/python-applications/class_1/class_1_students.ipynb#Y122sZmlsZQ%3D%3D?line=3'>4</a>\u001b[0m     url \u001b[39m=\u001b[39m daily_forecast_url_builder(row[\u001b[39m'\u001b[39m\u001b[39mLatitude\u001b[39m\u001b[39m'\u001b[39m], row[\u001b[39m'\u001b[39m\u001b[39mLongitude\u001b[39m\u001b[39m'\u001b[39m])\n\u001b[0;32m      <a href='vscode-notebook-cell:/c%3A/Users/mklos/My%20Drive/My%20Uni/Ko%C5%BAmin/Semester_4/python-applications/class_1/class_1_students.ipynb#Y122sZmlsZQ%3D%3D?line=4'>5</a>\u001b[0m     res \u001b[39m=\u001b[39m requests\u001b[39m.\u001b[39mget(url)\u001b[39m.\u001b[39mjson()\n\u001b[1;32m----> <a href='vscode-notebook-cell:/c%3A/Users/mklos/My%20Drive/My%20Uni/Ko%C5%BAmin/Semester_4/python-applications/class_1/class_1_students.ipynb#Y122sZmlsZQ%3D%3D?line=5'>6</a>\u001b[0m     \u001b[39mfor\u001b[39;00m i, day \u001b[39min\u001b[39;00m \u001b[39menumerate\u001b[39m(res[\u001b[39m'\u001b[39;49m\u001b[39mlist\u001b[39;49m\u001b[39m'\u001b[39;49m]):\n\u001b[0;32m      <a href='vscode-notebook-cell:/c%3A/Users/mklos/My%20Drive/My%20Uni/Ko%C5%BAmin/Semester_4/python-applications/class_1/class_1_students.ipynb#Y122sZmlsZQ%3D%3D?line=6'>7</a>\u001b[0m         city_weather_list\u001b[39m.\u001b[39mappend({\n\u001b[0;32m      <a href='vscode-notebook-cell:/c%3A/Users/mklos/My%20Drive/My%20Uni/Ko%C5%BAmin/Semester_4/python-applications/class_1/class_1_students.ipynb#Y122sZmlsZQ%3D%3D?line=7'>8</a>\u001b[0m             \u001b[39m'\u001b[39m\u001b[39mCity\u001b[39m\u001b[39m'\u001b[39m: row[\u001b[39m'\u001b[39m\u001b[39mCapital\u001b[39m\u001b[39m'\u001b[39m],\n\u001b[0;32m      <a href='vscode-notebook-cell:/c%3A/Users/mklos/My%20Drive/My%20Uni/Ko%C5%BAmin/Semester_4/python-applications/class_1/class_1_students.ipynb#Y122sZmlsZQ%3D%3D?line=8'>9</a>\u001b[0m             \u001b[39m'\u001b[39m\u001b[39mCountry\u001b[39m\u001b[39m'\u001b[39m: row[\u001b[39m'\u001b[39m\u001b[39mCountry\u001b[39m\u001b[39m'\u001b[39m],\n\u001b[1;32m   (...)\u001b[0m\n\u001b[0;32m     <a href='vscode-notebook-cell:/c%3A/Users/mklos/My%20Drive/My%20Uni/Ko%C5%BAmin/Semester_4/python-applications/class_1/class_1_students.ipynb#Y122sZmlsZQ%3D%3D?line=12'>13</a>\u001b[0m             \u001b[39m'\u001b[39m\u001b[39mWind Speed\u001b[39m\u001b[39m'\u001b[39m: day[\u001b[39m'\u001b[39m\u001b[39mwind\u001b[39m\u001b[39m'\u001b[39m][\u001b[39m'\u001b[39m\u001b[39mspeed\u001b[39m\u001b[39m'\u001b[39m]\n\u001b[0;32m     <a href='vscode-notebook-cell:/c%3A/Users/mklos/My%20Drive/My%20Uni/Ko%C5%BAmin/Semester_4/python-applications/class_1/class_1_students.ipynb#Y122sZmlsZQ%3D%3D?line=13'>14</a>\u001b[0m         })\n\u001b[0;32m     <a href='vscode-notebook-cell:/c%3A/Users/mklos/My%20Drive/My%20Uni/Ko%C5%BAmin/Semester_4/python-applications/class_1/class_1_students.ipynb#Y122sZmlsZQ%3D%3D?line=15'>16</a>\u001b[0m city_weather_df \u001b[39m=\u001b[39m pd\u001b[39m.\u001b[39mDataFrame(city_weather_list)\n",
      "\u001b[1;31mKeyError\u001b[0m: 'list'"
     ]
    }
   ],
   "source": [
    "city_weather_list = []\n",
    "\n",
    "for index, row in eu_capital_cities[0:10].iterrows():\n",
    "    url = daily_forecast_url_builder(row['Latitude'], row['Longitude'])\n",
    "    res = requests.get(url).json()\n",
    "    for i, day in enumerate(res['list']):\n",
    "        city_weather_list.append({\n",
    "            'City': row['Capital'],\n",
    "            'Country': row['Country'],\n",
    "            'Date': day['dt_txt'],\n",
    "            'Temperature': day['main']['temp'],\n",
    "            'Humidity': day['main']['humidity'],\n",
    "            'Wind Speed': day['wind']['speed']\n",
    "        })\n",
    "        \n",
    "city_weather_df = pd.DataFrame(city_weather_list)\n",
    "        "
   ]
  },
  {
   "attachments": {},
   "cell_type": "markdown",
   "metadata": {},
   "source": [
    "Our final DataFrame:"
   ]
  },
  {
   "cell_type": "code",
   "execution_count": 68,
   "metadata": {},
   "outputs": [
    {
     "data": {
      "text/html": [
       "<div>\n",
       "<style scoped>\n",
       "    .dataframe tbody tr th:only-of-type {\n",
       "        vertical-align: middle;\n",
       "    }\n",
       "\n",
       "    .dataframe tbody tr th {\n",
       "        vertical-align: top;\n",
       "    }\n",
       "\n",
       "    .dataframe thead th {\n",
       "        text-align: right;\n",
       "    }\n",
       "</style>\n",
       "<table border=\"1\" class=\"dataframe\">\n",
       "  <thead>\n",
       "    <tr style=\"text-align: right;\">\n",
       "      <th></th>\n",
       "      <th>City</th>\n",
       "      <th>Country</th>\n",
       "      <th>Date</th>\n",
       "      <th>Temperature</th>\n",
       "      <th>Humidity</th>\n",
       "      <th>Wind Speed</th>\n",
       "    </tr>\n",
       "  </thead>\n",
       "  <tbody>\n",
       "    <tr>\n",
       "      <th>0</th>\n",
       "      <td>Tirana</td>\n",
       "      <td>Albania</td>\n",
       "      <td>2023-02-22 18:00:00</td>\n",
       "      <td>11.12</td>\n",
       "      <td>74</td>\n",
       "      <td>0.89</td>\n",
       "    </tr>\n",
       "    <tr>\n",
       "      <th>1</th>\n",
       "      <td>Tirana</td>\n",
       "      <td>Albania</td>\n",
       "      <td>2023-02-22 21:00:00</td>\n",
       "      <td>10.30</td>\n",
       "      <td>78</td>\n",
       "      <td>0.74</td>\n",
       "    </tr>\n",
       "    <tr>\n",
       "      <th>2</th>\n",
       "      <td>Tirana</td>\n",
       "      <td>Albania</td>\n",
       "      <td>2023-02-23 00:00:00</td>\n",
       "      <td>9.11</td>\n",
       "      <td>83</td>\n",
       "      <td>0.57</td>\n",
       "    </tr>\n",
       "    <tr>\n",
       "      <th>3</th>\n",
       "      <td>Tirana</td>\n",
       "      <td>Albania</td>\n",
       "      <td>2023-02-23 03:00:00</td>\n",
       "      <td>8.56</td>\n",
       "      <td>85</td>\n",
       "      <td>0.90</td>\n",
       "    </tr>\n",
       "    <tr>\n",
       "      <th>4</th>\n",
       "      <td>Tirana</td>\n",
       "      <td>Albania</td>\n",
       "      <td>2023-02-23 06:00:00</td>\n",
       "      <td>8.99</td>\n",
       "      <td>82</td>\n",
       "      <td>1.07</td>\n",
       "    </tr>\n",
       "  </tbody>\n",
       "</table>\n",
       "</div>"
      ],
      "text/plain": [
       "     City  Country                 Date  Temperature  Humidity  Wind Speed\n",
       "0  Tirana  Albania  2023-02-22 18:00:00        11.12        74        0.89\n",
       "1  Tirana  Albania  2023-02-22 21:00:00        10.30        78        0.74\n",
       "2  Tirana  Albania  2023-02-23 00:00:00         9.11        83        0.57\n",
       "3  Tirana  Albania  2023-02-23 03:00:00         8.56        85        0.90\n",
       "4  Tirana  Albania  2023-02-23 06:00:00         8.99        82        1.07"
      ]
     },
     "execution_count": 68,
     "metadata": {},
     "output_type": "execute_result"
    }
   ],
   "source": [
    "city_weather_df = pd.read_csv(r'C:\\Users\\mklos\\My Drive\\My Uni\\Koźmin\\Semester_4\\python-applications\\class_1\\cities_weather.csv')\n",
    "city_weather_df.drop(columns=['Unnamed: 0'], inplace=True)\n",
    "city_weather_df.head()"
   ]
  },
  {
   "attachments": {},
   "cell_type": "markdown",
   "metadata": {},
   "source": [
    "Save the DataFrame to a CSV file using the `to_csv()` method."
   ]
  },
  {
   "attachments": {},
   "cell_type": "markdown",
   "metadata": {},
   "source": [
    "### Transform\n",
    "\n",
    "The second step in the ETL process is to transform the data into a format suitable for analysis. We will transform by stripping the time from the date column. We will also find the minimum, maximum, and average temperature for Tirana."
   ]
  },
  {
   "cell_type": "code",
   "execution_count": 69,
   "metadata": {},
   "outputs": [],
   "source": [
    "# # Strip time from date\n",
    "city_weather_df['Date'] = city_weather_df['Date'].str.split(' ').str[0]"
   ]
  },
  {
   "cell_type": "code",
   "execution_count": 70,
   "metadata": {},
   "outputs": [
    {
     "data": {
      "text/plain": [
       "<AxesSubplot: xlabel='Date'>"
      ]
     },
     "execution_count": 70,
     "metadata": {},
     "output_type": "execute_result"
    },
    {
     "data": {
      "image/png": "[encoded data removed]",
      "text/plain": [
       "<Figure size 432x288 with 1 Axes>"
      ]
     },
     "metadata": {
      "needs_background": "light"
     },
     "output_type": "display_data"
    }
   ],
   "source": [
    "# Find the average, min and max temperature for Tirana for each day\n",
    "city_weather_df[city_weather_df['City'] == 'Tirana'].groupby('Date').agg({\n",
    "    'Temperature': ['mean', 'min', 'max']\n",
    "}).plot()"
   ]
  },
  {
   "attachments": {},
   "cell_type": "markdown",
   "metadata": {},
   "source": [
    "### <span style=\"color:red\">**TASK 2**</span>\n",
    "\n",
    "- Find a city with the highest average temperature. What is the name of the city and what is the average temperature?\n",
    "- Find a city in the DataFrame that has the most often cloudy weather. What is the name of the city and what is the percentage of cloudy days?"
   ]
  },
  {
   "cell_type": "code",
   "execution_count": 71,
   "metadata": {},
   "outputs": [
    {
     "data": {
      "text/html": [
       "<div>\n",
       "<style scoped>\n",
       "    .dataframe tbody tr th:only-of-type {\n",
       "        vertical-align: middle;\n",
       "    }\n",
       "\n",
       "    .dataframe tbody tr th {\n",
       "        vertical-align: top;\n",
       "    }\n",
       "\n",
       "    .dataframe thead th {\n",
       "        text-align: right;\n",
       "    }\n",
       "</style>\n",
       "<table border=\"1\" class=\"dataframe\">\n",
       "  <thead>\n",
       "    <tr style=\"text-align: right;\">\n",
       "      <th></th>\n",
       "      <th>City</th>\n",
       "      <th>Country</th>\n",
       "      <th>Date</th>\n",
       "      <th>Temperature</th>\n",
       "      <th>Humidity</th>\n",
       "      <th>Wind Speed</th>\n",
       "    </tr>\n",
       "  </thead>\n",
       "  <tbody>\n",
       "    <tr>\n",
       "      <th>0</th>\n",
       "      <td>Tirana</td>\n",
       "      <td>Albania</td>\n",
       "      <td>2023-02-22</td>\n",
       "      <td>11.12</td>\n",
       "      <td>74</td>\n",
       "      <td>0.89</td>\n",
       "    </tr>\n",
       "    <tr>\n",
       "      <th>1</th>\n",
       "      <td>Tirana</td>\n",
       "      <td>Albania</td>\n",
       "      <td>2023-02-22</td>\n",
       "      <td>10.30</td>\n",
       "      <td>78</td>\n",
       "      <td>0.74</td>\n",
       "    </tr>\n",
       "    <tr>\n",
       "      <th>2</th>\n",
       "      <td>Tirana</td>\n",
       "      <td>Albania</td>\n",
       "      <td>2023-02-23</td>\n",
       "      <td>9.11</td>\n",
       "      <td>83</td>\n",
       "      <td>0.57</td>\n",
       "    </tr>\n",
       "    <tr>\n",
       "      <th>3</th>\n",
       "      <td>Tirana</td>\n",
       "      <td>Albania</td>\n",
       "      <td>2023-02-23</td>\n",
       "      <td>8.56</td>\n",
       "      <td>85</td>\n",
       "      <td>0.90</td>\n",
       "    </tr>\n",
       "    <tr>\n",
       "      <th>4</th>\n",
       "      <td>Tirana</td>\n",
       "      <td>Albania</td>\n",
       "      <td>2023-02-23</td>\n",
       "      <td>8.99</td>\n",
       "      <td>82</td>\n",
       "      <td>1.07</td>\n",
       "    </tr>\n",
       "    <tr>\n",
       "      <th>...</th>\n",
       "      <td>...</td>\n",
       "      <td>...</td>\n",
       "      <td>...</td>\n",
       "      <td>...</td>\n",
       "      <td>...</td>\n",
       "      <td>...</td>\n",
       "    </tr>\n",
       "    <tr>\n",
       "      <th>1755</th>\n",
       "      <td>London</td>\n",
       "      <td>United Kingdom</td>\n",
       "      <td>2023-02-27</td>\n",
       "      <td>1.78</td>\n",
       "      <td>66</td>\n",
       "      <td>3.06</td>\n",
       "    </tr>\n",
       "    <tr>\n",
       "      <th>1756</th>\n",
       "      <td>London</td>\n",
       "      <td>United Kingdom</td>\n",
       "      <td>2023-02-27</td>\n",
       "      <td>1.28</td>\n",
       "      <td>70</td>\n",
       "      <td>2.52</td>\n",
       "    </tr>\n",
       "    <tr>\n",
       "      <th>1757</th>\n",
       "      <td>London</td>\n",
       "      <td>United Kingdom</td>\n",
       "      <td>2023-02-27</td>\n",
       "      <td>3.10</td>\n",
       "      <td>63</td>\n",
       "      <td>2.94</td>\n",
       "    </tr>\n",
       "    <tr>\n",
       "      <th>1758</th>\n",
       "      <td>London</td>\n",
       "      <td>United Kingdom</td>\n",
       "      <td>2023-02-27</td>\n",
       "      <td>6.36</td>\n",
       "      <td>52</td>\n",
       "      <td>3.89</td>\n",
       "    </tr>\n",
       "    <tr>\n",
       "      <th>1759</th>\n",
       "      <td>London</td>\n",
       "      <td>United Kingdom</td>\n",
       "      <td>2023-02-27</td>\n",
       "      <td>6.33</td>\n",
       "      <td>61</td>\n",
       "      <td>3.98</td>\n",
       "    </tr>\n",
       "  </tbody>\n",
       "</table>\n",
       "<p>1760 rows × 6 columns</p>\n",
       "</div>"
      ],
      "text/plain": [
       "        City         Country        Date  Temperature  Humidity  Wind Speed\n",
       "0     Tirana         Albania  2023-02-22        11.12        74        0.89\n",
       "1     Tirana         Albania  2023-02-22        10.30        78        0.74\n",
       "2     Tirana         Albania  2023-02-23         9.11        83        0.57\n",
       "3     Tirana         Albania  2023-02-23         8.56        85        0.90\n",
       "4     Tirana         Albania  2023-02-23         8.99        82        1.07\n",
       "...      ...             ...         ...          ...       ...         ...\n",
       "1755  London  United Kingdom  2023-02-27         1.78        66        3.06\n",
       "1756  London  United Kingdom  2023-02-27         1.28        70        2.52\n",
       "1757  London  United Kingdom  2023-02-27         3.10        63        2.94\n",
       "1758  London  United Kingdom  2023-02-27         6.36        52        3.89\n",
       "1759  London  United Kingdom  2023-02-27         6.33        61        3.98\n",
       "\n",
       "[1760 rows x 6 columns]"
      ]
     },
     "execution_count": 71,
     "metadata": {},
     "output_type": "execute_result"
    }
   ],
   "source": [
    "city_weather_df"
   ]
  },
  {
   "cell_type": "code",
   "execution_count": 74,
   "metadata": {},
   "outputs": [
    {
     "data": {
      "text/plain": [
       "<AxesSubplot: xlabel='City'>"
      ]
     },
     "execution_count": 74,
     "metadata": {},
     "output_type": "execute_result"
    },
    {
     "data": {
      "image/png": "[encoded data removed]",
      "text/plain": [
       "<Figure size 432x288 with 1 Axes>"
      ]
     },
     "metadata": {
      "needs_background": "light"
     },
     "output_type": "display_data"
    }
   ],
   "source": [
    "city_weather_df.groupby('City').agg({\n",
    "    'Temperature': 'mean'\n",
    "}).sort_values(by='Temperature', ascending=False).head(10).plot(kind='bar')"
   ]
  },
  {
   "cell_type": "code",
   "execution_count": null,
   "metadata": {},
   "outputs": [],
   "source": [
    "city_weather_df['Weather'] = city_weather_df['Weather'].str.split(',').str[0]\n",
    "city_weather_df.groupby('City').agg({\n",
    "    'Weather': lambda x: (x == 'Clouds').sum() / x.count()\n",
    "}).sort_values(by='Weather', ascending=False).head(1)\n"
   ]
  },
  {
   "attachments": {},
   "cell_type": "markdown",
   "metadata": {},
   "source": [
    "### Load\n",
    "\n",
    "Here's an example of how you could save a Pandas DataFrame to a SQLite database using SQLAlchemy, and then read it back:\n"
   ]
  },
  {
   "cell_type": "code",
   "execution_count": null,
   "metadata": {},
   "outputs": [],
   "source": [
    "city_weather_df.to_csv('european_capitals_weather.csv', index=False)"
   ]
  },
  {
   "cell_type": "code",
   "execution_count": null,
   "metadata": {},
   "outputs": [],
   "source": [
    "from sqlalchemy import create_engine, text\n",
    "\n",
    "# Create an SQLite database engine\n",
    "engine = create_engine('sqlite:///weather.db')\n",
    "city_weather_df.to_sql('weather_data', engine, if_exists='replace')\n",
    "\n",
    "\n",
    "query = 'SELECT * FROM weather_data'\n",
    "\n",
    "city_weather_df_from_sql = pd.read_sql_query(sql=text(query), con=engine.connect())\n"
   ]
  },
  {
   "attachments": {},
   "cell_type": "markdown",
   "metadata": {},
   "source": [
    "In this example, the pandas library is used to create a DataFrame and save it to a SQLite database using SQLAlchemy. \n",
    "\n",
    "The `create_engine` function is used to create a SQLAlchemy engine that connects to the SQLite database `weather.db`. The `city_weather_df.to_sql` method is used to save the DataFrame to a table named `weather_data` in the database. If the table already exists, it will be replaced. \n",
    " \n",
    "The `pd.read_sql_table` function is used to read the data from the SQLite database back into a DataFrame, and the print function is used to display the contents of the DataFrame."
   ]
  },
  {
   "cell_type": "code",
   "execution_count": null,
   "metadata": {},
   "outputs": [],
   "source": [
    "city_weather_df_from_sql"
   ]
  },
  {
   "attachments": {},
   "cell_type": "markdown",
   "metadata": {},
   "source": [
    "### <span style=\"color:red\">**TASK 3**</span>\n",
    "\n",
    "- Register to Alpha Vantage API and get your API key.\n",
    "- Make a GET request to the Alpha Vantage API to get the daily time series for the following companies: \n",
    "  - Apple\n",
    "  - Microsoft\n",
    "  - Amazon\n",
    "  - Facebook\n",
    "  - Google\n",
    "- The API request will return a JSON response, which you will convert into a Pandas DataFrame.\n",
    "- Save the DataFrame to a CSV file using the `to_csv()` method.\n"
   ]
  },
  {
   "cell_type": "code",
   "execution_count": null,
   "metadata": {},
   "outputs": [],
   "source": [
    "# Code goes here"
   ]
  },
  {
   "attachments": {},
   "cell_type": "markdown",
   "metadata": {},
   "source": [
    "### <span style=\"color:red\">**HOMEWORK**</span>\n",
    "\n",
    "Use [Alpha Vantage](https://www.alphavantage.co/documentation/) API to get the stock data from the previous year for the 10 companies of your choice. \n",
    "\n",
    "Calculate returns for each company and sort the companies by the highest return. Save your findings in the data to a SQLite database.\n",
    "\n",
    "\n",
    "## To broaden your knowledge\n",
    "---\n",
    "### Python\n",
    "- [Python for Everybody](https://www.py4e.com/)\n",
    "\n",
    "### APIs\n",
    "- [Placeholder API](https://jsonplaceholder.typicode.com/)\n",
    "- [APIs for Beginners](https://www.youtube.com/watch?v=s7wmiS2mSXY)\n",
    "- [Many open APIs you can try yourself](https://rapidapi.com/hub)\n",
    "\n",
    "### References\n",
    "\n",
    "- https://shardeum.org/blog/physical-layer-in-osi-model/"
   ]
  },
  {
   "cell_type": "code",
   "execution_count": 2,
   "metadata": {},
   "outputs": [
    {
     "ename": "KeyError",
     "evalue": "'Time Series (Daily)'",
     "output_type": "error",
     "traceback": [
      "\u001b[1;31m---------------------------------------------------------------------------\u001b[0m",
      "\u001b[1;31mKeyError\u001b[0m                                  Traceback (most recent call last)",
      "\u001b[1;32mc:\\Users\\mklos\\My Drive\\My Uni\\Koźmin\\Semester_4\\python-applications\\class_1\\class_1_students.ipynb Cell 85\u001b[0m in \u001b[0;36m<cell line: 32>\u001b[1;34m()\u001b[0m\n\u001b[0;32m     <a href='vscode-notebook-cell:/c%3A/Users/mklos/My%20Drive/My%20Uni/Ko%C5%BAmin/Semester_4/python-applications/class_1/class_1_students.ipynb#Y150sZmlsZQ%3D%3D?line=30'>31</a>\u001b[0m dfs \u001b[39m=\u001b[39m []\n\u001b[0;32m     <a href='vscode-notebook-cell:/c%3A/Users/mklos/My%20Drive/My%20Uni/Ko%C5%BAmin/Semester_4/python-applications/class_1/class_1_students.ipynb#Y150sZmlsZQ%3D%3D?line=31'>32</a>\u001b[0m \u001b[39mfor\u001b[39;00m symbol \u001b[39min\u001b[39;00m symbols:\n\u001b[1;32m---> <a href='vscode-notebook-cell:/c%3A/Users/mklos/My%20Drive/My%20Uni/Ko%C5%BAmin/Semester_4/python-applications/class_1/class_1_students.ipynb#Y150sZmlsZQ%3D%3D?line=32'>33</a>\u001b[0m     df \u001b[39m=\u001b[39m get_stock_data(symbol)\n\u001b[0;32m     <a href='vscode-notebook-cell:/c%3A/Users/mklos/My%20Drive/My%20Uni/Ko%C5%BAmin/Semester_4/python-applications/class_1/class_1_students.ipynb#Y150sZmlsZQ%3D%3D?line=33'>34</a>\u001b[0m     df[\u001b[39m'\u001b[39m\u001b[39msymbol\u001b[39m\u001b[39m'\u001b[39m] \u001b[39m=\u001b[39m symbol\n\u001b[0;32m     <a href='vscode-notebook-cell:/c%3A/Users/mklos/My%20Drive/My%20Uni/Ko%C5%BAmin/Semester_4/python-applications/class_1/class_1_students.ipynb#Y150sZmlsZQ%3D%3D?line=34'>35</a>\u001b[0m     dfs\u001b[39m.\u001b[39mappend(df)\n",
      "\u001b[1;32mc:\\Users\\mklos\\My Drive\\My Uni\\Koźmin\\Semester_4\\python-applications\\class_1\\class_1_students.ipynb Cell 85\u001b[0m in \u001b[0;36mget_stock_data\u001b[1;34m(symbol)\u001b[0m\n\u001b[0;32m     <a href='vscode-notebook-cell:/c%3A/Users/mklos/My%20Drive/My%20Uni/Ko%C5%BAmin/Semester_4/python-applications/class_1/class_1_students.ipynb#Y150sZmlsZQ%3D%3D?line=18'>19</a>\u001b[0m response \u001b[39m=\u001b[39m requests\u001b[39m.\u001b[39mget(api_url, params\u001b[39m=\u001b[39mdata)\n\u001b[0;32m     <a href='vscode-notebook-cell:/c%3A/Users/mklos/My%20Drive/My%20Uni/Ko%C5%BAmin/Semester_4/python-applications/class_1/class_1_students.ipynb#Y150sZmlsZQ%3D%3D?line=19'>20</a>\u001b[0m json_data \u001b[39m=\u001b[39m json\u001b[39m.\u001b[39mloads(response\u001b[39m.\u001b[39mtext)\n\u001b[1;32m---> <a href='vscode-notebook-cell:/c%3A/Users/mklos/My%20Drive/My%20Uni/Ko%C5%BAmin/Semester_4/python-applications/class_1/class_1_students.ipynb#Y150sZmlsZQ%3D%3D?line=20'>21</a>\u001b[0m df \u001b[39m=\u001b[39m pd\u001b[39m.\u001b[39mDataFrame\u001b[39m.\u001b[39mfrom_dict(json_data[\u001b[39m'\u001b[39;49m\u001b[39mTime Series (Daily)\u001b[39;49m\u001b[39m'\u001b[39;49m], orient\u001b[39m=\u001b[39m\u001b[39m'\u001b[39m\u001b[39mindex\u001b[39m\u001b[39m'\u001b[39m)\n\u001b[0;32m     <a href='vscode-notebook-cell:/c%3A/Users/mklos/My%20Drive/My%20Uni/Ko%C5%BAmin/Semester_4/python-applications/class_1/class_1_students.ipynb#Y150sZmlsZQ%3D%3D?line=21'>22</a>\u001b[0m df\u001b[39m.\u001b[39mindex \u001b[39m=\u001b[39m pd\u001b[39m.\u001b[39mto_datetime(df\u001b[39m.\u001b[39mindex)\n\u001b[0;32m     <a href='vscode-notebook-cell:/c%3A/Users/mklos/My%20Drive/My%20Uni/Ko%C5%BAmin/Semester_4/python-applications/class_1/class_1_students.ipynb#Y150sZmlsZQ%3D%3D?line=22'>23</a>\u001b[0m df \u001b[39m=\u001b[39m df\u001b[39m.\u001b[39mastype(\u001b[39mfloat\u001b[39m)\n",
      "\u001b[1;31mKeyError\u001b[0m: 'Time Series (Daily)'"
     ]
    }
   ],
   "source": [
    "import pandas as pd\n",
    "import requests\n",
    "import json\n",
    "import sqlite3\n",
    "from datetime import datetime, timedelta\n",
    "\n",
    "\n",
    "api_key = '1EB5YFRWY9IE304U'\n",
    "api_url = 'https://www.alphavantage.co/query'\n",
    "\n",
    "def get_stock_data(symbol):\n",
    "    data = {\n",
    "        'function': 'TIME_SERIES_DAILY_ADJUSTED',\n",
    "        'symbol': symbol,\n",
    "        'outputsize': 'full',\n",
    "        'datatype': 'json',\n",
    "        'apikey': api_key\n",
    "    }\n",
    "    response = requests.get(api_url, params=data)\n",
    "    json_data = json.loads(response.text)\n",
    "    df = pd.DataFrame.from_dict(json_data['Time Series (Daily)'], orient='index')\n",
    "    df.index = pd.to_datetime(df.index)\n",
    "    df = df.astype(float)\n",
    "    df = df.loc[(datetime.now() - timedelta(days=365)):datetime.now()]\n",
    "    df.sort_index(ascending=True, inplace=True)\n",
    "    df.reset_index(inplace=True)\n",
    "    df.rename(columns={'index': 'date', '1. open': 'open', '2. high': 'high', '3. low': 'low', '4. close': 'close', '5. adjusted close': 'adjusted_close', '6. volume': 'volume', '7. dividend amount': 'dividend_amount', '8. split coefficient': 'split_coefficient'}, inplace=True)\n",
    "    return df\n",
    "\n",
    "symbols = ['AAPL', 'AMZN', 'FB', 'GOOGL', 'MSFT', 'NFLX', 'NVDA', 'TSLA', 'V', 'WMT']\n",
    "dfs = []\n",
    "for symbol in symbols:\n",
    "    df = get_stock_data(symbol)\n",
    "    df['symbol'] = symbol\n",
    "    dfs.append(df)\n",
    "df = pd.concat(dfs, ignore_index=True)\n",
    "\n",
    "returns = []\n",
    "for symbol in symbols:\n",
    "    df = df[df['symbol'] == symbol]\n",
    "    start_price = df.iloc[0]['adjusted_close']\n",
    "    end_price = df.iloc[-1]['adjusted_close']\n",
    "    return_value = (end_price - start_price) / start_price\n",
    "    returns.append(return_value)\n",
    "df_returns = pd.DataFrame({'symbol': symbols, 'return': returns})\n",
    "df_returns.sort_values(by='return', ascending=False, inplace=True)"
   ]
  },
  {
   "cell_type": "code",
   "execution_count": null,
   "metadata": {},
   "outputs": [],
   "source": []
  }
 ],
 "metadata": {
  "kernelspec": {
   "display_name": "Python 3",
   "language": "python",
   "name": "python3"
  },
  "language_info": {
   "codemirror_mode": {
    "name": "ipython",
    "version": 3
   },
   "file_extension": ".py",
   "mimetype": "text/x-python",
   "name": "python",
   "nbconvert_exporter": "python",
   "pygments_lexer": "ipython3",
   "version": "3.9.0"
  },
  "orig_nbformat": 4,
  "vscode": {
   "interpreter": {
    "hash": "fc06fe0fdd5ea9ad64ed95043871304d883246c697d8d3f458b27d6c57bc6b6e"
   }
  }
 },
 "nbformat": 4,
 "nbformat_minor": 2
}
